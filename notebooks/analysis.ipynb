{
 "cells": [
  {
   "cell_type": "markdown",
   "metadata": {},
   "source": [
    "# Data Modelling"
   ]
  },
  {
   "cell_type": "code",
   "execution_count": 3,
   "metadata": {},
   "outputs": [],
   "source": [
    "// Add dependencies from Cargo.toml\n",
    ":dep polars = { version = \"0.39.2\", features = [\"lazy\", \"temporal\", \"describe\", \"json\", \"parquet\", \"dtype-datetime\"] }\n"
   ]
  },
  {
   "cell_type": "code",
   "execution_count": 4,
   "metadata": {},
   "outputs": [],
   "source": [
    "// Import libraries\n",
    "use polars::prelude::*;"
   ]
  },
  {
   "cell_type": "markdown",
   "metadata": {},
   "source": [
    "##### Reading CSV"
   ]
  },
  {
   "cell_type": "code",
   "execution_count": 5,
   "metadata": {},
   "outputs": [
    {
     "data": {
      "text/plain": [
       "shape: (9_668, 12)\n",
       "┌─────────┬─────────┬─────────────┬─────────────┬───┬────────┬───────────┬────────────┬────────────┐\n",
       "│ show_id ┆ type    ┆ title       ┆ director    ┆ … ┆ rating ┆ duration  ┆ listed_in  ┆ descriptio │\n",
       "│ ---     ┆ ---     ┆ ---         ┆ ---         ┆   ┆ ---    ┆ ---       ┆ ---        ┆ n          │\n",
       "│ str     ┆ str     ┆ str         ┆ str         ┆   ┆ str    ┆ str       ┆ str        ┆ ---        │\n",
       "│         ┆         ┆             ┆             ┆   ┆        ┆           ┆            ┆ str        │\n",
       "╞═════════╪═════════╪═════════════╪═════════════╪═══╪════════╪═══════════╪════════════╪════════════╡\n",
       "│ s1      ┆ Movie   ┆ The Grand   ┆ Don         ┆ … ┆ null   ┆ 113 min   ┆ Comedy,    ┆ A small    │\n",
       "│         ┆         ┆ Seduction   ┆ McKellar    ┆   ┆        ┆           ┆ Drama      ┆ fishing    │\n",
       "│         ┆         ┆             ┆             ┆   ┆        ┆           ┆            ┆ village    │\n",
       "│         ┆         ┆             ┆             ┆   ┆        ┆           ┆            ┆ must pro…  │\n",
       "│ s2      ┆ Movie   ┆ Take Care   ┆ Girish      ┆ … ┆ 13+    ┆ 110 min   ┆ Drama, Int ┆ A Metro    │\n",
       "│         ┆         ┆ Good Night  ┆ Joshi       ┆   ┆        ┆           ┆ ernational ┆ Family     │\n",
       "│         ┆         ┆             ┆             ┆   ┆        ┆           ┆            ┆ decides to │\n",
       "│         ┆         ┆             ┆             ┆   ┆        ┆           ┆            ┆ fight …    │\n",
       "│ s3      ┆ Movie   ┆ Secrets of  ┆ Josh Webber ┆ … ┆ null   ┆ 74 min    ┆ Action,    ┆ After a    │\n",
       "│         ┆         ┆ Deception   ┆             ┆   ┆        ┆           ┆ Drama,     ┆ man        │\n",
       "│         ┆         ┆             ┆             ┆   ┆        ┆           ┆ Suspense   ┆ discovers  │\n",
       "│         ┆         ┆             ┆             ┆   ┆        ┆           ┆            ┆ his wife   │\n",
       "│         ┆         ┆             ┆             ┆   ┆        ┆           ┆            ┆ i…         │\n",
       "│ s4      ┆ Movie   ┆ Pink:       ┆ Sonia       ┆ … ┆ null   ┆ 69 min    ┆ Documentar ┆ Pink       │\n",
       "│         ┆         ┆ Staying     ┆ Anderson    ┆   ┆        ┆           ┆ y          ┆ breaks the │\n",
       "│         ┆         ┆ True        ┆             ┆   ┆        ┆           ┆            ┆ mold once  │\n",
       "│         ┆         ┆             ┆             ┆   ┆        ┆           ┆            ┆ again,…    │\n",
       "│ s5      ┆ Movie   ┆ Monster     ┆ Giles       ┆ … ┆ null   ┆ 45 min    ┆ Drama,     ┆ Teenage    │\n",
       "│         ┆         ┆ Maker       ┆ Foster      ┆   ┆        ┆           ┆ Fantasy    ┆ Matt       │\n",
       "│         ┆         ┆             ┆             ┆   ┆        ┆           ┆            ┆ Banting    │\n",
       "│         ┆         ┆             ┆             ┆   ┆        ┆           ┆            ┆ wants to   │\n",
       "│         ┆         ┆             ┆             ┆   ┆        ┆           ┆            ┆ wo…        │\n",
       "│ …       ┆ …       ┆ …           ┆ …           ┆ … ┆ …      ┆ …         ┆ …          ┆ …          │\n",
       "│ s9664   ┆ Movie   ┆ Pride Of    ┆ Joseph H.   ┆ … ┆ 7+     ┆ 60 min    ┆ Comedy     ┆ New York   │\n",
       "│         ┆         ┆ The Bowery  ┆ Lewis       ┆   ┆        ┆           ┆            ┆ City       │\n",
       "│         ┆         ┆             ┆             ┆   ┆        ┆           ┆            ┆ street     │\n",
       "│         ┆         ┆             ┆             ┆   ┆        ┆           ┆            ┆ principles │\n",
       "│         ┆         ┆             ┆             ┆   ┆        ┆           ┆            ┆ …          │\n",
       "│ s9665   ┆ TV Show ┆ Planet      ┆ null        ┆ … ┆ 13+    ┆ 4 Seasons ┆ TV Shows   ┆ This is    │\n",
       "│         ┆         ┆ Patrol      ┆             ┆   ┆        ┆           ┆            ┆ Earth,     │\n",
       "│         ┆         ┆             ┆             ┆   ┆        ┆           ┆            ┆ 2100AD -   │\n",
       "│         ┆         ┆             ┆             ┆   ┆        ┆           ┆            ┆ and thes…  │\n",
       "│ s9666   ┆ Movie   ┆ Outpost     ┆ Steve       ┆ … ┆ R      ┆ 90 min    ┆ Action     ┆ In         │\n",
       "│         ┆         ┆             ┆ Barker      ┆   ┆        ┆           ┆            ┆ war-torn   │\n",
       "│         ┆         ┆             ┆             ┆   ┆        ┆           ┆            ┆ Eastern    │\n",
       "│         ┆         ┆             ┆             ┆   ┆        ┆           ┆            ┆ Europe, a  │\n",
       "│         ┆         ┆             ┆             ┆   ┆        ┆           ┆            ┆ wo…        │\n",
       "│ s9667   ┆ TV Show ┆ Maradona:   ┆ null        ┆ … ┆ TV-MA  ┆ 1 Season  ┆ Drama,     ┆ The series │\n",
       "│         ┆         ┆ Blessed     ┆             ┆   ┆        ┆           ┆ Sports     ┆ tells the  │\n",
       "│         ┆         ┆ Dream       ┆             ┆   ┆        ┆           ┆            ┆ story of   │\n",
       "│         ┆         ┆             ┆             ┆   ┆        ┆           ┆            ┆ Di…        │\n",
       "│ s9668   ┆ Movie   ┆ Harry Brown ┆ Daniel      ┆ … ┆ R      ┆ 103 min   ┆ Action,    ┆ Harry      │\n",
       "│         ┆         ┆             ┆ Barber      ┆   ┆        ┆           ┆ Drama,     ┆ Brown,     │\n",
       "│         ┆         ┆             ┆             ┆   ┆        ┆           ┆ Suspense   ┆ starring   │\n",
       "│         ┆         ┆             ┆             ┆   ┆        ┆           ┆            ┆ two-time   │\n",
       "│         ┆         ┆             ┆             ┆   ┆        ┆           ┆            ┆ A…         │\n",
       "└─────────┴─────────┴─────────────┴─────────────┴───┴────────┴───────────┴────────────┴────────────┘"
      ]
     },
     "execution_count": 5,
     "metadata": {},
     "output_type": "execute_result"
    }
   ],
   "source": [
    "let dataset = LazyCsvReader::new(\"./data/amazon_prime_titles.csv\")\n",
    "        .has_header(true)\n",
    "        .finish()\n",
    "        .unwrap();\n",
    "\n",
    "let df = dataset.clone().collect().unwrap();\n",
    "\n",
    "df"
   ]
  },
  {
   "cell_type": "markdown",
   "metadata": {},
   "source": [
    "##### Schema"
   ]
  },
  {
   "cell_type": "code",
   "execution_count": 37,
   "metadata": {},
   "outputs": [
    {
     "data": {
      "text/plain": [
       "Schema:\n",
       "name: show_id, data type: String\n",
       "name: type, data type: String\n",
       "name: title, data type: String\n",
       "name: director, data type: String\n",
       "name: cast, data type: String\n",
       "name: country, data type: String\n",
       "name: date_added, data type: String\n",
       "name: release_year, data type: Int64\n",
       "name: rating, data type: String\n",
       "name: duration, data type: String\n",
       "name: listed_in, data type: String\n",
       "name: description, data type: String\n"
      ]
     },
     "execution_count": 37,
     "metadata": {},
     "output_type": "execute_result"
    }
   ],
   "source": [
    "df.schema()"
   ]
  },
  {
   "cell_type": "markdown",
   "metadata": {},
   "source": [
    "##### Selecting Columns"
   ]
  },
  {
   "cell_type": "code",
   "execution_count": 6,
   "metadata": {},
   "outputs": [
    {
     "name": "stdout",
     "output_type": "stream",
     "text": [
      "shape: (9_668, 2)\n"
     ]
    },
    {
     "name": "stdout",
     "output_type": "stream",
     "text": [
      "┌─────────┬─────────┐\n",
      "│ show_id ┆ type    │\n",
      "│ ---     ┆ ---     │\n",
      "│ str     ┆ str     │\n",
      "╞═════════╪═════════╡\n",
      "│ s1      ┆ Movie   │\n",
      "│ s2      ┆ Movie   │\n",
      "│ s3      ┆ Movie   │\n",
      "│ s4      ┆ Movie   │\n",
      "│ s5      ┆ Movie   │\n",
      "│ …       ┆ …       │\n",
      "│ s9664   ┆ Movie   │\n",
      "│ s9665   ┆ TV Show │\n",
      "│ s9666   ┆ Movie   │\n",
      "│ s9667   ┆ TV Show │\n",
      "│ s9668   ┆ Movie   │\n",
      "└─────────┴─────────┘\n"
     ]
    }
   ],
   "source": [
    "let df_types = df.clone().lazy().select([\n",
    "    col(\"show_id\"),\n",
    "    col(\"type\"),\n",
    "]).collect().unwrap();\n",
    "\n",
    "println!(\"{:?}\", df_types);"
   ]
  },
  {
   "cell_type": "markdown",
   "metadata": {},
   "source": [
    "##### GroupBy Aggregation"
   ]
  },
  {
   "cell_type": "code",
   "execution_count": 7,
   "metadata": {},
   "outputs": [
    {
     "name": "stdout",
     "output_type": "stream",
     "text": [
      "shape: (2, 2)\n",
      "┌─────────┬────────┐\n",
      "│ type    ┆ unique │\n",
      "│ ---     ┆ ---    │\n",
      "│ str     ┆ u32    │\n",
      "╞═════════╪════════╡\n",
      "│ TV Show ┆ 1854   │\n",
      "│ Movie   ┆ 7814   │\n",
      "└─────────┴────────┘\n"
     ]
    }
   ],
   "source": [
    "let df_types_grouped = df.clone().lazy()\n",
    "    .group_by([\"type\"])\n",
    "    .agg(vec![\n",
    "        col(\"type\").count().alias(\"unique\")\n",
    "    ])\n",
    "    .collect()\n",
    "    .unwrap();\n",
    "\n",
    "println!(\"{:?}\", df_types_grouped);"
   ]
  },
  {
   "cell_type": "code",
   "execution_count": 9,
   "metadata": {},
   "outputs": [
    {
     "ename": "Error",
     "evalue": "no field `str` on type `Expr`",
     "output_type": "error",
     "traceback": [
      "\u001b[31m[E0609] Error:\u001b[0m no field `str` on type `Expr`",
      "   \u001b[38;5;246m╭\u001b[0m\u001b[38;5;246m─\u001b[0m\u001b[38;5;246m[\u001b[0mcommand_9:1:1\u001b[38;5;246m]\u001b[0m",
      "   \u001b[38;5;246m│\u001b[0m",
      " \u001b[38;5;246m7 │\u001b[0m \u001b[38;5;249m \u001b[0m\u001b[38;5;249m \u001b[0m\u001b[38;5;249m \u001b[0m\u001b[38;5;249m \u001b[0m\u001b[38;5;249m \u001b[0m\u001b[38;5;249m \u001b[0m\u001b[38;5;249m \u001b[0m\u001b[38;5;249m \u001b[0m\u001b[38;5;249m \u001b[0m\u001b[38;5;249m \u001b[0m\u001b[38;5;249m \u001b[0m\u001b[38;5;249m \u001b[0m\u001b[38;5;249m \u001b[0m\u001b[38;5;249m \u001b[0m\u001b[38;5;249m \u001b[0m\u001b[38;5;249m \u001b[0m\u001b[38;5;249m.\u001b[0m\u001b[38;5;54ms\u001b[0m\u001b[38;5;54mt\u001b[0m\u001b[38;5;54mr\u001b[0m",
      " \u001b[38;5;240m  │\u001b[0m                  \u001b[38;5;54m─\u001b[0m\u001b[38;5;54m┬\u001b[0m\u001b[38;5;54m─\u001b[0m  ",
      " \u001b[38;5;240m  │\u001b[0m                   \u001b[38;5;54m╰\u001b[0m\u001b[38;5;54m─\u001b[0m\u001b[38;5;54m─\u001b[0m\u001b[38;5;54m─\u001b[0m unknown field",
      "\u001b[38;5;246m───╯\u001b[0m"
     ]
    },
    {
     "ename": "Error",
     "evalue": "the trait bound `Expr: From<u8>` is not satisfied",
     "output_type": "error",
     "traceback": [
      "\u001b[31m[E0277] Error:\u001b[0m the trait bound `Expr: From<u8>` is not satisfied",
      "    \u001b[38;5;246m╭\u001b[0m\u001b[38;5;246m─\u001b[0m\u001b[38;5;246m[\u001b[0mcommand_9:1:1\u001b[38;5;246m]\u001b[0m",
      "    \u001b[38;5;246m│\u001b[0m",
      " \u001b[38;5;246m11 │\u001b[0m \u001b[38;5;249m \u001b[0m\u001b[38;5;249m \u001b[0m\u001b[38;5;249m \u001b[0m\u001b[38;5;249m \u001b[0m\u001b[38;5;249m \u001b[0m\u001b[38;5;249m \u001b[0m\u001b[38;5;249m \u001b[0m\u001b[38;5;249m \u001b[0m\u001b[38;5;249m.\u001b[0m\u001b[38;5;54me\u001b[0m\u001b[38;5;54mx\u001b[0m\u001b[38;5;54mp\u001b[0m\u001b[38;5;54ml\u001b[0m\u001b[38;5;54mo\u001b[0m\u001b[38;5;54md\u001b[0m\u001b[38;5;54me\u001b[0m\u001b[38;5;249m(\u001b[0m\u001b[38;5;249m\"\u001b[0m\u001b[38;5;249ml\u001b[0m\u001b[38;5;249mi\u001b[0m\u001b[38;5;249ms\u001b[0m\u001b[38;5;249mt\u001b[0m\u001b[38;5;249me\u001b[0m\u001b[38;5;249md\u001b[0m\u001b[38;5;249m_\u001b[0m\u001b[38;5;249mi\u001b[0m\u001b[38;5;249mn\u001b[0m\u001b[38;5;249m\"\u001b[0m\u001b[38;5;249m)\u001b[0m\u001b[38;5;249m \u001b[0m\u001b[38;5;249m/\u001b[0m\u001b[38;5;249m/\u001b[0m\u001b[38;5;249m \u001b[0m\u001b[38;5;249mE\u001b[0m\u001b[38;5;249mx\u001b[0m\u001b[38;5;249mp\u001b[0m\u001b[38;5;249ml\u001b[0m\u001b[38;5;249mo\u001b[0m\u001b[38;5;249md\u001b[0m\u001b[38;5;249me\u001b[0m\u001b[38;5;249m \u001b[0m\u001b[38;5;249mt\u001b[0m\u001b[38;5;249mh\u001b[0m\u001b[38;5;249me\u001b[0m\u001b[38;5;249m \u001b[0m\u001b[38;5;249ml\u001b[0m\u001b[38;5;249mi\u001b[0m\u001b[38;5;249ms\u001b[0m\u001b[38;5;249mt\u001b[0m\u001b[38;5;249m \u001b[0m\u001b[38;5;249mi\u001b[0m\u001b[38;5;249mn\u001b[0m\u001b[38;5;249mt\u001b[0m\u001b[38;5;249mo\u001b[0m\u001b[38;5;249m \u001b[0m\u001b[38;5;249mi\u001b[0m\u001b[38;5;249mn\u001b[0m\u001b[38;5;249md\u001b[0m\u001b[38;5;249mi\u001b[0m\u001b[38;5;249mv\u001b[0m\u001b[38;5;249mi\u001b[0m\u001b[38;5;249md\u001b[0m\u001b[38;5;249mu\u001b[0m\u001b[38;5;249ma\u001b[0m\u001b[38;5;249ml\u001b[0m\u001b[38;5;249m \u001b[0m\u001b[38;5;249mr\u001b[0m\u001b[38;5;249mo\u001b[0m\u001b[38;5;249mw\u001b[0m\u001b[38;5;249ms\u001b[0m",
      " \u001b[38;5;240m   │\u001b[0m          \u001b[38;5;54m─\u001b[0m\u001b[38;5;54m─\u001b[0m\u001b[38;5;54m─\u001b[0m\u001b[38;5;54m┬\u001b[0m\u001b[38;5;54m─\u001b[0m\u001b[38;5;54m─\u001b[0m\u001b[38;5;54m─\u001b[0m  ",
      " \u001b[38;5;240m   │\u001b[0m             \u001b[38;5;54m╰\u001b[0m\u001b[38;5;54m─\u001b[0m\u001b[38;5;54m─\u001b[0m\u001b[38;5;54m─\u001b[0m\u001b[38;5;54m─\u001b[0m\u001b[38;5;54m─\u001b[0m the trait `From<u8>` is not implemented for `Expr`, which is required by `u8: Into<Expr>`",
      " \u001b[38;5;240m   │\u001b[0m ",
      " \u001b[38;5;240m   │\u001b[0m \u001b[38;5;115mNote\u001b[0m: required by this bound in `LazyFrame::explode`",
      "\u001b[38;5;246m────╯\u001b[0m"
     ]
    },
    {
     "ename": "Error",
     "evalue": "the trait bound `Expr: From<u8>` is not satisfied",
     "output_type": "error",
     "traceback": [
      "\u001b[31m[E0277] Error:\u001b[0m the trait bound `Expr: From<u8>` is not satisfied",
      "    \u001b[38;5;246m╭\u001b[0m\u001b[38;5;246m─\u001b[0m\u001b[38;5;246m[\u001b[0mcommand_9:1:1\u001b[38;5;246m]\u001b[0m",
      "    \u001b[38;5;246m│\u001b[0m",
      " \u001b[38;5;246m12 │\u001b[0m \u001b[38;5;249m \u001b[0m\u001b[38;5;249m \u001b[0m\u001b[38;5;249m \u001b[0m\u001b[38;5;249m \u001b[0m\u001b[38;5;249m \u001b[0m\u001b[38;5;249m \u001b[0m\u001b[38;5;249m \u001b[0m\u001b[38;5;249m \u001b[0m\u001b[38;5;249m.\u001b[0m\u001b[38;5;54mg\u001b[0m\u001b[38;5;54mr\u001b[0m\u001b[38;5;54mo\u001b[0m\u001b[38;5;54mu\u001b[0m\u001b[38;5;54mp\u001b[0m\u001b[38;5;54m_\u001b[0m\u001b[38;5;54mb\u001b[0m\u001b[38;5;54my\u001b[0m\u001b[38;5;249m(\u001b[0m\u001b[38;5;249m\"\u001b[0m\u001b[38;5;249ml\u001b[0m\u001b[38;5;249mi\u001b[0m\u001b[38;5;249ms\u001b[0m\u001b[38;5;249mt\u001b[0m\u001b[38;5;249me\u001b[0m\u001b[38;5;249md\u001b[0m\u001b[38;5;249m_\u001b[0m\u001b[38;5;249mi\u001b[0m\u001b[38;5;249mn\u001b[0m\u001b[38;5;249m\"\u001b[0m\u001b[38;5;249m)\u001b[0m",
      " \u001b[38;5;240m   │\u001b[0m          \u001b[38;5;54m─\u001b[0m\u001b[38;5;54m─\u001b[0m\u001b[38;5;54m─\u001b[0m\u001b[38;5;54m─\u001b[0m\u001b[38;5;54m┬\u001b[0m\u001b[38;5;54m─\u001b[0m\u001b[38;5;54m─\u001b[0m\u001b[38;5;54m─\u001b[0m  ",
      " \u001b[38;5;240m   │\u001b[0m              \u001b[38;5;54m╰\u001b[0m\u001b[38;5;54m─\u001b[0m\u001b[38;5;54m─\u001b[0m\u001b[38;5;54m─\u001b[0m\u001b[38;5;54m─\u001b[0m\u001b[38;5;54m─\u001b[0m the trait `From<u8>` is not implemented for `Expr`, which is required by `u8: Into<Expr>`",
      " \u001b[38;5;240m   │\u001b[0m ",
      " \u001b[38;5;240m   │\u001b[0m \u001b[38;5;115mNote\u001b[0m: required by this bound in `LazyFrame::group_by`",
      "\u001b[38;5;246m────╯\u001b[0m"
     ]
    }
   ],
   "source": [
    "let df_listed_in = df\n",
    "        .clone()\n",
    "        .lazy()\n",
    "        .select([\n",
    "            // Split \"listed_in\" column by comma and space, then explode\n",
    "            col(\"listed_in\")\n",
    "                .str\n",
    "                .split(\", \")\n",
    "                .list() // Create a List of Strings\n",
    "        ])\n",
    "        .explode(\"listed_in\") // Explode the list into individual rows\n",
    "        .group_by(\"listed_in\")\n",
    "        .agg([col(\"listed_in\").count().alias(\"count\")])\n",
    "        .collect()?;\n",
    "\n",
    "    println!(\"{:?}\", df_listed_in);"
   ]
  },
  {
   "cell_type": "code",
   "execution_count": 11,
   "metadata": {},
   "outputs": [
    {
     "ename": "Error",
     "evalue": "no method named `str` found for enum `Expr` in the current scope",
     "output_type": "error",
     "traceback": [
      "\u001b[31m[E0599] Error:\u001b[0m no method named `str` found for enum `Expr` in the current scope",
      "   \u001b[38;5;246m╭\u001b[0m\u001b[38;5;246m─\u001b[0m\u001b[38;5;246m[\u001b[0mcommand_11:1:1\u001b[38;5;246m]\u001b[0m",
      "   \u001b[38;5;246m│\u001b[0m",
      " \u001b[38;5;246m7 │\u001b[0m \u001b[38;5;249m \u001b[0m\u001b[38;5;249m \u001b[0m\u001b[38;5;249m \u001b[0m\u001b[38;5;249m \u001b[0m\u001b[38;5;249m \u001b[0m\u001b[38;5;249m \u001b[0m\u001b[38;5;249m \u001b[0m\u001b[38;5;249m \u001b[0m\u001b[38;5;249m \u001b[0m\u001b[38;5;249m \u001b[0m\u001b[38;5;249m \u001b[0m\u001b[38;5;249m \u001b[0m\u001b[38;5;249m \u001b[0m\u001b[38;5;249m \u001b[0m\u001b[38;5;249m \u001b[0m\u001b[38;5;249m \u001b[0m\u001b[38;5;249m.\u001b[0m\u001b[38;5;54ms\u001b[0m\u001b[38;5;54mt\u001b[0m\u001b[38;5;54mr\u001b[0m\u001b[38;5;249m(\u001b[0m\u001b[38;5;249m)\u001b[0m",
      " \u001b[38;5;240m  │\u001b[0m                  \u001b[38;5;54m─\u001b[0m\u001b[38;5;54m┬\u001b[0m\u001b[38;5;54m─\u001b[0m  ",
      " \u001b[38;5;240m  │\u001b[0m                   \u001b[38;5;54m╰\u001b[0m\u001b[38;5;54m─\u001b[0m\u001b[38;5;54m─\u001b[0m\u001b[38;5;54m─\u001b[0m error: no method named `str` found for enum `Expr` in the current scope",
      " \u001b[38;5;240m  │\u001b[0m ",
      " \u001b[38;5;240m  │\u001b[0m \u001b[38;5;115mNote\u001b[0m: help: there is a method `std` with a similar name, but with different arguments",
      "\u001b[38;5;246m───╯\u001b[0m"
     ]
    },
    {
     "ename": "Error",
     "evalue": "the trait bound `Expr: From<u8>` is not satisfied",
     "output_type": "error",
     "traceback": [
      "\u001b[31m[E0277] Error:\u001b[0m the trait bound `Expr: From<u8>` is not satisfied",
      "    \u001b[38;5;246m╭\u001b[0m\u001b[38;5;246m─\u001b[0m\u001b[38;5;246m[\u001b[0mcommand_11:1:1\u001b[38;5;246m]\u001b[0m",
      "    \u001b[38;5;246m│\u001b[0m",
      " \u001b[38;5;246m11 │\u001b[0m \u001b[38;5;249m \u001b[0m\u001b[38;5;249m \u001b[0m\u001b[38;5;249m \u001b[0m\u001b[38;5;249m \u001b[0m\u001b[38;5;249m \u001b[0m\u001b[38;5;249m \u001b[0m\u001b[38;5;249m \u001b[0m\u001b[38;5;249m \u001b[0m\u001b[38;5;249m.\u001b[0m\u001b[38;5;54me\u001b[0m\u001b[38;5;54mx\u001b[0m\u001b[38;5;54mp\u001b[0m\u001b[38;5;54ml\u001b[0m\u001b[38;5;54mo\u001b[0m\u001b[38;5;54md\u001b[0m\u001b[38;5;54me\u001b[0m\u001b[38;5;249m(\u001b[0m\u001b[38;5;249m\"\u001b[0m\u001b[38;5;249ml\u001b[0m\u001b[38;5;249mi\u001b[0m\u001b[38;5;249ms\u001b[0m\u001b[38;5;249mt\u001b[0m\u001b[38;5;249me\u001b[0m\u001b[38;5;249md\u001b[0m\u001b[38;5;249m_\u001b[0m\u001b[38;5;249mi\u001b[0m\u001b[38;5;249mn\u001b[0m\u001b[38;5;249m\"\u001b[0m\u001b[38;5;249m)\u001b[0m\u001b[38;5;249m \u001b[0m\u001b[38;5;249m/\u001b[0m\u001b[38;5;249m/\u001b[0m\u001b[38;5;249m \u001b[0m\u001b[38;5;249mE\u001b[0m\u001b[38;5;249mx\u001b[0m\u001b[38;5;249mp\u001b[0m\u001b[38;5;249ml\u001b[0m\u001b[38;5;249mo\u001b[0m\u001b[38;5;249md\u001b[0m\u001b[38;5;249me\u001b[0m\u001b[38;5;249m \u001b[0m\u001b[38;5;249mt\u001b[0m\u001b[38;5;249mh\u001b[0m\u001b[38;5;249me\u001b[0m\u001b[38;5;249m \u001b[0m\u001b[38;5;249ml\u001b[0m\u001b[38;5;249mi\u001b[0m\u001b[38;5;249ms\u001b[0m\u001b[38;5;249mt\u001b[0m\u001b[38;5;249m \u001b[0m\u001b[38;5;249mi\u001b[0m\u001b[38;5;249mn\u001b[0m\u001b[38;5;249mt\u001b[0m\u001b[38;5;249mo\u001b[0m\u001b[38;5;249m \u001b[0m\u001b[38;5;249mi\u001b[0m\u001b[38;5;249mn\u001b[0m\u001b[38;5;249md\u001b[0m\u001b[38;5;249mi\u001b[0m\u001b[38;5;249mv\u001b[0m\u001b[38;5;249mi\u001b[0m\u001b[38;5;249md\u001b[0m\u001b[38;5;249mu\u001b[0m\u001b[38;5;249ma\u001b[0m\u001b[38;5;249ml\u001b[0m\u001b[38;5;249m \u001b[0m\u001b[38;5;249mr\u001b[0m\u001b[38;5;249mo\u001b[0m\u001b[38;5;249mw\u001b[0m\u001b[38;5;249ms\u001b[0m",
      " \u001b[38;5;240m   │\u001b[0m          \u001b[38;5;54m─\u001b[0m\u001b[38;5;54m─\u001b[0m\u001b[38;5;54m─\u001b[0m\u001b[38;5;54m┬\u001b[0m\u001b[38;5;54m─\u001b[0m\u001b[38;5;54m─\u001b[0m\u001b[38;5;54m─\u001b[0m  ",
      " \u001b[38;5;240m   │\u001b[0m             \u001b[38;5;54m╰\u001b[0m\u001b[38;5;54m─\u001b[0m\u001b[38;5;54m─\u001b[0m\u001b[38;5;54m─\u001b[0m\u001b[38;5;54m─\u001b[0m\u001b[38;5;54m─\u001b[0m the trait `From<u8>` is not implemented for `Expr`, which is required by `u8: Into<Expr>`",
      " \u001b[38;5;240m   │\u001b[0m ",
      " \u001b[38;5;240m   │\u001b[0m \u001b[38;5;115mNote\u001b[0m: required by this bound in `LazyFrame::explode`",
      "\u001b[38;5;246m────╯\u001b[0m"
     ]
    },
    {
     "ename": "Error",
     "evalue": "the trait bound `Expr: From<u8>` is not satisfied",
     "output_type": "error",
     "traceback": [
      "\u001b[31m[E0277] Error:\u001b[0m the trait bound `Expr: From<u8>` is not satisfied",
      "    \u001b[38;5;246m╭\u001b[0m\u001b[38;5;246m─\u001b[0m\u001b[38;5;246m[\u001b[0mcommand_11:1:1\u001b[38;5;246m]\u001b[0m",
      "    \u001b[38;5;246m│\u001b[0m",
      " \u001b[38;5;246m12 │\u001b[0m \u001b[38;5;249m \u001b[0m\u001b[38;5;249m \u001b[0m\u001b[38;5;249m \u001b[0m\u001b[38;5;249m \u001b[0m\u001b[38;5;249m \u001b[0m\u001b[38;5;249m \u001b[0m\u001b[38;5;249m \u001b[0m\u001b[38;5;249m \u001b[0m\u001b[38;5;249m.\u001b[0m\u001b[38;5;54mg\u001b[0m\u001b[38;5;54mr\u001b[0m\u001b[38;5;54mo\u001b[0m\u001b[38;5;54mu\u001b[0m\u001b[38;5;54mp\u001b[0m\u001b[38;5;54m_\u001b[0m\u001b[38;5;54mb\u001b[0m\u001b[38;5;54my\u001b[0m\u001b[38;5;249m(\u001b[0m\u001b[38;5;249m\"\u001b[0m\u001b[38;5;249ml\u001b[0m\u001b[38;5;249mi\u001b[0m\u001b[38;5;249ms\u001b[0m\u001b[38;5;249mt\u001b[0m\u001b[38;5;249me\u001b[0m\u001b[38;5;249md\u001b[0m\u001b[38;5;249m_\u001b[0m\u001b[38;5;249mi\u001b[0m\u001b[38;5;249mn\u001b[0m\u001b[38;5;249m\"\u001b[0m\u001b[38;5;249m)\u001b[0m",
      " \u001b[38;5;240m   │\u001b[0m          \u001b[38;5;54m─\u001b[0m\u001b[38;5;54m─\u001b[0m\u001b[38;5;54m─\u001b[0m\u001b[38;5;54m─\u001b[0m\u001b[38;5;54m┬\u001b[0m\u001b[38;5;54m─\u001b[0m\u001b[38;5;54m─\u001b[0m\u001b[38;5;54m─\u001b[0m  ",
      " \u001b[38;5;240m   │\u001b[0m              \u001b[38;5;54m╰\u001b[0m\u001b[38;5;54m─\u001b[0m\u001b[38;5;54m─\u001b[0m\u001b[38;5;54m─\u001b[0m\u001b[38;5;54m─\u001b[0m\u001b[38;5;54m─\u001b[0m the trait `From<u8>` is not implemented for `Expr`, which is required by `u8: Into<Expr>`",
      " \u001b[38;5;240m   │\u001b[0m ",
      " \u001b[38;5;240m   │\u001b[0m \u001b[38;5;115mNote\u001b[0m: required by this bound in `LazyFrame::group_by`",
      "\u001b[38;5;246m────╯\u001b[0m"
     ]
    }
   ],
   "source": [
    "let df_listed_in = df\n",
    "    .clone()\n",
    "    .lazy()\n",
    "    .select(col(\"listed_in\").str.split(\", \"))\n",
    "    .explode(\"listed_in\")\n",
    "    .group_by(\"listed_in\")\n",
    "    .agg(col(\"listed_in\").count().alias(\"count\"))\n",
    "    .collect()\n",
    "    .unwrap();\n",
    "\n",
    "println!(\"{:?}\", df_listed_in);"
   ]
  }
 ],
 "metadata": {
  "kernelspec": {
   "display_name": "Rust",
   "language": "rust",
   "name": "rust"
  },
  "language_info": {
   "codemirror_mode": "rust",
   "file_extension": ".rs",
   "mimetype": "text/rust",
   "name": "rust",
   "pygment_lexer": "rust",
   "version": ""
  }
 },
 "nbformat": 4,
 "nbformat_minor": 4
}
