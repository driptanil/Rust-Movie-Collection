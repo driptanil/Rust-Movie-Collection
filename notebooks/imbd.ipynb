{
 "cells": [
  {
   "cell_type": "code",
   "execution_count": 55,
   "metadata": {},
   "outputs": [],
   "source": [
    "# !pip install polars pandas plotly pyarrow nbformat"
   ]
  },
  {
   "cell_type": "code",
   "execution_count": 56,
   "metadata": {},
   "outputs": [],
   "source": [
    "import polars as pl\n",
    "import pandas as pd\n",
    "import plotly.express as px\n",
    "import plotly.graph_objects as go"
   ]
  },
  {
   "cell_type": "code",
   "execution_count": 57,
   "metadata": {},
   "outputs": [],
   "source": [
    "dataset = pl.read_csv(\n",
    "    './data/imdb.tsv',\n",
    "    separator='\\t',\n",
    "    null_values=\"\\\\N\",\n",
    "    quote_char=None\n",
    ")\n",
    "\n",
    "rating_dataset = pl.read_csv(\n",
    "    './data/imdb_rating.tsv',\n",
    "    separator='\\t',\n",
    "    null_values=\"\\\\N\",\n",
    "    quote_char=None\n",
    ")"
   ]
  },
  {
   "cell_type": "code",
   "execution_count": 58,
   "metadata": {},
   "outputs": [],
   "source": [
    "theme = 'plotly_dark'\n",
    "# theme = 'plotly_white'"
   ]
  },
  {
   "cell_type": "code",
   "execution_count": 59,
   "metadata": {},
   "outputs": [],
   "source": [
    "rating_preference = 2"
   ]
  },
  {
   "cell_type": "code",
   "execution_count": 60,
   "metadata": {},
   "outputs": [
    {
     "data": {
      "text/html": [
       "<div><style>\n",
       ".dataframe > thead > tr,\n",
       ".dataframe > tbody > tr {\n",
       "  text-align: right;\n",
       "  white-space: pre-wrap;\n",
       "}\n",
       "</style>\n",
       "<small>shape: (1_306_106, 11)</small><table border=\"1\" class=\"dataframe\"><thead><tr><th>tconst</th><th>titleType</th><th>primaryTitle</th><th>originalTitle</th><th>isAdult</th><th>startYear</th><th>endYear</th><th>runtimeMinutes</th><th>genres</th><th>averageRating</th><th>numVotes</th></tr><tr><td>str</td><td>str</td><td>str</td><td>str</td><td>i64</td><td>i64</td><td>str</td><td>i64</td><td>str</td><td>f64</td><td>i64</td></tr></thead><tbody><tr><td>&quot;tt0000001&quot;</td><td>&quot;short&quot;</td><td>&quot;Carmencita&quot;</td><td>&quot;Carmencita&quot;</td><td>0</td><td>1894</td><td>null</td><td>1</td><td>&quot;Documentary,Short&quot;</td><td>5.7</td><td>1966</td></tr><tr><td>&quot;tt0000002&quot;</td><td>&quot;short&quot;</td><td>&quot;Le clown et ses chiens&quot;</td><td>&quot;Le clown et ses chiens&quot;</td><td>0</td><td>1892</td><td>null</td><td>5</td><td>&quot;Animation,Short&quot;</td><td>5.8</td><td>264</td></tr><tr><td>&quot;tt0000003&quot;</td><td>&quot;short&quot;</td><td>&quot;Pauvre Pierrot&quot;</td><td>&quot;Pauvre Pierrot&quot;</td><td>0</td><td>1892</td><td>null</td><td>4</td><td>&quot;Animation,Comedy,Romance&quot;</td><td>6.5</td><td>1810</td></tr><tr><td>&quot;tt0000004&quot;</td><td>&quot;short&quot;</td><td>&quot;Un bon bock&quot;</td><td>&quot;Un bon bock&quot;</td><td>0</td><td>1892</td><td>null</td><td>12</td><td>&quot;Animation,Short&quot;</td><td>5.6</td><td>178</td></tr><tr><td>&quot;tt0000005&quot;</td><td>&quot;short&quot;</td><td>&quot;Blacksmith Scene&quot;</td><td>&quot;Blacksmith Scene&quot;</td><td>0</td><td>1893</td><td>null</td><td>1</td><td>&quot;Comedy,Short&quot;</td><td>6.2</td><td>2610</td></tr><tr><td>&hellip;</td><td>&hellip;</td><td>&hellip;</td><td>&hellip;</td><td>&hellip;</td><td>&hellip;</td><td>&hellip;</td><td>&hellip;</td><td>&hellip;</td><td>&hellip;</td><td>&hellip;</td></tr><tr><td>&quot;tt9916730&quot;</td><td>&quot;movie&quot;</td><td>&quot;6 Gunn&quot;</td><td>&quot;6 Gunn&quot;</td><td>0</td><td>2017</td><td>null</td><td>116</td><td>null</td><td>8.3</td><td>10</td></tr><tr><td>&quot;tt9916766&quot;</td><td>&quot;tvEpisode&quot;</td><td>&quot;Episode #10.15&quot;</td><td>&quot;Episode #10.15&quot;</td><td>0</td><td>2019</td><td>null</td><td>43</td><td>&quot;Family,Game-Show,Reality-TV&quot;</td><td>7.0</td><td>21</td></tr><tr><td>&quot;tt9916778&quot;</td><td>&quot;tvEpisode&quot;</td><td>&quot;Escape&quot;</td><td>&quot;Escape&quot;</td><td>0</td><td>2019</td><td>null</td><td>null</td><td>&quot;Crime,Drama,Mystery&quot;</td><td>7.2</td><td>36</td></tr><tr><td>&quot;tt9916840&quot;</td><td>&quot;tvEpisode&quot;</td><td>&quot;Horrid Henry&#x27;s Comic Caper&quot;</td><td>&quot;Horrid Henry&#x27;s Comic Caper&quot;</td><td>0</td><td>2014</td><td>null</td><td>11</td><td>&quot;Adventure,Animation,Comedy&quot;</td><td>8.8</td><td>6</td></tr><tr><td>&quot;tt9916880&quot;</td><td>&quot;tvEpisode&quot;</td><td>&quot;Horrid Henry Knows It All&quot;</td><td>&quot;Horrid Henry Knows It All&quot;</td><td>0</td><td>2014</td><td>null</td><td>10</td><td>&quot;Adventure,Animation,Comedy&quot;</td><td>8.2</td><td>6</td></tr></tbody></table></div>"
      ],
      "text/plain": [
       "shape: (1_306_106, 11)\n",
       "┌───────────┬───────────┬───────────┬───────────┬───┬───────────┬───────────┬───────────┬──────────┐\n",
       "│ tconst    ┆ titleType ┆ primaryTi ┆ originalT ┆ … ┆ runtimeMi ┆ genres    ┆ averageRa ┆ numVotes │\n",
       "│ ---       ┆ ---       ┆ tle       ┆ itle      ┆   ┆ nutes     ┆ ---       ┆ ting      ┆ ---      │\n",
       "│ str       ┆ str       ┆ ---       ┆ ---       ┆   ┆ ---       ┆ str       ┆ ---       ┆ i64      │\n",
       "│           ┆           ┆ str       ┆ str       ┆   ┆ i64       ┆           ┆ f64       ┆          │\n",
       "╞═══════════╪═══════════╪═══════════╪═══════════╪═══╪═══════════╪═══════════╪═══════════╪══════════╡\n",
       "│ tt0000001 ┆ short     ┆ Carmencit ┆ Carmencit ┆ … ┆ 1         ┆ Documenta ┆ 5.7       ┆ 1966     │\n",
       "│           ┆           ┆ a         ┆ a         ┆   ┆           ┆ ry,Short  ┆           ┆          │\n",
       "│ tt0000002 ┆ short     ┆ Le clown  ┆ Le clown  ┆ … ┆ 5         ┆ Animation ┆ 5.8       ┆ 264      │\n",
       "│           ┆           ┆ et ses    ┆ et ses    ┆   ┆           ┆ ,Short    ┆           ┆          │\n",
       "│           ┆           ┆ chiens    ┆ chiens    ┆   ┆           ┆           ┆           ┆          │\n",
       "│ tt0000003 ┆ short     ┆ Pauvre    ┆ Pauvre    ┆ … ┆ 4         ┆ Animation ┆ 6.5       ┆ 1810     │\n",
       "│           ┆           ┆ Pierrot   ┆ Pierrot   ┆   ┆           ┆ ,Comedy,R ┆           ┆          │\n",
       "│           ┆           ┆           ┆           ┆   ┆           ┆ omance    ┆           ┆          │\n",
       "│ tt0000004 ┆ short     ┆ Un bon    ┆ Un bon    ┆ … ┆ 12        ┆ Animation ┆ 5.6       ┆ 178      │\n",
       "│           ┆           ┆ bock      ┆ bock      ┆   ┆           ┆ ,Short    ┆           ┆          │\n",
       "│ tt0000005 ┆ short     ┆ Blacksmit ┆ Blacksmit ┆ … ┆ 1         ┆ Comedy,Sh ┆ 6.2       ┆ 2610     │\n",
       "│           ┆           ┆ h Scene   ┆ h Scene   ┆   ┆           ┆ ort       ┆           ┆          │\n",
       "│ …         ┆ …         ┆ …         ┆ …         ┆ … ┆ …         ┆ …         ┆ …         ┆ …        │\n",
       "│ tt9916730 ┆ movie     ┆ 6 Gunn    ┆ 6 Gunn    ┆ … ┆ 116       ┆ null      ┆ 8.3       ┆ 10       │\n",
       "│ tt9916766 ┆ tvEpisode ┆ Episode   ┆ Episode   ┆ … ┆ 43        ┆ Family,Ga ┆ 7.0       ┆ 21       │\n",
       "│           ┆           ┆ #10.15    ┆ #10.15    ┆   ┆           ┆ me-Show,R ┆           ┆          │\n",
       "│           ┆           ┆           ┆           ┆   ┆           ┆ eality-TV ┆           ┆          │\n",
       "│ tt9916778 ┆ tvEpisode ┆ Escape    ┆ Escape    ┆ … ┆ null      ┆ Crime,Dra ┆ 7.2       ┆ 36       │\n",
       "│           ┆           ┆           ┆           ┆   ┆           ┆ ma,Myster ┆           ┆          │\n",
       "│           ┆           ┆           ┆           ┆   ┆           ┆ y         ┆           ┆          │\n",
       "│ tt9916840 ┆ tvEpisode ┆ Horrid    ┆ Horrid    ┆ … ┆ 11        ┆ Adventure ┆ 8.8       ┆ 6        │\n",
       "│           ┆           ┆ Henry's   ┆ Henry's   ┆   ┆           ┆ ,Animatio ┆           ┆          │\n",
       "│           ┆           ┆ Comic     ┆ Comic     ┆   ┆           ┆ n,Comedy  ┆           ┆          │\n",
       "│           ┆           ┆ Caper     ┆ Caper     ┆   ┆           ┆           ┆           ┆          │\n",
       "│ tt9916880 ┆ tvEpisode ┆ Horrid    ┆ Horrid    ┆ … ┆ 10        ┆ Adventure ┆ 8.2       ┆ 6        │\n",
       "│           ┆           ┆ Henry     ┆ Henry     ┆   ┆           ┆ ,Animatio ┆           ┆          │\n",
       "│           ┆           ┆ Knows It  ┆ Knows It  ┆   ┆           ┆ n,Comedy  ┆           ┆          │\n",
       "│           ┆           ┆ All       ┆ All       ┆   ┆           ┆           ┆           ┆          │\n",
       "└───────────┴───────────┴───────────┴───────────┴───┴───────────┴───────────┴───────────┴──────────┘"
      ]
     },
     "execution_count": 60,
     "metadata": {},
     "output_type": "execute_result"
    }
   ],
   "source": [
    "df = dataset.join(rating_dataset, on='tconst', how='inner')\n",
    "df"
   ]
  },
  {
   "cell_type": "code",
   "execution_count": 61,
   "metadata": {},
   "outputs": [
    {
     "data": {
      "text/plain": [
       "Schema([('tconst', String),\n",
       "        ('titleType', String),\n",
       "        ('primaryTitle', String),\n",
       "        ('originalTitle', String),\n",
       "        ('isAdult', Int64),\n",
       "        ('startYear', Int64),\n",
       "        ('endYear', String),\n",
       "        ('runtimeMinutes', Int64),\n",
       "        ('genres', String),\n",
       "        ('averageRating', Float64),\n",
       "        ('numVotes', Int64)])"
      ]
     },
     "execution_count": 61,
     "metadata": {},
     "output_type": "execute_result"
    }
   ],
   "source": [
    "df.schema"
   ]
  },
  {
   "cell_type": "markdown",
   "metadata": {},
   "source": [
    "##### Type Frequency"
   ]
  },
  {
   "cell_type": "code",
   "execution_count": 62,
   "metadata": {},
   "outputs": [
    {
     "data": {
      "text/html": [
       "<div><style>\n",
       ".dataframe > thead > tr,\n",
       ".dataframe > tbody > tr {\n",
       "  text-align: right;\n",
       "  white-space: pre-wrap;\n",
       "}\n",
       "</style>\n",
       "<small>shape: (10, 2)</small><table border=\"1\" class=\"dataframe\"><thead><tr><th>titleType</th><th>count</th></tr><tr><td>str</td><td>u32</td></tr></thead><tbody><tr><td>&quot;tvEpisode&quot;</td><td>638904</td></tr><tr><td>&quot;movie&quot;</td><td>290903</td></tr><tr><td>&quot;short&quot;</td><td>146929</td></tr><tr><td>&quot;tvSeries&quot;</td><td>87044</td></tr><tr><td>&quot;tvMovie&quot;</td><td>50410</td></tr><tr><td>&quot;video&quot;</td><td>49288</td></tr><tr><td>&quot;tvMiniSeries&quot;</td><td>14842</td></tr><tr><td>&quot;videoGame&quot;</td><td>14528</td></tr><tr><td>&quot;tvSpecial&quot;</td><td>11069</td></tr><tr><td>&quot;tvShort&quot;</td><td>2189</td></tr></tbody></table></div>"
      ],
      "text/plain": [
       "shape: (10, 2)\n",
       "┌──────────────┬────────┐\n",
       "│ titleType    ┆ count  │\n",
       "│ ---          ┆ ---    │\n",
       "│ str          ┆ u32    │\n",
       "╞══════════════╪════════╡\n",
       "│ tvEpisode    ┆ 638904 │\n",
       "│ movie        ┆ 290903 │\n",
       "│ short        ┆ 146929 │\n",
       "│ tvSeries     ┆ 87044  │\n",
       "│ tvMovie      ┆ 50410  │\n",
       "│ video        ┆ 49288  │\n",
       "│ tvMiniSeries ┆ 14842  │\n",
       "│ videoGame    ┆ 14528  │\n",
       "│ tvSpecial    ┆ 11069  │\n",
       "│ tvShort      ┆ 2189   │\n",
       "└──────────────┴────────┘"
      ]
     },
     "execution_count": 62,
     "metadata": {},
     "output_type": "execute_result"
    }
   ],
   "source": [
    "# Assuming df is your DataFrame\n",
    "type_count = (\n",
    "    df.lazy()\n",
    "    .group_by('titleType')\n",
    "    .agg([\n",
    "        pl.len().alias('count')  # Only include the count aggregation\n",
    "    ]).sort(\"count\", descending=True)\n",
    ")\n",
    "\n",
    "# Collecting the result\n",
    "type_count.collect()"
   ]
  },
  {
   "cell_type": "code",
   "execution_count": 63,
   "metadata": {},
   "outputs": [
    {
     "data": {
      "application/vnd.plotly.v1+json": {
       "config": {
        "plotlyServerURL": "https://plot.ly"
       },
       "data": [
        {
         "alignmentgroup": "True",
         "hovertemplate": "Category=%{x}<br>Count=%{y}<extra></extra>",
         "legendgroup": "",
         "marker": {
          "color": "#636efa",
          "pattern": {
           "shape": ""
          }
         },
         "name": "",
         "offsetgroup": "",
         "orientation": "v",
         "showlegend": false,
         "textposition": "auto",
         "type": "bar",
         "x": [
          "tvEpisode",
          "movie",
          "short",
          "tvSeries",
          "tvMovie",
          "video",
          "tvMiniSeries",
          "videoGame",
          "tvSpecial",
          "tvShort"
         ],
         "xaxis": "x",
         "y": [
          638904,
          290903,
          146929,
          87044,
          50410,
          49288,
          14842,
          14528,
          11069,
          2189
         ],
         "yaxis": "y"
        }
       ],
       "layout": {
        "barmode": "relative",
        "legend": {
         "tracegroupgap": 0
        },
        "template": {
         "data": {
          "bar": [
           {
            "error_x": {
             "color": "#f2f5fa"
            },
            "error_y": {
             "color": "#f2f5fa"
            },
            "marker": {
             "line": {
              "color": "rgb(17,17,17)",
              "width": 0.5
             },
             "pattern": {
              "fillmode": "overlay",
              "size": 10,
              "solidity": 0.2
             }
            },
            "type": "bar"
           }
          ],
          "barpolar": [
           {
            "marker": {
             "line": {
              "color": "rgb(17,17,17)",
              "width": 0.5
             },
             "pattern": {
              "fillmode": "overlay",
              "size": 10,
              "solidity": 0.2
             }
            },
            "type": "barpolar"
           }
          ],
          "carpet": [
           {
            "aaxis": {
             "endlinecolor": "#A2B1C6",
             "gridcolor": "#506784",
             "linecolor": "#506784",
             "minorgridcolor": "#506784",
             "startlinecolor": "#A2B1C6"
            },
            "baxis": {
             "endlinecolor": "#A2B1C6",
             "gridcolor": "#506784",
             "linecolor": "#506784",
             "minorgridcolor": "#506784",
             "startlinecolor": "#A2B1C6"
            },
            "type": "carpet"
           }
          ],
          "choropleth": [
           {
            "colorbar": {
             "outlinewidth": 0,
             "ticks": ""
            },
            "type": "choropleth"
           }
          ],
          "contour": [
           {
            "colorbar": {
             "outlinewidth": 0,
             "ticks": ""
            },
            "colorscale": [
             [
              0,
              "#0d0887"
             ],
             [
              0.1111111111111111,
              "#46039f"
             ],
             [
              0.2222222222222222,
              "#7201a8"
             ],
             [
              0.3333333333333333,
              "#9c179e"
             ],
             [
              0.4444444444444444,
              "#bd3786"
             ],
             [
              0.5555555555555556,
              "#d8576b"
             ],
             [
              0.6666666666666666,
              "#ed7953"
             ],
             [
              0.7777777777777778,
              "#fb9f3a"
             ],
             [
              0.8888888888888888,
              "#fdca26"
             ],
             [
              1,
              "#f0f921"
             ]
            ],
            "type": "contour"
           }
          ],
          "contourcarpet": [
           {
            "colorbar": {
             "outlinewidth": 0,
             "ticks": ""
            },
            "type": "contourcarpet"
           }
          ],
          "heatmap": [
           {
            "colorbar": {
             "outlinewidth": 0,
             "ticks": ""
            },
            "colorscale": [
             [
              0,
              "#0d0887"
             ],
             [
              0.1111111111111111,
              "#46039f"
             ],
             [
              0.2222222222222222,
              "#7201a8"
             ],
             [
              0.3333333333333333,
              "#9c179e"
             ],
             [
              0.4444444444444444,
              "#bd3786"
             ],
             [
              0.5555555555555556,
              "#d8576b"
             ],
             [
              0.6666666666666666,
              "#ed7953"
             ],
             [
              0.7777777777777778,
              "#fb9f3a"
             ],
             [
              0.8888888888888888,
              "#fdca26"
             ],
             [
              1,
              "#f0f921"
             ]
            ],
            "type": "heatmap"
           }
          ],
          "heatmapgl": [
           {
            "colorbar": {
             "outlinewidth": 0,
             "ticks": ""
            },
            "colorscale": [
             [
              0,
              "#0d0887"
             ],
             [
              0.1111111111111111,
              "#46039f"
             ],
             [
              0.2222222222222222,
              "#7201a8"
             ],
             [
              0.3333333333333333,
              "#9c179e"
             ],
             [
              0.4444444444444444,
              "#bd3786"
             ],
             [
              0.5555555555555556,
              "#d8576b"
             ],
             [
              0.6666666666666666,
              "#ed7953"
             ],
             [
              0.7777777777777778,
              "#fb9f3a"
             ],
             [
              0.8888888888888888,
              "#fdca26"
             ],
             [
              1,
              "#f0f921"
             ]
            ],
            "type": "heatmapgl"
           }
          ],
          "histogram": [
           {
            "marker": {
             "pattern": {
              "fillmode": "overlay",
              "size": 10,
              "solidity": 0.2
             }
            },
            "type": "histogram"
           }
          ],
          "histogram2d": [
           {
            "colorbar": {
             "outlinewidth": 0,
             "ticks": ""
            },
            "colorscale": [
             [
              0,
              "#0d0887"
             ],
             [
              0.1111111111111111,
              "#46039f"
             ],
             [
              0.2222222222222222,
              "#7201a8"
             ],
             [
              0.3333333333333333,
              "#9c179e"
             ],
             [
              0.4444444444444444,
              "#bd3786"
             ],
             [
              0.5555555555555556,
              "#d8576b"
             ],
             [
              0.6666666666666666,
              "#ed7953"
             ],
             [
              0.7777777777777778,
              "#fb9f3a"
             ],
             [
              0.8888888888888888,
              "#fdca26"
             ],
             [
              1,
              "#f0f921"
             ]
            ],
            "type": "histogram2d"
           }
          ],
          "histogram2dcontour": [
           {
            "colorbar": {
             "outlinewidth": 0,
             "ticks": ""
            },
            "colorscale": [
             [
              0,
              "#0d0887"
             ],
             [
              0.1111111111111111,
              "#46039f"
             ],
             [
              0.2222222222222222,
              "#7201a8"
             ],
             [
              0.3333333333333333,
              "#9c179e"
             ],
             [
              0.4444444444444444,
              "#bd3786"
             ],
             [
              0.5555555555555556,
              "#d8576b"
             ],
             [
              0.6666666666666666,
              "#ed7953"
             ],
             [
              0.7777777777777778,
              "#fb9f3a"
             ],
             [
              0.8888888888888888,
              "#fdca26"
             ],
             [
              1,
              "#f0f921"
             ]
            ],
            "type": "histogram2dcontour"
           }
          ],
          "mesh3d": [
           {
            "colorbar": {
             "outlinewidth": 0,
             "ticks": ""
            },
            "type": "mesh3d"
           }
          ],
          "parcoords": [
           {
            "line": {
             "colorbar": {
              "outlinewidth": 0,
              "ticks": ""
             }
            },
            "type": "parcoords"
           }
          ],
          "pie": [
           {
            "automargin": true,
            "type": "pie"
           }
          ],
          "scatter": [
           {
            "marker": {
             "line": {
              "color": "#283442"
             }
            },
            "type": "scatter"
           }
          ],
          "scatter3d": [
           {
            "line": {
             "colorbar": {
              "outlinewidth": 0,
              "ticks": ""
             }
            },
            "marker": {
             "colorbar": {
              "outlinewidth": 0,
              "ticks": ""
             }
            },
            "type": "scatter3d"
           }
          ],
          "scattercarpet": [
           {
            "marker": {
             "colorbar": {
              "outlinewidth": 0,
              "ticks": ""
             }
            },
            "type": "scattercarpet"
           }
          ],
          "scattergeo": [
           {
            "marker": {
             "colorbar": {
              "outlinewidth": 0,
              "ticks": ""
             }
            },
            "type": "scattergeo"
           }
          ],
          "scattergl": [
           {
            "marker": {
             "line": {
              "color": "#283442"
             }
            },
            "type": "scattergl"
           }
          ],
          "scattermapbox": [
           {
            "marker": {
             "colorbar": {
              "outlinewidth": 0,
              "ticks": ""
             }
            },
            "type": "scattermapbox"
           }
          ],
          "scatterpolar": [
           {
            "marker": {
             "colorbar": {
              "outlinewidth": 0,
              "ticks": ""
             }
            },
            "type": "scatterpolar"
           }
          ],
          "scatterpolargl": [
           {
            "marker": {
             "colorbar": {
              "outlinewidth": 0,
              "ticks": ""
             }
            },
            "type": "scatterpolargl"
           }
          ],
          "scatterternary": [
           {
            "marker": {
             "colorbar": {
              "outlinewidth": 0,
              "ticks": ""
             }
            },
            "type": "scatterternary"
           }
          ],
          "surface": [
           {
            "colorbar": {
             "outlinewidth": 0,
             "ticks": ""
            },
            "colorscale": [
             [
              0,
              "#0d0887"
             ],
             [
              0.1111111111111111,
              "#46039f"
             ],
             [
              0.2222222222222222,
              "#7201a8"
             ],
             [
              0.3333333333333333,
              "#9c179e"
             ],
             [
              0.4444444444444444,
              "#bd3786"
             ],
             [
              0.5555555555555556,
              "#d8576b"
             ],
             [
              0.6666666666666666,
              "#ed7953"
             ],
             [
              0.7777777777777778,
              "#fb9f3a"
             ],
             [
              0.8888888888888888,
              "#fdca26"
             ],
             [
              1,
              "#f0f921"
             ]
            ],
            "type": "surface"
           }
          ],
          "table": [
           {
            "cells": {
             "fill": {
              "color": "#506784"
             },
             "line": {
              "color": "rgb(17,17,17)"
             }
            },
            "header": {
             "fill": {
              "color": "#2a3f5f"
             },
             "line": {
              "color": "rgb(17,17,17)"
             }
            },
            "type": "table"
           }
          ]
         },
         "layout": {
          "annotationdefaults": {
           "arrowcolor": "#f2f5fa",
           "arrowhead": 0,
           "arrowwidth": 1
          },
          "autotypenumbers": "strict",
          "coloraxis": {
           "colorbar": {
            "outlinewidth": 0,
            "ticks": ""
           }
          },
          "colorscale": {
           "diverging": [
            [
             0,
             "#8e0152"
            ],
            [
             0.1,
             "#c51b7d"
            ],
            [
             0.2,
             "#de77ae"
            ],
            [
             0.3,
             "#f1b6da"
            ],
            [
             0.4,
             "#fde0ef"
            ],
            [
             0.5,
             "#f7f7f7"
            ],
            [
             0.6,
             "#e6f5d0"
            ],
            [
             0.7,
             "#b8e186"
            ],
            [
             0.8,
             "#7fbc41"
            ],
            [
             0.9,
             "#4d9221"
            ],
            [
             1,
             "#276419"
            ]
           ],
           "sequential": [
            [
             0,
             "#0d0887"
            ],
            [
             0.1111111111111111,
             "#46039f"
            ],
            [
             0.2222222222222222,
             "#7201a8"
            ],
            [
             0.3333333333333333,
             "#9c179e"
            ],
            [
             0.4444444444444444,
             "#bd3786"
            ],
            [
             0.5555555555555556,
             "#d8576b"
            ],
            [
             0.6666666666666666,
             "#ed7953"
            ],
            [
             0.7777777777777778,
             "#fb9f3a"
            ],
            [
             0.8888888888888888,
             "#fdca26"
            ],
            [
             1,
             "#f0f921"
            ]
           ],
           "sequentialminus": [
            [
             0,
             "#0d0887"
            ],
            [
             0.1111111111111111,
             "#46039f"
            ],
            [
             0.2222222222222222,
             "#7201a8"
            ],
            [
             0.3333333333333333,
             "#9c179e"
            ],
            [
             0.4444444444444444,
             "#bd3786"
            ],
            [
             0.5555555555555556,
             "#d8576b"
            ],
            [
             0.6666666666666666,
             "#ed7953"
            ],
            [
             0.7777777777777778,
             "#fb9f3a"
            ],
            [
             0.8888888888888888,
             "#fdca26"
            ],
            [
             1,
             "#f0f921"
            ]
           ]
          },
          "colorway": [
           "#636efa",
           "#EF553B",
           "#00cc96",
           "#ab63fa",
           "#FFA15A",
           "#19d3f3",
           "#FF6692",
           "#B6E880",
           "#FF97FF",
           "#FECB52"
          ],
          "font": {
           "color": "#f2f5fa"
          },
          "geo": {
           "bgcolor": "rgb(17,17,17)",
           "lakecolor": "rgb(17,17,17)",
           "landcolor": "rgb(17,17,17)",
           "showlakes": true,
           "showland": true,
           "subunitcolor": "#506784"
          },
          "hoverlabel": {
           "align": "left"
          },
          "hovermode": "closest",
          "mapbox": {
           "style": "dark"
          },
          "paper_bgcolor": "rgb(17,17,17)",
          "plot_bgcolor": "rgb(17,17,17)",
          "polar": {
           "angularaxis": {
            "gridcolor": "#506784",
            "linecolor": "#506784",
            "ticks": ""
           },
           "bgcolor": "rgb(17,17,17)",
           "radialaxis": {
            "gridcolor": "#506784",
            "linecolor": "#506784",
            "ticks": ""
           }
          },
          "scene": {
           "xaxis": {
            "backgroundcolor": "rgb(17,17,17)",
            "gridcolor": "#506784",
            "gridwidth": 2,
            "linecolor": "#506784",
            "showbackground": true,
            "ticks": "",
            "zerolinecolor": "#C8D4E3"
           },
           "yaxis": {
            "backgroundcolor": "rgb(17,17,17)",
            "gridcolor": "#506784",
            "gridwidth": 2,
            "linecolor": "#506784",
            "showbackground": true,
            "ticks": "",
            "zerolinecolor": "#C8D4E3"
           },
           "zaxis": {
            "backgroundcolor": "rgb(17,17,17)",
            "gridcolor": "#506784",
            "gridwidth": 2,
            "linecolor": "#506784",
            "showbackground": true,
            "ticks": "",
            "zerolinecolor": "#C8D4E3"
           }
          },
          "shapedefaults": {
           "line": {
            "color": "#f2f5fa"
           }
          },
          "sliderdefaults": {
           "bgcolor": "#C8D4E3",
           "bordercolor": "rgb(17,17,17)",
           "borderwidth": 1,
           "tickwidth": 0
          },
          "ternary": {
           "aaxis": {
            "gridcolor": "#506784",
            "linecolor": "#506784",
            "ticks": ""
           },
           "baxis": {
            "gridcolor": "#506784",
            "linecolor": "#506784",
            "ticks": ""
           },
           "bgcolor": "rgb(17,17,17)",
           "caxis": {
            "gridcolor": "#506784",
            "linecolor": "#506784",
            "ticks": ""
           }
          },
          "title": {
           "x": 0.05
          },
          "updatemenudefaults": {
           "bgcolor": "#506784",
           "borderwidth": 0
          },
          "xaxis": {
           "automargin": true,
           "gridcolor": "#283442",
           "linecolor": "#506784",
           "ticks": "",
           "title": {
            "standoff": 15
           },
           "zerolinecolor": "#283442",
           "zerolinewidth": 2
          },
          "yaxis": {
           "automargin": true,
           "gridcolor": "#283442",
           "linecolor": "#506784",
           "ticks": "",
           "title": {
            "standoff": 15
           },
           "zerolinecolor": "#283442",
           "zerolinewidth": 2
          }
         }
        },
        "title": {
         "text": "Count of Listed Categories"
        },
        "xaxis": {
         "anchor": "y",
         "domain": [
          0,
          1
         ],
         "title": {
          "text": "Category"
         }
        },
        "yaxis": {
         "anchor": "x",
         "domain": [
          0,
          1
         ],
         "title": {
          "text": "Count"
         }
        }
       }
      }
     },
     "metadata": {},
     "output_type": "display_data"
    }
   ],
   "source": [
    "type_count_in_df = type_count.collect().to_pandas()\n",
    "\n",
    "# Create a bar chart using Plotly\n",
    "fig = px.bar(type_count_in_df, x=\"titleType\", y=\"count\", title=\"Count of Listed Categories\", labels={\"titleType\": \"Category\", \"count\": \"Count\"})\n",
    "\n",
    "fig.update_layout(template=theme)\n",
    "fig.show()"
   ]
  },
  {
   "cell_type": "markdown",
   "metadata": {},
   "source": [
    "##### Genres Frequency"
   ]
  },
  {
   "cell_type": "code",
   "execution_count": 64,
   "metadata": {},
   "outputs": [
    {
     "data": {
      "text/html": [
       "<div><style>\n",
       ".dataframe > thead > tr,\n",
       ".dataframe > tbody > tr {\n",
       "  text-align: right;\n",
       "  white-space: pre-wrap;\n",
       "}\n",
       "</style>\n",
       "<small>shape: (29, 2)</small><table border=\"1\" class=\"dataframe\"><thead><tr><th>genres</th><th>count</th></tr><tr><td>str</td><td>u32</td></tr></thead><tbody><tr><td>&quot;Drama&quot;</td><td>440604</td></tr><tr><td>&quot;Comedy&quot;</td><td>410433</td></tr><tr><td>&quot;Action&quot;</td><td>162759</td></tr><tr><td>&quot;Documentary&quot;</td><td>162438</td></tr><tr><td>&quot;Animation&quot;</td><td>156700</td></tr><tr><td>&hellip;</td><td>&hellip;</td></tr><tr><td>&quot;News&quot;</td><td>17817</td></tr><tr><td>&quot;Western&quot;</td><td>15948</td></tr><tr><td>&quot;War&quot;</td><td>14247</td></tr><tr><td>&quot;Musical&quot;</td><td>12595</td></tr><tr><td>&quot;Film-Noir&quot;</td><td>882</td></tr></tbody></table></div>"
      ],
      "text/plain": [
       "shape: (29, 2)\n",
       "┌─────────────┬────────┐\n",
       "│ genres      ┆ count  │\n",
       "│ ---         ┆ ---    │\n",
       "│ str         ┆ u32    │\n",
       "╞═════════════╪════════╡\n",
       "│ Drama       ┆ 440604 │\n",
       "│ Comedy      ┆ 410433 │\n",
       "│ Action      ┆ 162759 │\n",
       "│ Documentary ┆ 162438 │\n",
       "│ Animation   ┆ 156700 │\n",
       "│ …           ┆ …      │\n",
       "│ News        ┆ 17817  │\n",
       "│ Western     ┆ 15948  │\n",
       "│ War         ┆ 14247  │\n",
       "│ Musical     ┆ 12595  │\n",
       "│ Film-Noir   ┆ 882    │\n",
       "└─────────────┴────────┘"
      ]
     },
     "execution_count": 64,
     "metadata": {},
     "output_type": "execute_result"
    }
   ],
   "source": [
    "genres_count = (\n",
    "    df.lazy()\n",
    "    .select(pl.col(\"genres\").str.split(\",\"))\n",
    "    .explode(\"genres\")\n",
    "    .group_by(\"genres\")\n",
    "    .agg([pl.len().alias(\"count\")])\n",
    "    .sort(\"count\", descending=True)\n",
    ")\n",
    "\n",
    "genres_count.collect()"
   ]
  },
  {
   "cell_type": "code",
   "execution_count": 65,
   "metadata": {},
   "outputs": [
    {
     "data": {
      "application/vnd.plotly.v1+json": {
       "config": {
        "plotlyServerURL": "https://plot.ly"
       },
       "data": [
        {
         "alignmentgroup": "True",
         "hovertemplate": "Genres=%{x}<br>Count=%{y}<extra></extra>",
         "legendgroup": "",
         "marker": {
          "color": "#636efa",
          "pattern": {
           "shape": ""
          }
         },
         "name": "",
         "offsetgroup": "",
         "orientation": "v",
         "showlegend": false,
         "textposition": "auto",
         "type": "bar",
         "x": [
          "Drama",
          "Comedy",
          "Action",
          "Documentary",
          "Animation",
          "Short",
          "Adventure",
          "Crime",
          "Romance",
          "Family",
          "Reality-TV",
          "Mystery",
          "Thriller",
          "Horror",
          "Fantasy",
          "Music",
          "History",
          "Talk-Show",
          "Sci-Fi",
          "Biography",
          "Sport",
          "Game-Show",
          null,
          "Adult",
          "News",
          "Western",
          "War",
          "Musical",
          "Film-Noir"
         ],
         "xaxis": "x",
         "y": [
          440604,
          410433,
          162759,
          162438,
          156700,
          155670,
          144346,
          140196,
          100048,
          94775,
          68845,
          63074,
          54342,
          54233,
          54205,
          43335,
          37436,
          36678,
          34450,
          26822,
          26486,
          26481,
          19705,
          19635,
          17817,
          15948,
          14247,
          12595,
          882
         ],
         "yaxis": "y"
        }
       ],
       "layout": {
        "barmode": "relative",
        "legend": {
         "tracegroupgap": 0
        },
        "template": {
         "data": {
          "bar": [
           {
            "error_x": {
             "color": "#f2f5fa"
            },
            "error_y": {
             "color": "#f2f5fa"
            },
            "marker": {
             "line": {
              "color": "rgb(17,17,17)",
              "width": 0.5
             },
             "pattern": {
              "fillmode": "overlay",
              "size": 10,
              "solidity": 0.2
             }
            },
            "type": "bar"
           }
          ],
          "barpolar": [
           {
            "marker": {
             "line": {
              "color": "rgb(17,17,17)",
              "width": 0.5
             },
             "pattern": {
              "fillmode": "overlay",
              "size": 10,
              "solidity": 0.2
             }
            },
            "type": "barpolar"
           }
          ],
          "carpet": [
           {
            "aaxis": {
             "endlinecolor": "#A2B1C6",
             "gridcolor": "#506784",
             "linecolor": "#506784",
             "minorgridcolor": "#506784",
             "startlinecolor": "#A2B1C6"
            },
            "baxis": {
             "endlinecolor": "#A2B1C6",
             "gridcolor": "#506784",
             "linecolor": "#506784",
             "minorgridcolor": "#506784",
             "startlinecolor": "#A2B1C6"
            },
            "type": "carpet"
           }
          ],
          "choropleth": [
           {
            "colorbar": {
             "outlinewidth": 0,
             "ticks": ""
            },
            "type": "choropleth"
           }
          ],
          "contour": [
           {
            "colorbar": {
             "outlinewidth": 0,
             "ticks": ""
            },
            "colorscale": [
             [
              0,
              "#0d0887"
             ],
             [
              0.1111111111111111,
              "#46039f"
             ],
             [
              0.2222222222222222,
              "#7201a8"
             ],
             [
              0.3333333333333333,
              "#9c179e"
             ],
             [
              0.4444444444444444,
              "#bd3786"
             ],
             [
              0.5555555555555556,
              "#d8576b"
             ],
             [
              0.6666666666666666,
              "#ed7953"
             ],
             [
              0.7777777777777778,
              "#fb9f3a"
             ],
             [
              0.8888888888888888,
              "#fdca26"
             ],
             [
              1,
              "#f0f921"
             ]
            ],
            "type": "contour"
           }
          ],
          "contourcarpet": [
           {
            "colorbar": {
             "outlinewidth": 0,
             "ticks": ""
            },
            "type": "contourcarpet"
           }
          ],
          "heatmap": [
           {
            "colorbar": {
             "outlinewidth": 0,
             "ticks": ""
            },
            "colorscale": [
             [
              0,
              "#0d0887"
             ],
             [
              0.1111111111111111,
              "#46039f"
             ],
             [
              0.2222222222222222,
              "#7201a8"
             ],
             [
              0.3333333333333333,
              "#9c179e"
             ],
             [
              0.4444444444444444,
              "#bd3786"
             ],
             [
              0.5555555555555556,
              "#d8576b"
             ],
             [
              0.6666666666666666,
              "#ed7953"
             ],
             [
              0.7777777777777778,
              "#fb9f3a"
             ],
             [
              0.8888888888888888,
              "#fdca26"
             ],
             [
              1,
              "#f0f921"
             ]
            ],
            "type": "heatmap"
           }
          ],
          "heatmapgl": [
           {
            "colorbar": {
             "outlinewidth": 0,
             "ticks": ""
            },
            "colorscale": [
             [
              0,
              "#0d0887"
             ],
             [
              0.1111111111111111,
              "#46039f"
             ],
             [
              0.2222222222222222,
              "#7201a8"
             ],
             [
              0.3333333333333333,
              "#9c179e"
             ],
             [
              0.4444444444444444,
              "#bd3786"
             ],
             [
              0.5555555555555556,
              "#d8576b"
             ],
             [
              0.6666666666666666,
              "#ed7953"
             ],
             [
              0.7777777777777778,
              "#fb9f3a"
             ],
             [
              0.8888888888888888,
              "#fdca26"
             ],
             [
              1,
              "#f0f921"
             ]
            ],
            "type": "heatmapgl"
           }
          ],
          "histogram": [
           {
            "marker": {
             "pattern": {
              "fillmode": "overlay",
              "size": 10,
              "solidity": 0.2
             }
            },
            "type": "histogram"
           }
          ],
          "histogram2d": [
           {
            "colorbar": {
             "outlinewidth": 0,
             "ticks": ""
            },
            "colorscale": [
             [
              0,
              "#0d0887"
             ],
             [
              0.1111111111111111,
              "#46039f"
             ],
             [
              0.2222222222222222,
              "#7201a8"
             ],
             [
              0.3333333333333333,
              "#9c179e"
             ],
             [
              0.4444444444444444,
              "#bd3786"
             ],
             [
              0.5555555555555556,
              "#d8576b"
             ],
             [
              0.6666666666666666,
              "#ed7953"
             ],
             [
              0.7777777777777778,
              "#fb9f3a"
             ],
             [
              0.8888888888888888,
              "#fdca26"
             ],
             [
              1,
              "#f0f921"
             ]
            ],
            "type": "histogram2d"
           }
          ],
          "histogram2dcontour": [
           {
            "colorbar": {
             "outlinewidth": 0,
             "ticks": ""
            },
            "colorscale": [
             [
              0,
              "#0d0887"
             ],
             [
              0.1111111111111111,
              "#46039f"
             ],
             [
              0.2222222222222222,
              "#7201a8"
             ],
             [
              0.3333333333333333,
              "#9c179e"
             ],
             [
              0.4444444444444444,
              "#bd3786"
             ],
             [
              0.5555555555555556,
              "#d8576b"
             ],
             [
              0.6666666666666666,
              "#ed7953"
             ],
             [
              0.7777777777777778,
              "#fb9f3a"
             ],
             [
              0.8888888888888888,
              "#fdca26"
             ],
             [
              1,
              "#f0f921"
             ]
            ],
            "type": "histogram2dcontour"
           }
          ],
          "mesh3d": [
           {
            "colorbar": {
             "outlinewidth": 0,
             "ticks": ""
            },
            "type": "mesh3d"
           }
          ],
          "parcoords": [
           {
            "line": {
             "colorbar": {
              "outlinewidth": 0,
              "ticks": ""
             }
            },
            "type": "parcoords"
           }
          ],
          "pie": [
           {
            "automargin": true,
            "type": "pie"
           }
          ],
          "scatter": [
           {
            "marker": {
             "line": {
              "color": "#283442"
             }
            },
            "type": "scatter"
           }
          ],
          "scatter3d": [
           {
            "line": {
             "colorbar": {
              "outlinewidth": 0,
              "ticks": ""
             }
            },
            "marker": {
             "colorbar": {
              "outlinewidth": 0,
              "ticks": ""
             }
            },
            "type": "scatter3d"
           }
          ],
          "scattercarpet": [
           {
            "marker": {
             "colorbar": {
              "outlinewidth": 0,
              "ticks": ""
             }
            },
            "type": "scattercarpet"
           }
          ],
          "scattergeo": [
           {
            "marker": {
             "colorbar": {
              "outlinewidth": 0,
              "ticks": ""
             }
            },
            "type": "scattergeo"
           }
          ],
          "scattergl": [
           {
            "marker": {
             "line": {
              "color": "#283442"
             }
            },
            "type": "scattergl"
           }
          ],
          "scattermapbox": [
           {
            "marker": {
             "colorbar": {
              "outlinewidth": 0,
              "ticks": ""
             }
            },
            "type": "scattermapbox"
           }
          ],
          "scatterpolar": [
           {
            "marker": {
             "colorbar": {
              "outlinewidth": 0,
              "ticks": ""
             }
            },
            "type": "scatterpolar"
           }
          ],
          "scatterpolargl": [
           {
            "marker": {
             "colorbar": {
              "outlinewidth": 0,
              "ticks": ""
             }
            },
            "type": "scatterpolargl"
           }
          ],
          "scatterternary": [
           {
            "marker": {
             "colorbar": {
              "outlinewidth": 0,
              "ticks": ""
             }
            },
            "type": "scatterternary"
           }
          ],
          "surface": [
           {
            "colorbar": {
             "outlinewidth": 0,
             "ticks": ""
            },
            "colorscale": [
             [
              0,
              "#0d0887"
             ],
             [
              0.1111111111111111,
              "#46039f"
             ],
             [
              0.2222222222222222,
              "#7201a8"
             ],
             [
              0.3333333333333333,
              "#9c179e"
             ],
             [
              0.4444444444444444,
              "#bd3786"
             ],
             [
              0.5555555555555556,
              "#d8576b"
             ],
             [
              0.6666666666666666,
              "#ed7953"
             ],
             [
              0.7777777777777778,
              "#fb9f3a"
             ],
             [
              0.8888888888888888,
              "#fdca26"
             ],
             [
              1,
              "#f0f921"
             ]
            ],
            "type": "surface"
           }
          ],
          "table": [
           {
            "cells": {
             "fill": {
              "color": "#506784"
             },
             "line": {
              "color": "rgb(17,17,17)"
             }
            },
            "header": {
             "fill": {
              "color": "#2a3f5f"
             },
             "line": {
              "color": "rgb(17,17,17)"
             }
            },
            "type": "table"
           }
          ]
         },
         "layout": {
          "annotationdefaults": {
           "arrowcolor": "#f2f5fa",
           "arrowhead": 0,
           "arrowwidth": 1
          },
          "autotypenumbers": "strict",
          "coloraxis": {
           "colorbar": {
            "outlinewidth": 0,
            "ticks": ""
           }
          },
          "colorscale": {
           "diverging": [
            [
             0,
             "#8e0152"
            ],
            [
             0.1,
             "#c51b7d"
            ],
            [
             0.2,
             "#de77ae"
            ],
            [
             0.3,
             "#f1b6da"
            ],
            [
             0.4,
             "#fde0ef"
            ],
            [
             0.5,
             "#f7f7f7"
            ],
            [
             0.6,
             "#e6f5d0"
            ],
            [
             0.7,
             "#b8e186"
            ],
            [
             0.8,
             "#7fbc41"
            ],
            [
             0.9,
             "#4d9221"
            ],
            [
             1,
             "#276419"
            ]
           ],
           "sequential": [
            [
             0,
             "#0d0887"
            ],
            [
             0.1111111111111111,
             "#46039f"
            ],
            [
             0.2222222222222222,
             "#7201a8"
            ],
            [
             0.3333333333333333,
             "#9c179e"
            ],
            [
             0.4444444444444444,
             "#bd3786"
            ],
            [
             0.5555555555555556,
             "#d8576b"
            ],
            [
             0.6666666666666666,
             "#ed7953"
            ],
            [
             0.7777777777777778,
             "#fb9f3a"
            ],
            [
             0.8888888888888888,
             "#fdca26"
            ],
            [
             1,
             "#f0f921"
            ]
           ],
           "sequentialminus": [
            [
             0,
             "#0d0887"
            ],
            [
             0.1111111111111111,
             "#46039f"
            ],
            [
             0.2222222222222222,
             "#7201a8"
            ],
            [
             0.3333333333333333,
             "#9c179e"
            ],
            [
             0.4444444444444444,
             "#bd3786"
            ],
            [
             0.5555555555555556,
             "#d8576b"
            ],
            [
             0.6666666666666666,
             "#ed7953"
            ],
            [
             0.7777777777777778,
             "#fb9f3a"
            ],
            [
             0.8888888888888888,
             "#fdca26"
            ],
            [
             1,
             "#f0f921"
            ]
           ]
          },
          "colorway": [
           "#636efa",
           "#EF553B",
           "#00cc96",
           "#ab63fa",
           "#FFA15A",
           "#19d3f3",
           "#FF6692",
           "#B6E880",
           "#FF97FF",
           "#FECB52"
          ],
          "font": {
           "color": "#f2f5fa"
          },
          "geo": {
           "bgcolor": "rgb(17,17,17)",
           "lakecolor": "rgb(17,17,17)",
           "landcolor": "rgb(17,17,17)",
           "showlakes": true,
           "showland": true,
           "subunitcolor": "#506784"
          },
          "hoverlabel": {
           "align": "left"
          },
          "hovermode": "closest",
          "mapbox": {
           "style": "dark"
          },
          "paper_bgcolor": "rgb(17,17,17)",
          "plot_bgcolor": "rgb(17,17,17)",
          "polar": {
           "angularaxis": {
            "gridcolor": "#506784",
            "linecolor": "#506784",
            "ticks": ""
           },
           "bgcolor": "rgb(17,17,17)",
           "radialaxis": {
            "gridcolor": "#506784",
            "linecolor": "#506784",
            "ticks": ""
           }
          },
          "scene": {
           "xaxis": {
            "backgroundcolor": "rgb(17,17,17)",
            "gridcolor": "#506784",
            "gridwidth": 2,
            "linecolor": "#506784",
            "showbackground": true,
            "ticks": "",
            "zerolinecolor": "#C8D4E3"
           },
           "yaxis": {
            "backgroundcolor": "rgb(17,17,17)",
            "gridcolor": "#506784",
            "gridwidth": 2,
            "linecolor": "#506784",
            "showbackground": true,
            "ticks": "",
            "zerolinecolor": "#C8D4E3"
           },
           "zaxis": {
            "backgroundcolor": "rgb(17,17,17)",
            "gridcolor": "#506784",
            "gridwidth": 2,
            "linecolor": "#506784",
            "showbackground": true,
            "ticks": "",
            "zerolinecolor": "#C8D4E3"
           }
          },
          "shapedefaults": {
           "line": {
            "color": "#f2f5fa"
           }
          },
          "sliderdefaults": {
           "bgcolor": "#C8D4E3",
           "bordercolor": "rgb(17,17,17)",
           "borderwidth": 1,
           "tickwidth": 0
          },
          "ternary": {
           "aaxis": {
            "gridcolor": "#506784",
            "linecolor": "#506784",
            "ticks": ""
           },
           "baxis": {
            "gridcolor": "#506784",
            "linecolor": "#506784",
            "ticks": ""
           },
           "bgcolor": "rgb(17,17,17)",
           "caxis": {
            "gridcolor": "#506784",
            "linecolor": "#506784",
            "ticks": ""
           }
          },
          "title": {
           "x": 0.05
          },
          "updatemenudefaults": {
           "bgcolor": "#506784",
           "borderwidth": 0
          },
          "xaxis": {
           "automargin": true,
           "gridcolor": "#283442",
           "linecolor": "#506784",
           "ticks": "",
           "title": {
            "standoff": 15
           },
           "zerolinecolor": "#283442",
           "zerolinewidth": 2
          },
          "yaxis": {
           "automargin": true,
           "gridcolor": "#283442",
           "linecolor": "#506784",
           "ticks": "",
           "title": {
            "standoff": 15
           },
           "zerolinecolor": "#283442",
           "zerolinewidth": 2
          }
         }
        },
        "title": {
         "text": "Count of Listed Genres"
        },
        "xaxis": {
         "anchor": "y",
         "domain": [
          0,
          1
         ],
         "title": {
          "text": "Genres"
         }
        },
        "yaxis": {
         "anchor": "x",
         "domain": [
          0,
          1
         ],
         "title": {
          "text": "Count"
         }
        }
       }
      }
     },
     "metadata": {},
     "output_type": "display_data"
    }
   ],
   "source": [
    "genres_count_in_df = genres_count.collect().to_pandas()\n",
    "\n",
    "# Create a bar chart using Plotly\n",
    "fig = px.bar(genres_count_in_df, x=\"genres\", y=\"count\", title=\"Count of Listed Genres\", labels={\"genres\": \"Genres\", \"count\": \"Count\"})\n",
    "# Apply dark theme\n",
    "fig.update_layout(template=theme)\n",
    "fig.show()"
   ]
  },
  {
   "cell_type": "markdown",
   "metadata": {},
   "source": [
    "##### Top Few Titles"
   ]
  },
  {
   "cell_type": "code",
   "execution_count": 66,
   "metadata": {},
   "outputs": [
    {
     "data": {
      "text/html": [
       "<div><style>\n",
       ".dataframe > thead > tr,\n",
       ".dataframe > tbody > tr {\n",
       "  text-align: right;\n",
       "  white-space: pre-wrap;\n",
       "}\n",
       "</style>\n",
       "<small>shape: (25, 5)</small><table border=\"1\" class=\"dataframe\"><thead><tr><th>primaryTitle</th><th>titleType</th><th>averageRating</th><th>numVotes</th><th>weightedRating</th></tr><tr><td>str</td><td>str</td><td>f64</td><td>i64</td><td>f64</td></tr></thead><tbody><tr><td>&quot;The Shawshank Redemption&quot;</td><td>&quot;movie&quot;</td><td>9.3</td><td>2732446</td><td>236329.25454</td></tr><tr><td>&quot;The Dark Knight&quot;</td><td>&quot;movie&quot;</td><td>9.0</td><td>2705636</td><td>219156.516</td></tr><tr><td>&quot;Inception&quot;</td><td>&quot;movie&quot;</td><td>8.8</td><td>2401515</td><td>185973.3216</td></tr><tr><td>&quot;Game of Thrones&quot;</td><td>&quot;tvSeries&quot;</td><td>9.2</td><td>2154178</td><td>182329.62592</td></tr><tr><td>&quot;Breaking Bad&quot;</td><td>&quot;tvSeries&quot;</td><td>9.5</td><td>1964594</td><td>177304.6085</td></tr><tr><td>&hellip;</td><td>&hellip;</td><td>&hellip;</td><td>&hellip;</td><td>&hellip;</td></tr><tr><td>&quot;The Godfather Part II&quot;</td><td>&quot;movie&quot;</td><td>9.0</td><td>1295390</td><td>104926.59</td></tr><tr><td>&quot;Saving Private Ryan&quot;</td><td>&quot;movie&quot;</td><td>8.6</td><td>1417607</td><td>104846.21372</td></tr><tr><td>&quot;Star Wars: Episode IV - A New …</td><td>&quot;movie&quot;</td><td>8.6</td><td>1387837</td><td>102644.42452</td></tr><tr><td>&quot;Inglourious Basterds&quot;</td><td>&quot;movie&quot;</td><td>8.3</td><td>1484315</td><td>102254.46035</td></tr><tr><td>&quot;Batman Begins&quot;</td><td>&quot;movie&quot;</td><td>8.2</td><td>1497020</td><td>100659.6248</td></tr></tbody></table></div>"
      ],
      "text/plain": [
       "shape: (25, 5)\n",
       "┌─────────────────────────────────┬───────────┬───────────────┬──────────┬────────────────┐\n",
       "│ primaryTitle                    ┆ titleType ┆ averageRating ┆ numVotes ┆ weightedRating │\n",
       "│ ---                             ┆ ---       ┆ ---           ┆ ---      ┆ ---            │\n",
       "│ str                             ┆ str       ┆ f64           ┆ i64      ┆ f64            │\n",
       "╞═════════════════════════════════╪═══════════╪═══════════════╪══════════╪════════════════╡\n",
       "│ The Shawshank Redemption        ┆ movie     ┆ 9.3           ┆ 2732446  ┆ 236329.25454   │\n",
       "│ The Dark Knight                 ┆ movie     ┆ 9.0           ┆ 2705636  ┆ 219156.516     │\n",
       "│ Inception                       ┆ movie     ┆ 8.8           ┆ 2401515  ┆ 185973.3216    │\n",
       "│ Game of Thrones                 ┆ tvSeries  ┆ 9.2           ┆ 2154178  ┆ 182329.62592   │\n",
       "│ Breaking Bad                    ┆ tvSeries  ┆ 9.5           ┆ 1964594  ┆ 177304.6085    │\n",
       "│ …                               ┆ …         ┆ …             ┆ …        ┆ …              │\n",
       "│ The Godfather Part II           ┆ movie     ┆ 9.0           ┆ 1295390  ┆ 104926.59      │\n",
       "│ Saving Private Ryan             ┆ movie     ┆ 8.6           ┆ 1417607  ┆ 104846.21372   │\n",
       "│ Star Wars: Episode IV - A New … ┆ movie     ┆ 8.6           ┆ 1387837  ┆ 102644.42452   │\n",
       "│ Inglourious Basterds            ┆ movie     ┆ 8.3           ┆ 1484315  ┆ 102254.46035   │\n",
       "│ Batman Begins                   ┆ movie     ┆ 8.2           ┆ 1497020  ┆ 100659.6248    │\n",
       "└─────────────────────────────────┴───────────┴───────────────┴──────────┴────────────────┘"
      ]
     },
     "execution_count": 66,
     "metadata": {},
     "output_type": "execute_result"
    }
   ],
   "source": [
    "top_few_movies = (\n",
    "    df.lazy()\n",
    "    .select([\"primaryTitle\", \"titleType\", \"averageRating\", \"numVotes\", (pl.col('averageRating') ** rating_preference * pl.col('numVotes') / 1000).alias(\"weightedRating\")])\n",
    "    .sort(\"weightedRating\", descending=True)\n",
    "    .limit(25)\n",
    ")\n",
    "\n",
    "top_few_movies.collect()"
   ]
  },
  {
   "cell_type": "markdown",
   "metadata": {},
   "source": [
    "##### Top Few Titles by Type"
   ]
  },
  {
   "cell_type": "code",
   "execution_count": 67,
   "metadata": {},
   "outputs": [
    {
     "data": {
      "text/html": [
       "<div><style>\n",
       ".dataframe > thead > tr,\n",
       ".dataframe > tbody > tr {\n",
       "  text-align: right;\n",
       "  white-space: pre-wrap;\n",
       "}\n",
       "</style>\n",
       "<small>shape: (25, 5)</small><table border=\"1\" class=\"dataframe\"><thead><tr><th>primaryTitle</th><th>titleType</th><th>averageRating</th><th>numVotes</th><th>weightedRating</th></tr><tr><td>str</td><td>str</td><td>f64</td><td>i64</td><td>f64</td></tr></thead><tbody><tr><td>&quot;Game of Thrones&quot;</td><td>&quot;tvSeries&quot;</td><td>9.2</td><td>2154178</td><td>182329.62592</td></tr><tr><td>&quot;Breaking Bad&quot;</td><td>&quot;tvSeries&quot;</td><td>9.5</td><td>1964594</td><td>177304.6085</td></tr><tr><td>&quot;Stranger Things&quot;</td><td>&quot;tvSeries&quot;</td><td>8.7</td><td>1236064</td><td>93557.68416</td></tr><tr><td>&quot;Friends&quot;</td><td>&quot;tvSeries&quot;</td><td>8.9</td><td>1022109</td><td>80961.25389</td></tr><tr><td>&quot;Sherlock&quot;</td><td>&quot;tvSeries&quot;</td><td>9.1</td><td>947111</td><td>78430.26191</td></tr><tr><td>&hellip;</td><td>&hellip;</td><td>&hellip;</td><td>&hellip;</td><td>&hellip;</td></tr><tr><td>&quot;Prison Break&quot;</td><td>&quot;tvSeries&quot;</td><td>8.3</td><td>549661</td><td>37866.14629</td></tr><tr><td>&quot;Westworld&quot;</td><td>&quot;tvSeries&quot;</td><td>8.5</td><td>514348</td><td>37161.643</td></tr><tr><td>&quot;House&quot;</td><td>&quot;tvSeries&quot;</td><td>8.7</td><td>476875</td><td>36094.66875</td></tr><tr><td>&quot;The Sopranos&quot;</td><td>&quot;tvSeries&quot;</td><td>9.2</td><td>419973</td><td>35546.51472</td></tr><tr><td>&quot;Narcos&quot;</td><td>&quot;tvSeries&quot;</td><td>8.8</td><td>439323</td><td>34021.17312</td></tr></tbody></table></div>"
      ],
      "text/plain": [
       "shape: (25, 5)\n",
       "┌─────────────────┬───────────┬───────────────┬──────────┬────────────────┐\n",
       "│ primaryTitle    ┆ titleType ┆ averageRating ┆ numVotes ┆ weightedRating │\n",
       "│ ---             ┆ ---       ┆ ---           ┆ ---      ┆ ---            │\n",
       "│ str             ┆ str       ┆ f64           ┆ i64      ┆ f64            │\n",
       "╞═════════════════╪═══════════╪═══════════════╪══════════╪════════════════╡\n",
       "│ Game of Thrones ┆ tvSeries  ┆ 9.2           ┆ 2154178  ┆ 182329.62592   │\n",
       "│ Breaking Bad    ┆ tvSeries  ┆ 9.5           ┆ 1964594  ┆ 177304.6085    │\n",
       "│ Stranger Things ┆ tvSeries  ┆ 8.7           ┆ 1236064  ┆ 93557.68416    │\n",
       "│ Friends         ┆ tvSeries  ┆ 8.9           ┆ 1022109  ┆ 80961.25389    │\n",
       "│ Sherlock        ┆ tvSeries  ┆ 9.1           ┆ 947111   ┆ 78430.26191    │\n",
       "│ …               ┆ …         ┆ …             ┆ …        ┆ …              │\n",
       "│ Prison Break    ┆ tvSeries  ┆ 8.3           ┆ 549661   ┆ 37866.14629    │\n",
       "│ Westworld       ┆ tvSeries  ┆ 8.5           ┆ 514348   ┆ 37161.643      │\n",
       "│ House           ┆ tvSeries  ┆ 8.7           ┆ 476875   ┆ 36094.66875    │\n",
       "│ The Sopranos    ┆ tvSeries  ┆ 9.2           ┆ 419973   ┆ 35546.51472    │\n",
       "│ Narcos          ┆ tvSeries  ┆ 8.8           ┆ 439323   ┆ 34021.17312    │\n",
       "└─────────────────┴───────────┴───────────────┴──────────┴────────────────┘"
      ]
     },
     "execution_count": 67,
     "metadata": {},
     "output_type": "execute_result"
    }
   ],
   "source": [
    "top_few_movies_by_types = (\n",
    "    df.lazy()\n",
    "    .filter(pl.col(\"titleType\") == \"tvSeries\")\n",
    "    .select([\"primaryTitle\", \"titleType\", \"averageRating\", \"numVotes\", (pl.col('averageRating') ** rating_preference * pl.col('numVotes') / 1000).alias(\"weightedRating\")])\n",
    "    .sort(\"weightedRating\", descending=True)\n",
    "    .limit(25)\n",
    ")\n",
    "\n",
    "top_few_movies_by_types.collect()"
   ]
  },
  {
   "cell_type": "markdown",
   "metadata": {},
   "source": [
    "##### Top Few Titles by Genres"
   ]
  },
  {
   "cell_type": "code",
   "execution_count": 68,
   "metadata": {},
   "outputs": [
    {
     "data": {
      "text/html": [
       "<div><style>\n",
       ".dataframe > thead > tr,\n",
       ".dataframe > tbody > tr {\n",
       "  text-align: right;\n",
       "  white-space: pre-wrap;\n",
       "}\n",
       "</style>\n",
       "<small>shape: (25, 5)</small><table border=\"1\" class=\"dataframe\"><thead><tr><th>primaryTitle</th><th>titleType</th><th>averageRating</th><th>numVotes</th><th>weightedRating</th></tr><tr><td>str</td><td>str</td><td>f64</td><td>i64</td><td>f64</td></tr></thead><tbody><tr><td>&quot;The Dark Knight&quot;</td><td>&quot;movie&quot;</td><td>9.0</td><td>2705636</td><td>219156.516</td></tr><tr><td>&quot;Breaking Bad&quot;</td><td>&quot;tvSeries&quot;</td><td>9.5</td><td>1964594</td><td>177304.6085</td></tr><tr><td>&quot;Pulp Fiction&quot;</td><td>&quot;movie&quot;</td><td>8.9</td><td>2099696</td><td>166316.92016</td></tr><tr><td>&quot;The Godfather&quot;</td><td>&quot;movie&quot;</td><td>9.2</td><td>1899931</td><td>160810.15984</td></tr><tr><td>&quot;Se7en&quot;</td><td>&quot;movie&quot;</td><td>8.6</td><td>1689151</td><td>124929.60796</td></tr><tr><td>&hellip;</td><td>&hellip;</td><td>&hellip;</td><td>&hellip;</td><td>&hellip;</td></tr><tr><td>&quot;Catch Me If You Can&quot;</td><td>&quot;movie&quot;</td><td>8.1</td><td>1014752</td><td>66577.87872</td></tr><tr><td>&quot;12 Angry Men&quot;</td><td>&quot;movie&quot;</td><td>9.0</td><td>808525</td><td>65490.525</td></tr><tr><td>&quot;Scarface&quot;</td><td>&quot;movie&quot;</td><td>8.3</td><td>861605</td><td>59355.96845</td></tr><tr><td>&quot;Snatch&quot;</td><td>&quot;movie&quot;</td><td>8.2</td><td>870931</td><td>58561.40044</td></tr><tr><td>&quot;A Clockwork Orange&quot;</td><td>&quot;movie&quot;</td><td>8.3</td><td>844868</td><td>58202.95652</td></tr></tbody></table></div>"
      ],
      "text/plain": [
       "shape: (25, 5)\n",
       "┌─────────────────────┬───────────┬───────────────┬──────────┬────────────────┐\n",
       "│ primaryTitle        ┆ titleType ┆ averageRating ┆ numVotes ┆ weightedRating │\n",
       "│ ---                 ┆ ---       ┆ ---           ┆ ---      ┆ ---            │\n",
       "│ str                 ┆ str       ┆ f64           ┆ i64      ┆ f64            │\n",
       "╞═════════════════════╪═══════════╪═══════════════╪══════════╪════════════════╡\n",
       "│ The Dark Knight     ┆ movie     ┆ 9.0           ┆ 2705636  ┆ 219156.516     │\n",
       "│ Breaking Bad        ┆ tvSeries  ┆ 9.5           ┆ 1964594  ┆ 177304.6085    │\n",
       "│ Pulp Fiction        ┆ movie     ┆ 8.9           ┆ 2099696  ┆ 166316.92016   │\n",
       "│ The Godfather       ┆ movie     ┆ 9.2           ┆ 1899931  ┆ 160810.15984   │\n",
       "│ Se7en               ┆ movie     ┆ 8.6           ┆ 1689151  ┆ 124929.60796   │\n",
       "│ …                   ┆ …         ┆ …             ┆ …        ┆ …              │\n",
       "│ Catch Me If You Can ┆ movie     ┆ 8.1           ┆ 1014752  ┆ 66577.87872    │\n",
       "│ 12 Angry Men        ┆ movie     ┆ 9.0           ┆ 808525   ┆ 65490.525      │\n",
       "│ Scarface            ┆ movie     ┆ 8.3           ┆ 861605   ┆ 59355.96845    │\n",
       "│ Snatch              ┆ movie     ┆ 8.2           ┆ 870931   ┆ 58561.40044    │\n",
       "│ A Clockwork Orange  ┆ movie     ┆ 8.3           ┆ 844868   ┆ 58202.95652    │\n",
       "└─────────────────────┴───────────┴───────────────┴──────────┴────────────────┘"
      ]
     },
     "execution_count": 68,
     "metadata": {},
     "output_type": "execute_result"
    }
   ],
   "source": [
    "# top few titles by genres\n",
    "\n",
    "top_few_movies_by_genres = (\n",
    "    df.lazy()\n",
    "    .filter(pl.col(\"genres\").str.contains(\"Crime\"))\n",
    "    .select([\"primaryTitle\", \"titleType\", \"averageRating\", \"numVotes\", (pl.col('averageRating') ** rating_preference * pl.col('numVotes') / 1000).alias(\"weightedRating\")])\n",
    "    .sort(\"weightedRating\", descending=True)\n",
    "    .limit(25)\n",
    ")\n",
    "\n",
    "top_few_movies_by_genres.collect()"
   ]
  },
  {
   "cell_type": "markdown",
   "metadata": {},
   "source": [
    "##### Genres vs Rating "
   ]
  },
  {
   "cell_type": "code",
   "execution_count": 69,
   "metadata": {},
   "outputs": [
    {
     "data": {
      "text/html": [
       "<div><style>\n",
       ".dataframe > thead > tr,\n",
       ".dataframe > tbody > tr {\n",
       "  text-align: right;\n",
       "  white-space: pre-wrap;\n",
       "}\n",
       "</style>\n",
       "<small>shape: (29, 4)</small><table border=\"1\" class=\"dataframe\"><thead><tr><th>genres</th><th>avgRating</th><th>count</th><th>weightedRating</th></tr><tr><td>str</td><td>f64</td><td>u32</td><td>f64</td></tr></thead><tbody><tr><td>&quot;Drama&quot;</td><td>7.047944</td><td>440604</td><td>21886.351802</td></tr><tr><td>&quot;Comedy&quot;</td><td>6.993148</td><td>410433</td><td>20071.866867</td></tr><tr><td>&quot;Documentary&quot;</td><td>7.264498</td><td>162438</td><td>8572.329017</td></tr><tr><td>&quot;Action&quot;</td><td>7.020403</td><td>162759</td><td>8021.748551</td></tr><tr><td>&quot;Animation&quot;</td><td>7.106294</td><td>156700</td><td>7913.257247</td></tr><tr><td>&hellip;</td><td>&hellip;</td><td>&hellip;</td><td>&hellip;</td></tr><tr><td>&quot;Adult&quot;</td><td>6.338054</td><td>19635</td><td>788.756304</td></tr><tr><td>&quot;Western&quot;</td><td>6.953399</td><td>15948</td><td>771.081834</td></tr><tr><td>&quot;War&quot;</td><td>7.029726</td><td>14247</td><td>704.044589</td></tr><tr><td>&quot;Musical&quot;</td><td>6.634538</td><td>12595</td><td>554.395224</td></tr><tr><td>&quot;Film-Noir&quot;</td><td>6.467574</td><td>882</td><td>36.893627</td></tr></tbody></table></div>"
      ],
      "text/plain": [
       "shape: (29, 4)\n",
       "┌─────────────┬───────────┬────────┬────────────────┐\n",
       "│ genres      ┆ avgRating ┆ count  ┆ weightedRating │\n",
       "│ ---         ┆ ---       ┆ ---    ┆ ---            │\n",
       "│ str         ┆ f64       ┆ u32    ┆ f64            │\n",
       "╞═════════════╪═══════════╪════════╪════════════════╡\n",
       "│ Drama       ┆ 7.047944  ┆ 440604 ┆ 21886.351802   │\n",
       "│ Comedy      ┆ 6.993148  ┆ 410433 ┆ 20071.866867   │\n",
       "│ Documentary ┆ 7.264498  ┆ 162438 ┆ 8572.329017    │\n",
       "│ Action      ┆ 7.020403  ┆ 162759 ┆ 8021.748551    │\n",
       "│ Animation   ┆ 7.106294  ┆ 156700 ┆ 7913.257247    │\n",
       "│ …           ┆ …         ┆ …      ┆ …              │\n",
       "│ Adult       ┆ 6.338054  ┆ 19635  ┆ 788.756304     │\n",
       "│ Western     ┆ 6.953399  ┆ 15948  ┆ 771.081834     │\n",
       "│ War         ┆ 7.029726  ┆ 14247  ┆ 704.044589     │\n",
       "│ Musical     ┆ 6.634538  ┆ 12595  ┆ 554.395224     │\n",
       "│ Film-Noir   ┆ 6.467574  ┆ 882    ┆ 36.893627      │\n",
       "└─────────────┴───────────┴────────┴────────────────┘"
      ]
     },
     "execution_count": 69,
     "metadata": {},
     "output_type": "execute_result"
    }
   ],
   "source": [
    "genres_avg_rating = (\n",
    "    df.lazy()\n",
    "    .select([pl.col(\"genres\"), pl.col(\"averageRating\")])  \n",
    "    .with_columns([pl.col(\"genres\").str.split(\",\").alias(\"genres\")]) \n",
    "    .explode(\"genres\") \n",
    "    .group_by(\"genres\")  \n",
    "    .agg([\n",
    "        pl.col(\"averageRating\").mean().alias(\"avgRating\"), \n",
    "        pl.len().alias(\"count\"),\n",
    "    ])\n",
    "    .with_columns([\n",
    "        (pl.col(\"avgRating\") ** rating_preference * pl.col(\"count\") / 1000).alias(\"weightedRating\")\n",
    "    ])\n",
    "    .sort(\"weightedRating\", descending=True)\n",
    ")\n",
    "\n",
    "genres_avg_rating.collect()\n"
   ]
  },
  {
   "cell_type": "code",
   "execution_count": 70,
   "metadata": {},
   "outputs": [
    {
     "data": {
      "application/vnd.plotly.v1+json": {
       "config": {
        "plotlyServerURL": "https://plot.ly"
       },
       "data": [
        {
         "alignmentgroup": "True",
         "hovertemplate": "Genres=%{x}<br>Count=%{y}<br>avgRating=%{marker.color}<extra></extra>",
         "legendgroup": "",
         "marker": {
          "color": [
           7.04794441266999,
           6.993148455411879,
           7.264497839175574,
           7.020402558383592,
           7.106293554562771,
           6.845326652534087,
           7.100543832180772,
           7.139844218094514,
           7.078010023740403,
           6.881278986086642,
           6.969227975887832,
           7.126178774138342,
           7.072048703994123,
           6.419940377608536,
           7.063142956040112,
           6.122080652001557,
           7.33278128005135,
           6.870786302415543,
           6.708801161103095,
           7.2152934158526865,
           7.108249641319976,
           7.055024357086238,
           6.463339253996446,
           6.7267890217208235,
           6.3380544945250605,
           6.953398545272124,
           7.029725556257443,
           6.634537514886846,
           6.467573696145128
          ],
          "coloraxis": "coloraxis",
          "pattern": {
           "shape": ""
          }
         },
         "name": "",
         "offsetgroup": "",
         "orientation": "v",
         "showlegend": false,
         "textposition": "auto",
         "type": "bar",
         "x": [
          "Drama",
          "Comedy",
          "Documentary",
          "Action",
          "Animation",
          "Short",
          "Adventure",
          "Crime",
          "Family",
          "Romance",
          "Reality-TV",
          "Mystery",
          "Fantasy",
          "Thriller",
          "Music",
          "Horror",
          "History",
          "Talk-Show",
          "Sci-Fi",
          "Biography",
          "Sport",
          "Game-Show",
          null,
          "News",
          "Adult",
          "Western",
          "War",
          "Musical",
          "Film-Noir"
         ],
         "xaxis": "x",
         "y": [
          440604,
          410433,
          162438,
          162759,
          156700,
          155670,
          144346,
          140196,
          94775,
          100048,
          68845,
          63074,
          54205,
          54342,
          43335,
          54233,
          37436,
          36678,
          34450,
          26822,
          26486,
          26481,
          19705,
          17817,
          19635,
          15948,
          14247,
          12595,
          882
         ],
         "yaxis": "y"
        }
       ],
       "layout": {
        "barmode": "relative",
        "coloraxis": {
         "colorbar": {
          "title": {
           "text": "avgRating"
          }
         },
         "colorscale": [
          [
           0,
           "#440154"
          ],
          [
           0.1111111111111111,
           "#482878"
          ],
          [
           0.2222222222222222,
           "#3e4989"
          ],
          [
           0.3333333333333333,
           "#31688e"
          ],
          [
           0.4444444444444444,
           "#26828e"
          ],
          [
           0.5555555555555556,
           "#1f9e89"
          ],
          [
           0.6666666666666666,
           "#35b779"
          ],
          [
           0.7777777777777778,
           "#6ece58"
          ],
          [
           0.8888888888888888,
           "#b5de2b"
          ],
          [
           1,
           "#fde725"
          ]
         ]
        },
        "legend": {
         "tracegroupgap": 0
        },
        "template": {
         "data": {
          "bar": [
           {
            "error_x": {
             "color": "#f2f5fa"
            },
            "error_y": {
             "color": "#f2f5fa"
            },
            "marker": {
             "line": {
              "color": "rgb(17,17,17)",
              "width": 0.5
             },
             "pattern": {
              "fillmode": "overlay",
              "size": 10,
              "solidity": 0.2
             }
            },
            "type": "bar"
           }
          ],
          "barpolar": [
           {
            "marker": {
             "line": {
              "color": "rgb(17,17,17)",
              "width": 0.5
             },
             "pattern": {
              "fillmode": "overlay",
              "size": 10,
              "solidity": 0.2
             }
            },
            "type": "barpolar"
           }
          ],
          "carpet": [
           {
            "aaxis": {
             "endlinecolor": "#A2B1C6",
             "gridcolor": "#506784",
             "linecolor": "#506784",
             "minorgridcolor": "#506784",
             "startlinecolor": "#A2B1C6"
            },
            "baxis": {
             "endlinecolor": "#A2B1C6",
             "gridcolor": "#506784",
             "linecolor": "#506784",
             "minorgridcolor": "#506784",
             "startlinecolor": "#A2B1C6"
            },
            "type": "carpet"
           }
          ],
          "choropleth": [
           {
            "colorbar": {
             "outlinewidth": 0,
             "ticks": ""
            },
            "type": "choropleth"
           }
          ],
          "contour": [
           {
            "colorbar": {
             "outlinewidth": 0,
             "ticks": ""
            },
            "colorscale": [
             [
              0,
              "#0d0887"
             ],
             [
              0.1111111111111111,
              "#46039f"
             ],
             [
              0.2222222222222222,
              "#7201a8"
             ],
             [
              0.3333333333333333,
              "#9c179e"
             ],
             [
              0.4444444444444444,
              "#bd3786"
             ],
             [
              0.5555555555555556,
              "#d8576b"
             ],
             [
              0.6666666666666666,
              "#ed7953"
             ],
             [
              0.7777777777777778,
              "#fb9f3a"
             ],
             [
              0.8888888888888888,
              "#fdca26"
             ],
             [
              1,
              "#f0f921"
             ]
            ],
            "type": "contour"
           }
          ],
          "contourcarpet": [
           {
            "colorbar": {
             "outlinewidth": 0,
             "ticks": ""
            },
            "type": "contourcarpet"
           }
          ],
          "heatmap": [
           {
            "colorbar": {
             "outlinewidth": 0,
             "ticks": ""
            },
            "colorscale": [
             [
              0,
              "#0d0887"
             ],
             [
              0.1111111111111111,
              "#46039f"
             ],
             [
              0.2222222222222222,
              "#7201a8"
             ],
             [
              0.3333333333333333,
              "#9c179e"
             ],
             [
              0.4444444444444444,
              "#bd3786"
             ],
             [
              0.5555555555555556,
              "#d8576b"
             ],
             [
              0.6666666666666666,
              "#ed7953"
             ],
             [
              0.7777777777777778,
              "#fb9f3a"
             ],
             [
              0.8888888888888888,
              "#fdca26"
             ],
             [
              1,
              "#f0f921"
             ]
            ],
            "type": "heatmap"
           }
          ],
          "heatmapgl": [
           {
            "colorbar": {
             "outlinewidth": 0,
             "ticks": ""
            },
            "colorscale": [
             [
              0,
              "#0d0887"
             ],
             [
              0.1111111111111111,
              "#46039f"
             ],
             [
              0.2222222222222222,
              "#7201a8"
             ],
             [
              0.3333333333333333,
              "#9c179e"
             ],
             [
              0.4444444444444444,
              "#bd3786"
             ],
             [
              0.5555555555555556,
              "#d8576b"
             ],
             [
              0.6666666666666666,
              "#ed7953"
             ],
             [
              0.7777777777777778,
              "#fb9f3a"
             ],
             [
              0.8888888888888888,
              "#fdca26"
             ],
             [
              1,
              "#f0f921"
             ]
            ],
            "type": "heatmapgl"
           }
          ],
          "histogram": [
           {
            "marker": {
             "pattern": {
              "fillmode": "overlay",
              "size": 10,
              "solidity": 0.2
             }
            },
            "type": "histogram"
           }
          ],
          "histogram2d": [
           {
            "colorbar": {
             "outlinewidth": 0,
             "ticks": ""
            },
            "colorscale": [
             [
              0,
              "#0d0887"
             ],
             [
              0.1111111111111111,
              "#46039f"
             ],
             [
              0.2222222222222222,
              "#7201a8"
             ],
             [
              0.3333333333333333,
              "#9c179e"
             ],
             [
              0.4444444444444444,
              "#bd3786"
             ],
             [
              0.5555555555555556,
              "#d8576b"
             ],
             [
              0.6666666666666666,
              "#ed7953"
             ],
             [
              0.7777777777777778,
              "#fb9f3a"
             ],
             [
              0.8888888888888888,
              "#fdca26"
             ],
             [
              1,
              "#f0f921"
             ]
            ],
            "type": "histogram2d"
           }
          ],
          "histogram2dcontour": [
           {
            "colorbar": {
             "outlinewidth": 0,
             "ticks": ""
            },
            "colorscale": [
             [
              0,
              "#0d0887"
             ],
             [
              0.1111111111111111,
              "#46039f"
             ],
             [
              0.2222222222222222,
              "#7201a8"
             ],
             [
              0.3333333333333333,
              "#9c179e"
             ],
             [
              0.4444444444444444,
              "#bd3786"
             ],
             [
              0.5555555555555556,
              "#d8576b"
             ],
             [
              0.6666666666666666,
              "#ed7953"
             ],
             [
              0.7777777777777778,
              "#fb9f3a"
             ],
             [
              0.8888888888888888,
              "#fdca26"
             ],
             [
              1,
              "#f0f921"
             ]
            ],
            "type": "histogram2dcontour"
           }
          ],
          "mesh3d": [
           {
            "colorbar": {
             "outlinewidth": 0,
             "ticks": ""
            },
            "type": "mesh3d"
           }
          ],
          "parcoords": [
           {
            "line": {
             "colorbar": {
              "outlinewidth": 0,
              "ticks": ""
             }
            },
            "type": "parcoords"
           }
          ],
          "pie": [
           {
            "automargin": true,
            "type": "pie"
           }
          ],
          "scatter": [
           {
            "marker": {
             "line": {
              "color": "#283442"
             }
            },
            "type": "scatter"
           }
          ],
          "scatter3d": [
           {
            "line": {
             "colorbar": {
              "outlinewidth": 0,
              "ticks": ""
             }
            },
            "marker": {
             "colorbar": {
              "outlinewidth": 0,
              "ticks": ""
             }
            },
            "type": "scatter3d"
           }
          ],
          "scattercarpet": [
           {
            "marker": {
             "colorbar": {
              "outlinewidth": 0,
              "ticks": ""
             }
            },
            "type": "scattercarpet"
           }
          ],
          "scattergeo": [
           {
            "marker": {
             "colorbar": {
              "outlinewidth": 0,
              "ticks": ""
             }
            },
            "type": "scattergeo"
           }
          ],
          "scattergl": [
           {
            "marker": {
             "line": {
              "color": "#283442"
             }
            },
            "type": "scattergl"
           }
          ],
          "scattermapbox": [
           {
            "marker": {
             "colorbar": {
              "outlinewidth": 0,
              "ticks": ""
             }
            },
            "type": "scattermapbox"
           }
          ],
          "scatterpolar": [
           {
            "marker": {
             "colorbar": {
              "outlinewidth": 0,
              "ticks": ""
             }
            },
            "type": "scatterpolar"
           }
          ],
          "scatterpolargl": [
           {
            "marker": {
             "colorbar": {
              "outlinewidth": 0,
              "ticks": ""
             }
            },
            "type": "scatterpolargl"
           }
          ],
          "scatterternary": [
           {
            "marker": {
             "colorbar": {
              "outlinewidth": 0,
              "ticks": ""
             }
            },
            "type": "scatterternary"
           }
          ],
          "surface": [
           {
            "colorbar": {
             "outlinewidth": 0,
             "ticks": ""
            },
            "colorscale": [
             [
              0,
              "#0d0887"
             ],
             [
              0.1111111111111111,
              "#46039f"
             ],
             [
              0.2222222222222222,
              "#7201a8"
             ],
             [
              0.3333333333333333,
              "#9c179e"
             ],
             [
              0.4444444444444444,
              "#bd3786"
             ],
             [
              0.5555555555555556,
              "#d8576b"
             ],
             [
              0.6666666666666666,
              "#ed7953"
             ],
             [
              0.7777777777777778,
              "#fb9f3a"
             ],
             [
              0.8888888888888888,
              "#fdca26"
             ],
             [
              1,
              "#f0f921"
             ]
            ],
            "type": "surface"
           }
          ],
          "table": [
           {
            "cells": {
             "fill": {
              "color": "#506784"
             },
             "line": {
              "color": "rgb(17,17,17)"
             }
            },
            "header": {
             "fill": {
              "color": "#2a3f5f"
             },
             "line": {
              "color": "rgb(17,17,17)"
             }
            },
            "type": "table"
           }
          ]
         },
         "layout": {
          "annotationdefaults": {
           "arrowcolor": "#f2f5fa",
           "arrowhead": 0,
           "arrowwidth": 1
          },
          "autotypenumbers": "strict",
          "coloraxis": {
           "colorbar": {
            "outlinewidth": 0,
            "ticks": ""
           }
          },
          "colorscale": {
           "diverging": [
            [
             0,
             "#8e0152"
            ],
            [
             0.1,
             "#c51b7d"
            ],
            [
             0.2,
             "#de77ae"
            ],
            [
             0.3,
             "#f1b6da"
            ],
            [
             0.4,
             "#fde0ef"
            ],
            [
             0.5,
             "#f7f7f7"
            ],
            [
             0.6,
             "#e6f5d0"
            ],
            [
             0.7,
             "#b8e186"
            ],
            [
             0.8,
             "#7fbc41"
            ],
            [
             0.9,
             "#4d9221"
            ],
            [
             1,
             "#276419"
            ]
           ],
           "sequential": [
            [
             0,
             "#0d0887"
            ],
            [
             0.1111111111111111,
             "#46039f"
            ],
            [
             0.2222222222222222,
             "#7201a8"
            ],
            [
             0.3333333333333333,
             "#9c179e"
            ],
            [
             0.4444444444444444,
             "#bd3786"
            ],
            [
             0.5555555555555556,
             "#d8576b"
            ],
            [
             0.6666666666666666,
             "#ed7953"
            ],
            [
             0.7777777777777778,
             "#fb9f3a"
            ],
            [
             0.8888888888888888,
             "#fdca26"
            ],
            [
             1,
             "#f0f921"
            ]
           ],
           "sequentialminus": [
            [
             0,
             "#0d0887"
            ],
            [
             0.1111111111111111,
             "#46039f"
            ],
            [
             0.2222222222222222,
             "#7201a8"
            ],
            [
             0.3333333333333333,
             "#9c179e"
            ],
            [
             0.4444444444444444,
             "#bd3786"
            ],
            [
             0.5555555555555556,
             "#d8576b"
            ],
            [
             0.6666666666666666,
             "#ed7953"
            ],
            [
             0.7777777777777778,
             "#fb9f3a"
            ],
            [
             0.8888888888888888,
             "#fdca26"
            ],
            [
             1,
             "#f0f921"
            ]
           ]
          },
          "colorway": [
           "#636efa",
           "#EF553B",
           "#00cc96",
           "#ab63fa",
           "#FFA15A",
           "#19d3f3",
           "#FF6692",
           "#B6E880",
           "#FF97FF",
           "#FECB52"
          ],
          "font": {
           "color": "#f2f5fa"
          },
          "geo": {
           "bgcolor": "rgb(17,17,17)",
           "lakecolor": "rgb(17,17,17)",
           "landcolor": "rgb(17,17,17)",
           "showlakes": true,
           "showland": true,
           "subunitcolor": "#506784"
          },
          "hoverlabel": {
           "align": "left"
          },
          "hovermode": "closest",
          "mapbox": {
           "style": "dark"
          },
          "paper_bgcolor": "rgb(17,17,17)",
          "plot_bgcolor": "rgb(17,17,17)",
          "polar": {
           "angularaxis": {
            "gridcolor": "#506784",
            "linecolor": "#506784",
            "ticks": ""
           },
           "bgcolor": "rgb(17,17,17)",
           "radialaxis": {
            "gridcolor": "#506784",
            "linecolor": "#506784",
            "ticks": ""
           }
          },
          "scene": {
           "xaxis": {
            "backgroundcolor": "rgb(17,17,17)",
            "gridcolor": "#506784",
            "gridwidth": 2,
            "linecolor": "#506784",
            "showbackground": true,
            "ticks": "",
            "zerolinecolor": "#C8D4E3"
           },
           "yaxis": {
            "backgroundcolor": "rgb(17,17,17)",
            "gridcolor": "#506784",
            "gridwidth": 2,
            "linecolor": "#506784",
            "showbackground": true,
            "ticks": "",
            "zerolinecolor": "#C8D4E3"
           },
           "zaxis": {
            "backgroundcolor": "rgb(17,17,17)",
            "gridcolor": "#506784",
            "gridwidth": 2,
            "linecolor": "#506784",
            "showbackground": true,
            "ticks": "",
            "zerolinecolor": "#C8D4E3"
           }
          },
          "shapedefaults": {
           "line": {
            "color": "#f2f5fa"
           }
          },
          "sliderdefaults": {
           "bgcolor": "#C8D4E3",
           "bordercolor": "rgb(17,17,17)",
           "borderwidth": 1,
           "tickwidth": 0
          },
          "ternary": {
           "aaxis": {
            "gridcolor": "#506784",
            "linecolor": "#506784",
            "ticks": ""
           },
           "baxis": {
            "gridcolor": "#506784",
            "linecolor": "#506784",
            "ticks": ""
           },
           "bgcolor": "rgb(17,17,17)",
           "caxis": {
            "gridcolor": "#506784",
            "linecolor": "#506784",
            "ticks": ""
           }
          },
          "title": {
           "x": 0.05
          },
          "updatemenudefaults": {
           "bgcolor": "#506784",
           "borderwidth": 0
          },
          "xaxis": {
           "automargin": true,
           "gridcolor": "#283442",
           "linecolor": "#506784",
           "ticks": "",
           "title": {
            "standoff": 15
           },
           "zerolinecolor": "#283442",
           "zerolinewidth": 2
          },
          "yaxis": {
           "automargin": true,
           "gridcolor": "#283442",
           "linecolor": "#506784",
           "ticks": "",
           "title": {
            "standoff": 15
           },
           "zerolinecolor": "#283442",
           "zerolinewidth": 2
          }
         }
        },
        "title": {
         "text": "Genres vs Rating"
        },
        "xaxis": {
         "anchor": "y",
         "domain": [
          0,
          1
         ],
         "tickangle": -45,
         "title": {
          "text": "Genres"
         }
        },
        "yaxis": {
         "anchor": "x",
         "domain": [
          0,
          1
         ],
         "title": {
          "text": "Count"
         }
        }
       }
      }
     },
     "metadata": {},
     "output_type": "display_data"
    }
   ],
   "source": [
    "fig = px.bar(\n",
    "    genres_avg_rating.collect(), \n",
    "    x=\"genres\", \n",
    "    y=\"count\", \n",
    "    title=\"Genres vs Rating\", \n",
    "    labels={\"genres\": \"Genres\", \"count\": \"Count\"},\n",
    "    color=\"avgRating\",  # Color by avgRating\n",
    "    color_continuous_scale=\"Viridis\"  # Choose color scale\n",
    ")\n",
    "\n",
    "# Customize layout for better aesthetics\n",
    "fig.update_layout(\n",
    "    xaxis_title=\"Genres\",\n",
    "    yaxis_title=\"Count\",\n",
    "    xaxis_tickangle=-45,  # Rotate x-axis labels for readability\n",
    "    template=theme  # Dark mode\n",
    ")\n",
    "\n",
    "fig.show()"
   ]
  },
  {
   "cell_type": "code",
   "execution_count": 71,
   "metadata": {},
   "outputs": [
    {
     "data": {
      "text/html": [
       "<div><style>\n",
       ".dataframe > thead > tr,\n",
       ".dataframe > tbody > tr {\n",
       "  text-align: right;\n",
       "  white-space: pre-wrap;\n",
       "}\n",
       "</style>\n",
       "<small>shape: (144, 5)</small><table border=\"1\" class=\"dataframe\"><thead><tr><th>startYear</th><th>count</th><th>avgRating</th><th>totalNumVotes</th><th>weightedRating</th></tr><tr><td>i64</td><td>u32</td><td>f64</td><td>i64</td><td>f64</td></tr></thead><tbody><tr><td>1874</td><td>1</td><td>6.8</td><td>1835</td><td>84850.4</td></tr><tr><td>1877</td><td>4</td><td>5.6</td><td>496</td><td>3888.64</td></tr><tr><td>1878</td><td>3</td><td>6.033333</td><td>3605</td><td>43742.001852</td></tr><tr><td>1881</td><td>2</td><td>5.6</td><td>698</td><td>10944.64</td></tr><tr><td>1882</td><td>2</td><td>5.6</td><td>301</td><td>4719.68</td></tr><tr><td>&hellip;</td><td>&hellip;</td><td>&hellip;</td><td>&hellip;</td><td>&hellip;</td></tr><tr><td>2019</td><td>58262</td><td>7.135761</td><td>51750908</td><td>45228.6017</td></tr><tr><td>2020</td><td>52634</td><td>7.109942</td><td>30413985</td><td>29210.507123</td></tr><tr><td>2021</td><td>53688</td><td>7.134991</td><td>39149477</td><td>37122.362334</td></tr><tr><td>2022</td><td>49502</td><td>7.287984</td><td>37050760</td><td>39754.769032</td></tr><tr><td>2023</td><td>12656</td><td>7.399802</td><td>5659167</td><td>24484.78512</td></tr></tbody></table></div>"
      ],
      "text/plain": [
       "shape: (144, 5)\n",
       "┌───────────┬───────┬───────────┬───────────────┬────────────────┐\n",
       "│ startYear ┆ count ┆ avgRating ┆ totalNumVotes ┆ weightedRating │\n",
       "│ ---       ┆ ---   ┆ ---       ┆ ---           ┆ ---            │\n",
       "│ i64       ┆ u32   ┆ f64       ┆ i64           ┆ f64            │\n",
       "╞═══════════╪═══════╪═══════════╪═══════════════╪════════════════╡\n",
       "│ 1874      ┆ 1     ┆ 6.8       ┆ 1835          ┆ 84850.4        │\n",
       "│ 1877      ┆ 4     ┆ 5.6       ┆ 496           ┆ 3888.64        │\n",
       "│ 1878      ┆ 3     ┆ 6.033333  ┆ 3605          ┆ 43742.001852   │\n",
       "│ 1881      ┆ 2     ┆ 5.6       ┆ 698           ┆ 10944.64       │\n",
       "│ 1882      ┆ 2     ┆ 5.6       ┆ 301           ┆ 4719.68        │\n",
       "│ …         ┆ …     ┆ …         ┆ …             ┆ …              │\n",
       "│ 2019      ┆ 58262 ┆ 7.135761  ┆ 51750908      ┆ 45228.6017     │\n",
       "│ 2020      ┆ 52634 ┆ 7.109942  ┆ 30413985      ┆ 29210.507123   │\n",
       "│ 2021      ┆ 53688 ┆ 7.134991  ┆ 39149477      ┆ 37122.362334   │\n",
       "│ 2022      ┆ 49502 ┆ 7.287984  ┆ 37050760      ┆ 39754.769032   │\n",
       "│ 2023      ┆ 12656 ┆ 7.399802  ┆ 5659167       ┆ 24484.78512    │\n",
       "└───────────┴───────┴───────────┴───────────────┴────────────────┘"
      ]
     },
     "execution_count": 71,
     "metadata": {},
     "output_type": "execute_result"
    }
   ],
   "source": [
    "rating_time = (\n",
    "    df.lazy()\n",
    "    .filter(pl.col(\"startYear\").cast(pl.Int64).is_not_null())  # Filter out null values in startYear\n",
    "    .with_columns([\n",
    "        pl.col(\"startYear\").cast(pl.Int64),  # Ensure startYear is an integer\n",
    "    ])\n",
    "    .group_by(\"startYear\")  \n",
    "    .agg([\n",
    "        pl.len().alias(\"count\"),\n",
    "        pl.col(\"averageRating\").mean().alias(\"avgRating\"), \n",
    "        pl.col(\"numVotes\").sum().alias(\"totalNumVotes\"),\n",
    "    ])\n",
    "    .with_columns([\n",
    "        (pl.col(\"avgRating\") ** rating_preference * pl.col(\"totalNumVotes\") / pl.col(\"count\")).alias(\"weightedRating\")  # Weighted rating calculation\n",
    "    ])\n",
    "    .sort(\"startYear\", descending=False)  # Sort by startYear for time-based analysis\n",
    ")\n",
    "\n",
    "rating_time.collect()"
   ]
  },
  {
   "cell_type": "code",
   "execution_count": 72,
   "metadata": {},
   "outputs": [
    {
     "data": {
      "application/vnd.plotly.v1+json": {
       "config": {
        "plotlyServerURL": "https://plot.ly"
       },
       "data": [
        {
         "line": {
          "color": "blue"
         },
         "mode": "lines",
         "name": "Weighted Rating",
         "type": "scatter",
         "x": [
          1874,
          1877,
          1878,
          1881,
          1882,
          1883,
          1885,
          1887,
          1888,
          1889,
          1890,
          1891,
          1892,
          1893,
          1894,
          1895,
          1896,
          1897,
          1898,
          1899,
          1900,
          1901,
          1902,
          1903,
          1904,
          1905,
          1906,
          1907,
          1908,
          1909,
          1910,
          1911,
          1912,
          1913,
          1914,
          1915,
          1916,
          1917,
          1918,
          1919,
          1920,
          1921,
          1922,
          1923,
          1924,
          1925,
          1926,
          1927,
          1928,
          1929,
          1930,
          1931,
          1932,
          1933,
          1934,
          1935,
          1936,
          1937,
          1938,
          1939,
          1940,
          1941,
          1942,
          1943,
          1944,
          1945,
          1946,
          1947,
          1948,
          1949,
          1950,
          1951,
          1952,
          1953,
          1954,
          1955,
          1956,
          1957,
          1958,
          1959,
          1960,
          1961,
          1962,
          1963,
          1964,
          1965,
          1966,
          1967,
          1968,
          1969,
          1970,
          1971,
          1972,
          1973,
          1974,
          1975,
          1976,
          1977,
          1978,
          1979,
          1980,
          1981,
          1982,
          1983,
          1984,
          1985,
          1986,
          1987,
          1988,
          1989,
          1990,
          1991,
          1992,
          1993,
          1994,
          1995,
          1996,
          1997,
          1998,
          1999,
          2000,
          2001,
          2002,
          2003,
          2004,
          2005,
          2006,
          2007,
          2008,
          2009,
          2010,
          2011,
          2012,
          2013,
          2014,
          2015,
          2016,
          2017,
          2018,
          2019,
          2020,
          2021,
          2022,
          2023
         ],
         "y": [
          84850.4,
          3888.6399999999994,
          43742.00185185187,
          10944.64,
          4719.679999999999,
          42591.520000000004,
          12162.97,
          4223.415703703704,
          86047.73855999998,
          9423.17375,
          21258.385555555553,
          12969.324499999999,
          11312.65755829904,
          22516.621111111108,
          6301.235281743048,
          7757.610178975455,
          2687.3223207728856,
          1408.3845572688745,
          2041.1282466195673,
          2363.310505653304,
          3112.7717885358757,
          3826.8230566406883,
          8041.595960326638,
          5080.216971869678,
          2551.764977176833,
          2697.624253407377,
          2565.1759319600446,
          2615.6151241923344,
          2339.651854429144,
          2132.707075882103,
          2055.81906480244,
          1528.7059821465361,
          2087.502160260741,
          2325.582032041293,
          6188.84214047962,
          5821.960481237621,
          5531.540095864291,
          4371.254025292198,
          4961.788471146995,
          6321.66684714811,
          11518.77435398564,
          18779.449390365702,
          17432.278207706546,
          7867.111482383984,
          12968.139882783766,
          18313.852216960524,
          10662.632936643025,
          20189.76617037976,
          14582.913627192416,
          11448.167993844276,
          10552.971594157558,
          25520.75643732934,
          16519.717612036104,
          17793.812950528463,
          14086.406193900237,
          14788.391543499823,
          19519.470970805767,
          17983.55110885693,
          15261.238566946045,
          40563.475662345,
          37048.663163796424,
          37310.1115470759,
          37537.83155183578,
          17918.73272049695,
          29231.56407790836,
          25779.27777721229,
          48386.166005055624,
          24392.687480797606,
          37094.69237734501,
          26056.794781492757,
          34406.30955296966,
          29502.453023844748,
          23396.416504263827,
          26553.1009543916,
          39296.64700588889,
          25063.48180450837,
          20572.733279297267,
          37183.49931053026,
          20751.74472465244,
          26971.65863422855,
          28294.996365208328,
          20558.024513202672,
          29960.676618844675,
          26563.016560266977,
          30893.849599851823,
          20450.609856768722,
          26228.446047950005,
          22918.188155224943,
          29148.60341154362,
          18434.34069168428,
          16461.921992411368,
          29747.749020283776,
          34217.74057091312,
          29420.21590812778,
          33726.865686462304,
          38456.4443609511,
          32388.13096295304,
          32292.096094191722,
          25368.739488915675,
          36433.686422228006,
          45925.1710841145,
          36037.91287674566,
          42453.638128880404,
          38187.65301739154,
          48293.0009401736,
          41491.39624606459,
          42488.775062367364,
          47784.759939118834,
          52296.51487000876,
          53212.63354685952,
          57236.00665732641,
          49062.08768109997,
          53776.69984982113,
          62558.71769423983,
          85108.22216963815,
          74284.61876759553,
          53771.67624518267,
          70840.18303693266,
          66638.31579130894,
          80357.77741045918,
          67004.20651259607,
          76253.01199359672,
          69799.9928490801,
          67311.84194509583,
          72068.73239071546,
          63608.4946020082,
          61807.702095596935,
          65596.04295198373,
          66358.79378124644,
          62186.30046907604,
          64050.81562551479,
          64815.06004676399,
          54775.50450085214,
          64027.220654907745,
          60353.05913465457,
          50033.79499288292,
          49685.202379379196,
          45459.6791871438,
          39851.453028734606,
          45228.60169995166,
          29210.507123296713,
          37122.3623342142,
          39754.76903237859,
          24484.78512040295
         ]
        },
        {
         "line": {
          "color": "violet"
         },
         "mode": "lines",
         "name": "Total Number of Votes",
         "type": "scatter",
         "x": [
          1874,
          1877,
          1878,
          1881,
          1882,
          1883,
          1885,
          1887,
          1888,
          1889,
          1890,
          1891,
          1892,
          1893,
          1894,
          1895,
          1896,
          1897,
          1898,
          1899,
          1900,
          1901,
          1902,
          1903,
          1904,
          1905,
          1906,
          1907,
          1908,
          1909,
          1910,
          1911,
          1912,
          1913,
          1914,
          1915,
          1916,
          1917,
          1918,
          1919,
          1920,
          1921,
          1922,
          1923,
          1924,
          1925,
          1926,
          1927,
          1928,
          1929,
          1930,
          1931,
          1932,
          1933,
          1934,
          1935,
          1936,
          1937,
          1938,
          1939,
          1940,
          1941,
          1942,
          1943,
          1944,
          1945,
          1946,
          1947,
          1948,
          1949,
          1950,
          1951,
          1952,
          1953,
          1954,
          1955,
          1956,
          1957,
          1958,
          1959,
          1960,
          1961,
          1962,
          1963,
          1964,
          1965,
          1966,
          1967,
          1968,
          1969,
          1970,
          1971,
          1972,
          1973,
          1974,
          1975,
          1976,
          1977,
          1978,
          1979,
          1980,
          1981,
          1982,
          1983,
          1984,
          1985,
          1986,
          1987,
          1988,
          1989,
          1990,
          1991,
          1992,
          1993,
          1994,
          1995,
          1996,
          1997,
          1998,
          1999,
          2000,
          2001,
          2002,
          2003,
          2004,
          2005,
          2006,
          2007,
          2008,
          2009,
          2010,
          2011,
          2012,
          2013,
          2014,
          2015,
          2016,
          2017,
          2018,
          2019,
          2020,
          2021,
          2022,
          2023
         ],
         "y": [
          1835,
          496,
          3605,
          698,
          301,
          1108,
          433,
          7809,
          11487,
          739,
          4872,
          6050,
          4109,
          2973,
          30436,
          44015,
          97355,
          56479,
          39915,
          31789,
          39402,
          37379,
          69867,
          62437,
          28174,
          24855,
          28293,
          24795,
          27645,
          29829,
          29394,
          26140,
          42868,
          37781,
          84010,
          92848,
          78526,
          60889,
          59463,
          80725,
          158516,
          232960,
          216291,
          105514,
          173685,
          313381,
          208830,
          402946,
          290939,
          280300,
          309864,
          814165,
          564196,
          586808,
          516859,
          560994,
          768177,
          695872,
          600807,
          1484329,
          1384859,
          1387743,
          1392101,
          603326,
          870917,
          688211,
          1375308,
          724276,
          1181545,
          959092,
          1473300,
          1327130,
          1165300,
          1504778,
          2210810,
          1669292,
          1413303,
          2818153,
          1682000,
          2432675,
          2681485,
          1990100,
          2599231,
          2343319,
          2868116,
          2239025,
          3000784,
          2773797,
          3384619,
          2267630,
          2013466,
          3756921,
          4377571,
          3898665,
          4293295,
          4959311,
          4275674,
          4440733,
          3706024,
          5497172,
          6476054,
          5127965,
          6208013,
          5961283,
          8126342,
          7895906,
          8156974,
          9286360,
          9762540,
          11038366,
          11891222,
          10372335,
          11451719,
          14503210,
          21168700,
          19689270,
          15162761,
          21936242,
          22068913,
          28781975,
          25354393,
          30596561,
          30531965,
          31603205,
          37842293,
          37724903,
          40408000,
          42202440,
          45598055,
          44913724,
          47843891,
          54051813,
          48943249,
          58680455,
          57264026,
          49387893,
          53222081,
          50532680,
          44913161,
          51750908,
          30413985,
          39149477,
          37050760,
          5659167
         ],
         "yaxis": "y2"
        }
       ],
       "layout": {
        "template": {
         "data": {
          "bar": [
           {
            "error_x": {
             "color": "#f2f5fa"
            },
            "error_y": {
             "color": "#f2f5fa"
            },
            "marker": {
             "line": {
              "color": "rgb(17,17,17)",
              "width": 0.5
             },
             "pattern": {
              "fillmode": "overlay",
              "size": 10,
              "solidity": 0.2
             }
            },
            "type": "bar"
           }
          ],
          "barpolar": [
           {
            "marker": {
             "line": {
              "color": "rgb(17,17,17)",
              "width": 0.5
             },
             "pattern": {
              "fillmode": "overlay",
              "size": 10,
              "solidity": 0.2
             }
            },
            "type": "barpolar"
           }
          ],
          "carpet": [
           {
            "aaxis": {
             "endlinecolor": "#A2B1C6",
             "gridcolor": "#506784",
             "linecolor": "#506784",
             "minorgridcolor": "#506784",
             "startlinecolor": "#A2B1C6"
            },
            "baxis": {
             "endlinecolor": "#A2B1C6",
             "gridcolor": "#506784",
             "linecolor": "#506784",
             "minorgridcolor": "#506784",
             "startlinecolor": "#A2B1C6"
            },
            "type": "carpet"
           }
          ],
          "choropleth": [
           {
            "colorbar": {
             "outlinewidth": 0,
             "ticks": ""
            },
            "type": "choropleth"
           }
          ],
          "contour": [
           {
            "colorbar": {
             "outlinewidth": 0,
             "ticks": ""
            },
            "colorscale": [
             [
              0,
              "#0d0887"
             ],
             [
              0.1111111111111111,
              "#46039f"
             ],
             [
              0.2222222222222222,
              "#7201a8"
             ],
             [
              0.3333333333333333,
              "#9c179e"
             ],
             [
              0.4444444444444444,
              "#bd3786"
             ],
             [
              0.5555555555555556,
              "#d8576b"
             ],
             [
              0.6666666666666666,
              "#ed7953"
             ],
             [
              0.7777777777777778,
              "#fb9f3a"
             ],
             [
              0.8888888888888888,
              "#fdca26"
             ],
             [
              1,
              "#f0f921"
             ]
            ],
            "type": "contour"
           }
          ],
          "contourcarpet": [
           {
            "colorbar": {
             "outlinewidth": 0,
             "ticks": ""
            },
            "type": "contourcarpet"
           }
          ],
          "heatmap": [
           {
            "colorbar": {
             "outlinewidth": 0,
             "ticks": ""
            },
            "colorscale": [
             [
              0,
              "#0d0887"
             ],
             [
              0.1111111111111111,
              "#46039f"
             ],
             [
              0.2222222222222222,
              "#7201a8"
             ],
             [
              0.3333333333333333,
              "#9c179e"
             ],
             [
              0.4444444444444444,
              "#bd3786"
             ],
             [
              0.5555555555555556,
              "#d8576b"
             ],
             [
              0.6666666666666666,
              "#ed7953"
             ],
             [
              0.7777777777777778,
              "#fb9f3a"
             ],
             [
              0.8888888888888888,
              "#fdca26"
             ],
             [
              1,
              "#f0f921"
             ]
            ],
            "type": "heatmap"
           }
          ],
          "heatmapgl": [
           {
            "colorbar": {
             "outlinewidth": 0,
             "ticks": ""
            },
            "colorscale": [
             [
              0,
              "#0d0887"
             ],
             [
              0.1111111111111111,
              "#46039f"
             ],
             [
              0.2222222222222222,
              "#7201a8"
             ],
             [
              0.3333333333333333,
              "#9c179e"
             ],
             [
              0.4444444444444444,
              "#bd3786"
             ],
             [
              0.5555555555555556,
              "#d8576b"
             ],
             [
              0.6666666666666666,
              "#ed7953"
             ],
             [
              0.7777777777777778,
              "#fb9f3a"
             ],
             [
              0.8888888888888888,
              "#fdca26"
             ],
             [
              1,
              "#f0f921"
             ]
            ],
            "type": "heatmapgl"
           }
          ],
          "histogram": [
           {
            "marker": {
             "pattern": {
              "fillmode": "overlay",
              "size": 10,
              "solidity": 0.2
             }
            },
            "type": "histogram"
           }
          ],
          "histogram2d": [
           {
            "colorbar": {
             "outlinewidth": 0,
             "ticks": ""
            },
            "colorscale": [
             [
              0,
              "#0d0887"
             ],
             [
              0.1111111111111111,
              "#46039f"
             ],
             [
              0.2222222222222222,
              "#7201a8"
             ],
             [
              0.3333333333333333,
              "#9c179e"
             ],
             [
              0.4444444444444444,
              "#bd3786"
             ],
             [
              0.5555555555555556,
              "#d8576b"
             ],
             [
              0.6666666666666666,
              "#ed7953"
             ],
             [
              0.7777777777777778,
              "#fb9f3a"
             ],
             [
              0.8888888888888888,
              "#fdca26"
             ],
             [
              1,
              "#f0f921"
             ]
            ],
            "type": "histogram2d"
           }
          ],
          "histogram2dcontour": [
           {
            "colorbar": {
             "outlinewidth": 0,
             "ticks": ""
            },
            "colorscale": [
             [
              0,
              "#0d0887"
             ],
             [
              0.1111111111111111,
              "#46039f"
             ],
             [
              0.2222222222222222,
              "#7201a8"
             ],
             [
              0.3333333333333333,
              "#9c179e"
             ],
             [
              0.4444444444444444,
              "#bd3786"
             ],
             [
              0.5555555555555556,
              "#d8576b"
             ],
             [
              0.6666666666666666,
              "#ed7953"
             ],
             [
              0.7777777777777778,
              "#fb9f3a"
             ],
             [
              0.8888888888888888,
              "#fdca26"
             ],
             [
              1,
              "#f0f921"
             ]
            ],
            "type": "histogram2dcontour"
           }
          ],
          "mesh3d": [
           {
            "colorbar": {
             "outlinewidth": 0,
             "ticks": ""
            },
            "type": "mesh3d"
           }
          ],
          "parcoords": [
           {
            "line": {
             "colorbar": {
              "outlinewidth": 0,
              "ticks": ""
             }
            },
            "type": "parcoords"
           }
          ],
          "pie": [
           {
            "automargin": true,
            "type": "pie"
           }
          ],
          "scatter": [
           {
            "marker": {
             "line": {
              "color": "#283442"
             }
            },
            "type": "scatter"
           }
          ],
          "scatter3d": [
           {
            "line": {
             "colorbar": {
              "outlinewidth": 0,
              "ticks": ""
             }
            },
            "marker": {
             "colorbar": {
              "outlinewidth": 0,
              "ticks": ""
             }
            },
            "type": "scatter3d"
           }
          ],
          "scattercarpet": [
           {
            "marker": {
             "colorbar": {
              "outlinewidth": 0,
              "ticks": ""
             }
            },
            "type": "scattercarpet"
           }
          ],
          "scattergeo": [
           {
            "marker": {
             "colorbar": {
              "outlinewidth": 0,
              "ticks": ""
             }
            },
            "type": "scattergeo"
           }
          ],
          "scattergl": [
           {
            "marker": {
             "line": {
              "color": "#283442"
             }
            },
            "type": "scattergl"
           }
          ],
          "scattermapbox": [
           {
            "marker": {
             "colorbar": {
              "outlinewidth": 0,
              "ticks": ""
             }
            },
            "type": "scattermapbox"
           }
          ],
          "scatterpolar": [
           {
            "marker": {
             "colorbar": {
              "outlinewidth": 0,
              "ticks": ""
             }
            },
            "type": "scatterpolar"
           }
          ],
          "scatterpolargl": [
           {
            "marker": {
             "colorbar": {
              "outlinewidth": 0,
              "ticks": ""
             }
            },
            "type": "scatterpolargl"
           }
          ],
          "scatterternary": [
           {
            "marker": {
             "colorbar": {
              "outlinewidth": 0,
              "ticks": ""
             }
            },
            "type": "scatterternary"
           }
          ],
          "surface": [
           {
            "colorbar": {
             "outlinewidth": 0,
             "ticks": ""
            },
            "colorscale": [
             [
              0,
              "#0d0887"
             ],
             [
              0.1111111111111111,
              "#46039f"
             ],
             [
              0.2222222222222222,
              "#7201a8"
             ],
             [
              0.3333333333333333,
              "#9c179e"
             ],
             [
              0.4444444444444444,
              "#bd3786"
             ],
             [
              0.5555555555555556,
              "#d8576b"
             ],
             [
              0.6666666666666666,
              "#ed7953"
             ],
             [
              0.7777777777777778,
              "#fb9f3a"
             ],
             [
              0.8888888888888888,
              "#fdca26"
             ],
             [
              1,
              "#f0f921"
             ]
            ],
            "type": "surface"
           }
          ],
          "table": [
           {
            "cells": {
             "fill": {
              "color": "#506784"
             },
             "line": {
              "color": "rgb(17,17,17)"
             }
            },
            "header": {
             "fill": {
              "color": "#2a3f5f"
             },
             "line": {
              "color": "rgb(17,17,17)"
             }
            },
            "type": "table"
           }
          ]
         },
         "layout": {
          "annotationdefaults": {
           "arrowcolor": "#f2f5fa",
           "arrowhead": 0,
           "arrowwidth": 1
          },
          "autotypenumbers": "strict",
          "coloraxis": {
           "colorbar": {
            "outlinewidth": 0,
            "ticks": ""
           }
          },
          "colorscale": {
           "diverging": [
            [
             0,
             "#8e0152"
            ],
            [
             0.1,
             "#c51b7d"
            ],
            [
             0.2,
             "#de77ae"
            ],
            [
             0.3,
             "#f1b6da"
            ],
            [
             0.4,
             "#fde0ef"
            ],
            [
             0.5,
             "#f7f7f7"
            ],
            [
             0.6,
             "#e6f5d0"
            ],
            [
             0.7,
             "#b8e186"
            ],
            [
             0.8,
             "#7fbc41"
            ],
            [
             0.9,
             "#4d9221"
            ],
            [
             1,
             "#276419"
            ]
           ],
           "sequential": [
            [
             0,
             "#0d0887"
            ],
            [
             0.1111111111111111,
             "#46039f"
            ],
            [
             0.2222222222222222,
             "#7201a8"
            ],
            [
             0.3333333333333333,
             "#9c179e"
            ],
            [
             0.4444444444444444,
             "#bd3786"
            ],
            [
             0.5555555555555556,
             "#d8576b"
            ],
            [
             0.6666666666666666,
             "#ed7953"
            ],
            [
             0.7777777777777778,
             "#fb9f3a"
            ],
            [
             0.8888888888888888,
             "#fdca26"
            ],
            [
             1,
             "#f0f921"
            ]
           ],
           "sequentialminus": [
            [
             0,
             "#0d0887"
            ],
            [
             0.1111111111111111,
             "#46039f"
            ],
            [
             0.2222222222222222,
             "#7201a8"
            ],
            [
             0.3333333333333333,
             "#9c179e"
            ],
            [
             0.4444444444444444,
             "#bd3786"
            ],
            [
             0.5555555555555556,
             "#d8576b"
            ],
            [
             0.6666666666666666,
             "#ed7953"
            ],
            [
             0.7777777777777778,
             "#fb9f3a"
            ],
            [
             0.8888888888888888,
             "#fdca26"
            ],
            [
             1,
             "#f0f921"
            ]
           ]
          },
          "colorway": [
           "#636efa",
           "#EF553B",
           "#00cc96",
           "#ab63fa",
           "#FFA15A",
           "#19d3f3",
           "#FF6692",
           "#B6E880",
           "#FF97FF",
           "#FECB52"
          ],
          "font": {
           "color": "#f2f5fa"
          },
          "geo": {
           "bgcolor": "rgb(17,17,17)",
           "lakecolor": "rgb(17,17,17)",
           "landcolor": "rgb(17,17,17)",
           "showlakes": true,
           "showland": true,
           "subunitcolor": "#506784"
          },
          "hoverlabel": {
           "align": "left"
          },
          "hovermode": "closest",
          "mapbox": {
           "style": "dark"
          },
          "paper_bgcolor": "rgb(17,17,17)",
          "plot_bgcolor": "rgb(17,17,17)",
          "polar": {
           "angularaxis": {
            "gridcolor": "#506784",
            "linecolor": "#506784",
            "ticks": ""
           },
           "bgcolor": "rgb(17,17,17)",
           "radialaxis": {
            "gridcolor": "#506784",
            "linecolor": "#506784",
            "ticks": ""
           }
          },
          "scene": {
           "xaxis": {
            "backgroundcolor": "rgb(17,17,17)",
            "gridcolor": "#506784",
            "gridwidth": 2,
            "linecolor": "#506784",
            "showbackground": true,
            "ticks": "",
            "zerolinecolor": "#C8D4E3"
           },
           "yaxis": {
            "backgroundcolor": "rgb(17,17,17)",
            "gridcolor": "#506784",
            "gridwidth": 2,
            "linecolor": "#506784",
            "showbackground": true,
            "ticks": "",
            "zerolinecolor": "#C8D4E3"
           },
           "zaxis": {
            "backgroundcolor": "rgb(17,17,17)",
            "gridcolor": "#506784",
            "gridwidth": 2,
            "linecolor": "#506784",
            "showbackground": true,
            "ticks": "",
            "zerolinecolor": "#C8D4E3"
           }
          },
          "shapedefaults": {
           "line": {
            "color": "#f2f5fa"
           }
          },
          "sliderdefaults": {
           "bgcolor": "#C8D4E3",
           "bordercolor": "rgb(17,17,17)",
           "borderwidth": 1,
           "tickwidth": 0
          },
          "ternary": {
           "aaxis": {
            "gridcolor": "#506784",
            "linecolor": "#506784",
            "ticks": ""
           },
           "baxis": {
            "gridcolor": "#506784",
            "linecolor": "#506784",
            "ticks": ""
           },
           "bgcolor": "rgb(17,17,17)",
           "caxis": {
            "gridcolor": "#506784",
            "linecolor": "#506784",
            "ticks": ""
           }
          },
          "title": {
           "x": 0.05
          },
          "updatemenudefaults": {
           "bgcolor": "#506784",
           "borderwidth": 0
          },
          "xaxis": {
           "automargin": true,
           "gridcolor": "#283442",
           "linecolor": "#506784",
           "ticks": "",
           "title": {
            "standoff": 15
           },
           "zerolinecolor": "#283442",
           "zerolinewidth": 2
          },
          "yaxis": {
           "automargin": true,
           "gridcolor": "#283442",
           "linecolor": "#506784",
           "ticks": "",
           "title": {
            "standoff": 15
           },
           "zerolinecolor": "#283442",
           "zerolinewidth": 2
          }
         }
        },
        "title": {
         "text": "Weighted Ratings, Average Ratings, and Total Number of Votes Over Time"
        },
        "xaxis": {
         "title": {
          "text": "Start Year"
         }
        },
        "yaxis": {
         "title": {
          "text": "Ratings"
         }
        },
        "yaxis2": {
         "overlaying": "y",
         "side": "right",
         "title": {
          "text": "Total Number of Votes"
         }
        }
       }
      }
     },
     "metadata": {},
     "output_type": "display_data"
    }
   ],
   "source": [
    "rating_time_df = rating_time.collect().to_pandas()\n",
    "\n",
    "# Create the figure and add multiple traces\n",
    "fig = go.Figure()\n",
    "\n",
    "# Add line for Weighted Rating\n",
    "fig.add_trace(go.Scatter(\n",
    "    x=rating_time_df[\"startYear\"],\n",
    "    y=rating_time_df[\"weightedRating\"],\n",
    "    mode=\"lines\",\n",
    "    name=\"Weighted Rating\",\n",
    "    line=dict(color=\"blue\")\n",
    "))\n",
    "\n",
    "# Add line for Total Number of Votes (scaled for visualization if needed)\n",
    "fig.add_trace(go.Scatter(\n",
    "    x=rating_time_df[\"startYear\"],\n",
    "    y=rating_time_df[\"totalNumVotes\"],\n",
    "    mode=\"lines\",\n",
    "    name=\"Total Number of Votes\",\n",
    "    line=dict(color=\"violet\"),\n",
    "    yaxis=\"y2\"  # Using a secondary y-axis for totalNumVotes if needed for scale\n",
    "))\n",
    "\n",
    "# Set the layout\n",
    "fig.update_layout(\n",
    "    title=\"Weighted Ratings, Average Ratings, and Total Number of Votes Over Time\",\n",
    "    xaxis_title=\"Start Year\",\n",
    "    yaxis_title=\"Ratings\",\n",
    "    yaxis2=dict(title=\"Total Number of Votes\", overlaying=\"y\", side=\"right\"),\n",
    "    template=theme\n",
    ")\n",
    "\n",
    "# Show the plot\n",
    "fig.show()"
   ]
  },
  {
   "cell_type": "code",
   "execution_count": 73,
   "metadata": {},
   "outputs": [
    {
     "data": {
      "text/html": [
       "<div><style>\n",
       ".dataframe > thead > tr,\n",
       ".dataframe > tbody > tr {\n",
       "  text-align: right;\n",
       "  white-space: pre-wrap;\n",
       "}\n",
       "</style>\n",
       "<small>shape: (1_286_401, 12)</small><table border=\"1\" class=\"dataframe\"><thead><tr><th>tconst</th><th>titleType</th><th>primaryTitle</th><th>originalTitle</th><th>isAdult</th><th>startYear</th><th>endYear</th><th>runtimeMinutes</th><th>genres</th><th>averageRating</th><th>numVotes</th><th>genre_list</th></tr><tr><td>str</td><td>str</td><td>str</td><td>str</td><td>i64</td><td>i64</td><td>str</td><td>i64</td><td>str</td><td>f64</td><td>i64</td><td>list[str]</td></tr></thead><tbody><tr><td>&quot;tt0000001&quot;</td><td>&quot;short&quot;</td><td>&quot;Carmencita&quot;</td><td>&quot;Carmencita&quot;</td><td>0</td><td>1894</td><td>null</td><td>1</td><td>&quot;Documentary,Short&quot;</td><td>5.7</td><td>1966</td><td>[&quot;Documentary&quot;, &quot;Short&quot;]</td></tr><tr><td>&quot;tt0000002&quot;</td><td>&quot;short&quot;</td><td>&quot;Le clown et ses chiens&quot;</td><td>&quot;Le clown et ses chiens&quot;</td><td>0</td><td>1892</td><td>null</td><td>5</td><td>&quot;Animation,Short&quot;</td><td>5.8</td><td>264</td><td>[&quot;Animation&quot;, &quot;Short&quot;]</td></tr><tr><td>&quot;tt0000003&quot;</td><td>&quot;short&quot;</td><td>&quot;Pauvre Pierrot&quot;</td><td>&quot;Pauvre Pierrot&quot;</td><td>0</td><td>1892</td><td>null</td><td>4</td><td>&quot;Animation,Comedy,Romance&quot;</td><td>6.5</td><td>1810</td><td>[&quot;Animation&quot;, &quot;Comedy&quot;, &quot;Romance&quot;]</td></tr><tr><td>&quot;tt0000004&quot;</td><td>&quot;short&quot;</td><td>&quot;Un bon bock&quot;</td><td>&quot;Un bon bock&quot;</td><td>0</td><td>1892</td><td>null</td><td>12</td><td>&quot;Animation,Short&quot;</td><td>5.6</td><td>178</td><td>[&quot;Animation&quot;, &quot;Short&quot;]</td></tr><tr><td>&quot;tt0000005&quot;</td><td>&quot;short&quot;</td><td>&quot;Blacksmith Scene&quot;</td><td>&quot;Blacksmith Scene&quot;</td><td>0</td><td>1893</td><td>null</td><td>1</td><td>&quot;Comedy,Short&quot;</td><td>6.2</td><td>2610</td><td>[&quot;Comedy&quot;, &quot;Short&quot;]</td></tr><tr><td>&hellip;</td><td>&hellip;</td><td>&hellip;</td><td>&hellip;</td><td>&hellip;</td><td>&hellip;</td><td>&hellip;</td><td>&hellip;</td><td>&hellip;</td><td>&hellip;</td><td>&hellip;</td><td>&hellip;</td></tr><tr><td>&quot;tt9916708&quot;</td><td>&quot;tvEpisode&quot;</td><td>&quot;Horrid Henry Goes Gross&quot;</td><td>&quot;Horrid Henry Goes Gross&quot;</td><td>0</td><td>2012</td><td>null</td><td>null</td><td>&quot;Adventure,Animation,Comedy&quot;</td><td>8.6</td><td>6</td><td>[&quot;Adventure&quot;, &quot;Animation&quot;, &quot;Comedy&quot;]</td></tr><tr><td>&quot;tt9916766&quot;</td><td>&quot;tvEpisode&quot;</td><td>&quot;Episode #10.15&quot;</td><td>&quot;Episode #10.15&quot;</td><td>0</td><td>2019</td><td>null</td><td>43</td><td>&quot;Family,Game-Show,Reality-TV&quot;</td><td>7.0</td><td>21</td><td>[&quot;Family&quot;, &quot;Game-Show&quot;, &quot;Reality-TV&quot;]</td></tr><tr><td>&quot;tt9916778&quot;</td><td>&quot;tvEpisode&quot;</td><td>&quot;Escape&quot;</td><td>&quot;Escape&quot;</td><td>0</td><td>2019</td><td>null</td><td>null</td><td>&quot;Crime,Drama,Mystery&quot;</td><td>7.2</td><td>36</td><td>[&quot;Crime&quot;, &quot;Drama&quot;, &quot;Mystery&quot;]</td></tr><tr><td>&quot;tt9916840&quot;</td><td>&quot;tvEpisode&quot;</td><td>&quot;Horrid Henry&#x27;s Comic Caper&quot;</td><td>&quot;Horrid Henry&#x27;s Comic Caper&quot;</td><td>0</td><td>2014</td><td>null</td><td>11</td><td>&quot;Adventure,Animation,Comedy&quot;</td><td>8.8</td><td>6</td><td>[&quot;Adventure&quot;, &quot;Animation&quot;, &quot;Comedy&quot;]</td></tr><tr><td>&quot;tt9916880&quot;</td><td>&quot;tvEpisode&quot;</td><td>&quot;Horrid Henry Knows It All&quot;</td><td>&quot;Horrid Henry Knows It All&quot;</td><td>0</td><td>2014</td><td>null</td><td>10</td><td>&quot;Adventure,Animation,Comedy&quot;</td><td>8.2</td><td>6</td><td>[&quot;Adventure&quot;, &quot;Animation&quot;, &quot;Comedy&quot;]</td></tr></tbody></table></div>"
      ],
      "text/plain": [
       "shape: (1_286_401, 12)\n",
       "┌───────────┬───────────┬───────────┬───────────┬───┬───────────┬───────────┬──────────┬───────────┐\n",
       "│ tconst    ┆ titleType ┆ primaryTi ┆ originalT ┆ … ┆ genres    ┆ averageRa ┆ numVotes ┆ genre_lis │\n",
       "│ ---       ┆ ---       ┆ tle       ┆ itle      ┆   ┆ ---       ┆ ting      ┆ ---      ┆ t         │\n",
       "│ str       ┆ str       ┆ ---       ┆ ---       ┆   ┆ str       ┆ ---       ┆ i64      ┆ ---       │\n",
       "│           ┆           ┆ str       ┆ str       ┆   ┆           ┆ f64       ┆          ┆ list[str] │\n",
       "╞═══════════╪═══════════╪═══════════╪═══════════╪═══╪═══════════╪═══════════╪══════════╪═══════════╡\n",
       "│ tt0000001 ┆ short     ┆ Carmencit ┆ Carmencit ┆ … ┆ Documenta ┆ 5.7       ┆ 1966     ┆ [\"Documen │\n",
       "│           ┆           ┆ a         ┆ a         ┆   ┆ ry,Short  ┆           ┆          ┆ tary\",    │\n",
       "│           ┆           ┆           ┆           ┆   ┆           ┆           ┆          ┆ \"Short\"]  │\n",
       "│ tt0000002 ┆ short     ┆ Le clown  ┆ Le clown  ┆ … ┆ Animation ┆ 5.8       ┆ 264      ┆ [\"Animati │\n",
       "│           ┆           ┆ et ses    ┆ et ses    ┆   ┆ ,Short    ┆           ┆          ┆ on\",      │\n",
       "│           ┆           ┆ chiens    ┆ chiens    ┆   ┆           ┆           ┆          ┆ \"Short\"]  │\n",
       "│ tt0000003 ┆ short     ┆ Pauvre    ┆ Pauvre    ┆ … ┆ Animation ┆ 6.5       ┆ 1810     ┆ [\"Animati │\n",
       "│           ┆           ┆ Pierrot   ┆ Pierrot   ┆   ┆ ,Comedy,R ┆           ┆          ┆ on\",      │\n",
       "│           ┆           ┆           ┆           ┆   ┆ omance    ┆           ┆          ┆ \"Comedy\", │\n",
       "│           ┆           ┆           ┆           ┆   ┆           ┆           ┆          ┆ \"Roman…   │\n",
       "│ tt0000004 ┆ short     ┆ Un bon    ┆ Un bon    ┆ … ┆ Animation ┆ 5.6       ┆ 178      ┆ [\"Animati │\n",
       "│           ┆           ┆ bock      ┆ bock      ┆   ┆ ,Short    ┆           ┆          ┆ on\",      │\n",
       "│           ┆           ┆           ┆           ┆   ┆           ┆           ┆          ┆ \"Short\"]  │\n",
       "│ tt0000005 ┆ short     ┆ Blacksmit ┆ Blacksmit ┆ … ┆ Comedy,Sh ┆ 6.2       ┆ 2610     ┆ [\"Comedy\" │\n",
       "│           ┆           ┆ h Scene   ┆ h Scene   ┆   ┆ ort       ┆           ┆          ┆ ,         │\n",
       "│           ┆           ┆           ┆           ┆   ┆           ┆           ┆          ┆ \"Short\"]  │\n",
       "│ …         ┆ …         ┆ …         ┆ …         ┆ … ┆ …         ┆ …         ┆ …        ┆ …         │\n",
       "│ tt9916708 ┆ tvEpisode ┆ Horrid    ┆ Horrid    ┆ … ┆ Adventure ┆ 8.6       ┆ 6        ┆ [\"Adventu │\n",
       "│           ┆           ┆ Henry     ┆ Henry     ┆   ┆ ,Animatio ┆           ┆          ┆ re\", \"Ani │\n",
       "│           ┆           ┆ Goes      ┆ Goes      ┆   ┆ n,Comedy  ┆           ┆          ┆ mation\",  │\n",
       "│           ┆           ┆ Gross     ┆ Gross     ┆   ┆           ┆           ┆          ┆ \"Co…      │\n",
       "│ tt9916766 ┆ tvEpisode ┆ Episode   ┆ Episode   ┆ … ┆ Family,Ga ┆ 7.0       ┆ 21       ┆ [\"Family\" │\n",
       "│           ┆           ┆ #10.15    ┆ #10.15    ┆   ┆ me-Show,R ┆           ┆          ┆ , \"Game-S │\n",
       "│           ┆           ┆           ┆           ┆   ┆ eality-TV ┆           ┆          ┆ how\",     │\n",
       "│           ┆           ┆           ┆           ┆   ┆           ┆           ┆          ┆ \"Reali…   │\n",
       "│ tt9916778 ┆ tvEpisode ┆ Escape    ┆ Escape    ┆ … ┆ Crime,Dra ┆ 7.2       ┆ 36       ┆ [\"Crime\", │\n",
       "│           ┆           ┆           ┆           ┆   ┆ ma,Myster ┆           ┆          ┆ \"Drama\",  │\n",
       "│           ┆           ┆           ┆           ┆   ┆ y         ┆           ┆          ┆ \"Mystery\" │\n",
       "│           ┆           ┆           ┆           ┆   ┆           ┆           ┆          ┆ ]         │\n",
       "│ tt9916840 ┆ tvEpisode ┆ Horrid    ┆ Horrid    ┆ … ┆ Adventure ┆ 8.8       ┆ 6        ┆ [\"Adventu │\n",
       "│           ┆           ┆ Henry's   ┆ Henry's   ┆   ┆ ,Animatio ┆           ┆          ┆ re\", \"Ani │\n",
       "│           ┆           ┆ Comic     ┆ Comic     ┆   ┆ n,Comedy  ┆           ┆          ┆ mation\",  │\n",
       "│           ┆           ┆ Caper     ┆ Caper     ┆   ┆           ┆           ┆          ┆ \"Co…      │\n",
       "│ tt9916880 ┆ tvEpisode ┆ Horrid    ┆ Horrid    ┆ … ┆ Adventure ┆ 8.2       ┆ 6        ┆ [\"Adventu │\n",
       "│           ┆           ┆ Henry     ┆ Henry     ┆   ┆ ,Animatio ┆           ┆          ┆ re\", \"Ani │\n",
       "│           ┆           ┆ Knows It  ┆ Knows It  ┆   ┆ n,Comedy  ┆           ┆          ┆ mation\",  │\n",
       "│           ┆           ┆ All       ┆ All       ┆   ┆           ┆           ┆          ┆ \"Co…      │\n",
       "└───────────┴───────────┴───────────┴───────────┴───┴───────────┴───────────┴──────────┴───────────┘"
      ]
     },
     "execution_count": 73,
     "metadata": {},
     "output_type": "execute_result"
    }
   ],
   "source": [
    "df_genres = (\n",
    "    df.lazy()\n",
    "    .filter(pl.col(\"genres\").is_not_null())  \n",
    "    .with_columns([pl.col(\"genres\").str.split(\",\").alias(\"genre_list\")])  \n",
    "    .filter(pl.col(\"genre_list\").len() > 1) \n",
    ")\n",
    "\n",
    "df_genres.collect()"
   ]
  },
  {
   "cell_type": "code",
   "execution_count": 74,
   "metadata": {},
   "outputs": [
    {
     "data": {
      "text/html": [
       "<div><style>\n",
       ".dataframe > thead > tr,\n",
       ".dataframe > tbody > tr {\n",
       "  text-align: right;\n",
       "  white-space: pre-wrap;\n",
       "}\n",
       "</style>\n",
       "<small>shape: (2_575_480, 12)</small><table border=\"1\" class=\"dataframe\"><thead><tr><th>tconst</th><th>titleType</th><th>primaryTitle</th><th>originalTitle</th><th>isAdult</th><th>startYear</th><th>endYear</th><th>runtimeMinutes</th><th>genres</th><th>averageRating</th><th>numVotes</th><th>genre_list</th></tr><tr><td>str</td><td>str</td><td>str</td><td>str</td><td>i64</td><td>i64</td><td>str</td><td>i64</td><td>str</td><td>f64</td><td>i64</td><td>str</td></tr></thead><tbody><tr><td>&quot;tt0000001&quot;</td><td>&quot;short&quot;</td><td>&quot;Carmencita&quot;</td><td>&quot;Carmencita&quot;</td><td>0</td><td>1894</td><td>null</td><td>1</td><td>&quot;Documentary,Short&quot;</td><td>5.7</td><td>1966</td><td>&quot;Documentary&quot;</td></tr><tr><td>&quot;tt0000001&quot;</td><td>&quot;short&quot;</td><td>&quot;Carmencita&quot;</td><td>&quot;Carmencita&quot;</td><td>0</td><td>1894</td><td>null</td><td>1</td><td>&quot;Documentary,Short&quot;</td><td>5.7</td><td>1966</td><td>&quot;Short&quot;</td></tr><tr><td>&quot;tt0000002&quot;</td><td>&quot;short&quot;</td><td>&quot;Le clown et ses chiens&quot;</td><td>&quot;Le clown et ses chiens&quot;</td><td>0</td><td>1892</td><td>null</td><td>5</td><td>&quot;Animation,Short&quot;</td><td>5.8</td><td>264</td><td>&quot;Animation&quot;</td></tr><tr><td>&quot;tt0000002&quot;</td><td>&quot;short&quot;</td><td>&quot;Le clown et ses chiens&quot;</td><td>&quot;Le clown et ses chiens&quot;</td><td>0</td><td>1892</td><td>null</td><td>5</td><td>&quot;Animation,Short&quot;</td><td>5.8</td><td>264</td><td>&quot;Short&quot;</td></tr><tr><td>&quot;tt0000003&quot;</td><td>&quot;short&quot;</td><td>&quot;Pauvre Pierrot&quot;</td><td>&quot;Pauvre Pierrot&quot;</td><td>0</td><td>1892</td><td>null</td><td>4</td><td>&quot;Animation,Comedy,Romance&quot;</td><td>6.5</td><td>1810</td><td>&quot;Animation&quot;</td></tr><tr><td>&hellip;</td><td>&hellip;</td><td>&hellip;</td><td>&hellip;</td><td>&hellip;</td><td>&hellip;</td><td>&hellip;</td><td>&hellip;</td><td>&hellip;</td><td>&hellip;</td><td>&hellip;</td><td>&hellip;</td></tr><tr><td>&quot;tt9916840&quot;</td><td>&quot;tvEpisode&quot;</td><td>&quot;Horrid Henry&#x27;s Comic Caper&quot;</td><td>&quot;Horrid Henry&#x27;s Comic Caper&quot;</td><td>0</td><td>2014</td><td>null</td><td>11</td><td>&quot;Adventure,Animation,Comedy&quot;</td><td>8.8</td><td>6</td><td>&quot;Animation&quot;</td></tr><tr><td>&quot;tt9916840&quot;</td><td>&quot;tvEpisode&quot;</td><td>&quot;Horrid Henry&#x27;s Comic Caper&quot;</td><td>&quot;Horrid Henry&#x27;s Comic Caper&quot;</td><td>0</td><td>2014</td><td>null</td><td>11</td><td>&quot;Adventure,Animation,Comedy&quot;</td><td>8.8</td><td>6</td><td>&quot;Comedy&quot;</td></tr><tr><td>&quot;tt9916880&quot;</td><td>&quot;tvEpisode&quot;</td><td>&quot;Horrid Henry Knows It All&quot;</td><td>&quot;Horrid Henry Knows It All&quot;</td><td>0</td><td>2014</td><td>null</td><td>10</td><td>&quot;Adventure,Animation,Comedy&quot;</td><td>8.2</td><td>6</td><td>&quot;Adventure&quot;</td></tr><tr><td>&quot;tt9916880&quot;</td><td>&quot;tvEpisode&quot;</td><td>&quot;Horrid Henry Knows It All&quot;</td><td>&quot;Horrid Henry Knows It All&quot;</td><td>0</td><td>2014</td><td>null</td><td>10</td><td>&quot;Adventure,Animation,Comedy&quot;</td><td>8.2</td><td>6</td><td>&quot;Animation&quot;</td></tr><tr><td>&quot;tt9916880&quot;</td><td>&quot;tvEpisode&quot;</td><td>&quot;Horrid Henry Knows It All&quot;</td><td>&quot;Horrid Henry Knows It All&quot;</td><td>0</td><td>2014</td><td>null</td><td>10</td><td>&quot;Adventure,Animation,Comedy&quot;</td><td>8.2</td><td>6</td><td>&quot;Comedy&quot;</td></tr></tbody></table></div>"
      ],
      "text/plain": [
       "shape: (2_575_480, 12)\n",
       "┌───────────┬───────────┬───────────┬───────────┬───┬───────────┬───────────┬──────────┬───────────┐\n",
       "│ tconst    ┆ titleType ┆ primaryTi ┆ originalT ┆ … ┆ genres    ┆ averageRa ┆ numVotes ┆ genre_lis │\n",
       "│ ---       ┆ ---       ┆ tle       ┆ itle      ┆   ┆ ---       ┆ ting      ┆ ---      ┆ t         │\n",
       "│ str       ┆ str       ┆ ---       ┆ ---       ┆   ┆ str       ┆ ---       ┆ i64      ┆ ---       │\n",
       "│           ┆           ┆ str       ┆ str       ┆   ┆           ┆ f64       ┆          ┆ str       │\n",
       "╞═══════════╪═══════════╪═══════════╪═══════════╪═══╪═══════════╪═══════════╪══════════╪═══════════╡\n",
       "│ tt0000001 ┆ short     ┆ Carmencit ┆ Carmencit ┆ … ┆ Documenta ┆ 5.7       ┆ 1966     ┆ Documenta │\n",
       "│           ┆           ┆ a         ┆ a         ┆   ┆ ry,Short  ┆           ┆          ┆ ry        │\n",
       "│ tt0000001 ┆ short     ┆ Carmencit ┆ Carmencit ┆ … ┆ Documenta ┆ 5.7       ┆ 1966     ┆ Short     │\n",
       "│           ┆           ┆ a         ┆ a         ┆   ┆ ry,Short  ┆           ┆          ┆           │\n",
       "│ tt0000002 ┆ short     ┆ Le clown  ┆ Le clown  ┆ … ┆ Animation ┆ 5.8       ┆ 264      ┆ Animation │\n",
       "│           ┆           ┆ et ses    ┆ et ses    ┆   ┆ ,Short    ┆           ┆          ┆           │\n",
       "│           ┆           ┆ chiens    ┆ chiens    ┆   ┆           ┆           ┆          ┆           │\n",
       "│ tt0000002 ┆ short     ┆ Le clown  ┆ Le clown  ┆ … ┆ Animation ┆ 5.8       ┆ 264      ┆ Short     │\n",
       "│           ┆           ┆ et ses    ┆ et ses    ┆   ┆ ,Short    ┆           ┆          ┆           │\n",
       "│           ┆           ┆ chiens    ┆ chiens    ┆   ┆           ┆           ┆          ┆           │\n",
       "│ tt0000003 ┆ short     ┆ Pauvre    ┆ Pauvre    ┆ … ┆ Animation ┆ 6.5       ┆ 1810     ┆ Animation │\n",
       "│           ┆           ┆ Pierrot   ┆ Pierrot   ┆   ┆ ,Comedy,R ┆           ┆          ┆           │\n",
       "│           ┆           ┆           ┆           ┆   ┆ omance    ┆           ┆          ┆           │\n",
       "│ …         ┆ …         ┆ …         ┆ …         ┆ … ┆ …         ┆ …         ┆ …        ┆ …         │\n",
       "│ tt9916840 ┆ tvEpisode ┆ Horrid    ┆ Horrid    ┆ … ┆ Adventure ┆ 8.8       ┆ 6        ┆ Animation │\n",
       "│           ┆           ┆ Henry's   ┆ Henry's   ┆   ┆ ,Animatio ┆           ┆          ┆           │\n",
       "│           ┆           ┆ Comic     ┆ Comic     ┆   ┆ n,Comedy  ┆           ┆          ┆           │\n",
       "│           ┆           ┆ Caper     ┆ Caper     ┆   ┆           ┆           ┆          ┆           │\n",
       "│ tt9916840 ┆ tvEpisode ┆ Horrid    ┆ Horrid    ┆ … ┆ Adventure ┆ 8.8       ┆ 6        ┆ Comedy    │\n",
       "│           ┆           ┆ Henry's   ┆ Henry's   ┆   ┆ ,Animatio ┆           ┆          ┆           │\n",
       "│           ┆           ┆ Comic     ┆ Comic     ┆   ┆ n,Comedy  ┆           ┆          ┆           │\n",
       "│           ┆           ┆ Caper     ┆ Caper     ┆   ┆           ┆           ┆          ┆           │\n",
       "│ tt9916880 ┆ tvEpisode ┆ Horrid    ┆ Horrid    ┆ … ┆ Adventure ┆ 8.2       ┆ 6        ┆ Adventure │\n",
       "│           ┆           ┆ Henry     ┆ Henry     ┆   ┆ ,Animatio ┆           ┆          ┆           │\n",
       "│           ┆           ┆ Knows It  ┆ Knows It  ┆   ┆ n,Comedy  ┆           ┆          ┆           │\n",
       "│           ┆           ┆ All       ┆ All       ┆   ┆           ┆           ┆          ┆           │\n",
       "│ tt9916880 ┆ tvEpisode ┆ Horrid    ┆ Horrid    ┆ … ┆ Adventure ┆ 8.2       ┆ 6        ┆ Animation │\n",
       "│           ┆           ┆ Henry     ┆ Henry     ┆   ┆ ,Animatio ┆           ┆          ┆           │\n",
       "│           ┆           ┆ Knows It  ┆ Knows It  ┆   ┆ n,Comedy  ┆           ┆          ┆           │\n",
       "│           ┆           ┆ All       ┆ All       ┆   ┆           ┆           ┆          ┆           │\n",
       "│ tt9916880 ┆ tvEpisode ┆ Horrid    ┆ Horrid    ┆ … ┆ Adventure ┆ 8.2       ┆ 6        ┆ Comedy    │\n",
       "│           ┆           ┆ Henry     ┆ Henry     ┆   ┆ ,Animatio ┆           ┆          ┆           │\n",
       "│           ┆           ┆ Knows It  ┆ Knows It  ┆   ┆ n,Comedy  ┆           ┆          ┆           │\n",
       "│           ┆           ┆ All       ┆ All       ┆   ┆           ┆           ┆          ┆           │\n",
       "└───────────┴───────────┴───────────┴───────────┴───┴───────────┴───────────┴──────────┴───────────┘"
      ]
     },
     "execution_count": 74,
     "metadata": {},
     "output_type": "execute_result"
    }
   ],
   "source": [
    "df_genres = (\n",
    "    df.lazy()\n",
    "    .filter(pl.col(\"genres\").is_not_null())  # Remove rows with null genres\n",
    "    .with_columns([pl.col(\"genres\").str.split(\",\").alias(\"genre_list\")])  # Split genres into lists\n",
    "    .explode(\"genre_list\")  # Explode to have each genre in its own row\n",
    ")\n",
    "\n",
    "df_genres.collect()"
   ]
  },
  {
   "cell_type": "code",
   "execution_count": 75,
   "metadata": {},
   "outputs": [
    {
     "data": {
      "text/html": [
       "<div><style>\n",
       ".dataframe > thead > tr,\n",
       ".dataframe > tbody > tr {\n",
       "  text-align: right;\n",
       "  white-space: pre-wrap;\n",
       "}\n",
       "</style>\n",
       "<small>shape: (1_742_968, 2)</small><table border=\"1\" class=\"dataframe\"><thead><tr><th>genre_pair</th><th>averageRating</th></tr><tr><td>str</td><td>f64</td></tr></thead><tbody><tr><td>&quot;Documentary, Short&quot;</td><td>5.7</td></tr><tr><td>&quot;Animation, Short&quot;</td><td>5.8</td></tr><tr><td>&quot;Animation, Comedy&quot;</td><td>6.5</td></tr><tr><td>&quot;Animation, Romance&quot;</td><td>6.5</td></tr><tr><td>&quot;Comedy, Romance&quot;</td><td>6.5</td></tr><tr><td>&hellip;</td><td>&hellip;</td></tr><tr><td>&quot;Adventure, Comedy&quot;</td><td>8.8</td></tr><tr><td>&quot;Animation, Comedy&quot;</td><td>8.8</td></tr><tr><td>&quot;Adventure, Animation&quot;</td><td>8.2</td></tr><tr><td>&quot;Adventure, Comedy&quot;</td><td>8.2</td></tr><tr><td>&quot;Animation, Comedy&quot;</td><td>8.2</td></tr></tbody></table></div>"
      ],
      "text/plain": [
       "shape: (1_742_968, 2)\n",
       "┌──────────────────────┬───────────────┐\n",
       "│ genre_pair           ┆ averageRating │\n",
       "│ ---                  ┆ ---           │\n",
       "│ str                  ┆ f64           │\n",
       "╞══════════════════════╪═══════════════╡\n",
       "│ Documentary, Short   ┆ 5.7           │\n",
       "│ Animation, Short     ┆ 5.8           │\n",
       "│ Animation, Comedy    ┆ 6.5           │\n",
       "│ Animation, Romance   ┆ 6.5           │\n",
       "│ Comedy, Romance      ┆ 6.5           │\n",
       "│ …                    ┆ …             │\n",
       "│ Adventure, Comedy    ┆ 8.8           │\n",
       "│ Animation, Comedy    ┆ 8.8           │\n",
       "│ Adventure, Animation ┆ 8.2           │\n",
       "│ Adventure, Comedy    ┆ 8.2           │\n",
       "│ Animation, Comedy    ┆ 8.2           │\n",
       "└──────────────────────┴───────────────┘"
      ]
     },
     "execution_count": 75,
     "metadata": {},
     "output_type": "execute_result"
    }
   ],
   "source": [
    "df_pairs = (\n",
    "    df_genres\n",
    "    .join(df_genres, on=\"tconst\", suffix=\"_pair\")  # Join on tconst to get all genre pairs within the same movie\n",
    "    .filter(pl.col(\"genre_list\") < pl.col(\"genre_list_pair\"))  # Filter to avoid duplicate pairs (A, B) and (B, A)\n",
    "    .select([\n",
    "        pl.concat_str([pl.col(\"genre_list\"), pl.col(\"genre_list_pair\")], separator=\", \").alias(\"genre_pair\"),  # Combine pairs into a single string\n",
    "        pl.col(\"averageRating\"),\n",
    "    ])\n",
    ")\n",
    "\n",
    "df_pairs.collect()\n"
   ]
  },
  {
   "cell_type": "code",
   "execution_count": 76,
   "metadata": {},
   "outputs": [
    {
     "data": {
      "text/html": [
       "<div><style>\n",
       ".dataframe > thead > tr,\n",
       ".dataframe > tbody > tr {\n",
       "  text-align: right;\n",
       "  white-space: pre-wrap;\n",
       "}\n",
       "</style>\n",
       "<small>shape: (362, 4)</small><table border=\"1\" class=\"dataframe\"><thead><tr><th>genre_pair</th><th>avgRating</th><th>count</th><th>weightedRating</th></tr><tr><td>str</td><td>f64</td><td>u32</td><td>f64</td></tr></thead><tbody><tr><td>&quot;Reality-TV, War&quot;</td><td>7.590909</td><td>11</td><td>0.633841</td></tr><tr><td>&quot;Family, Romance&quot;</td><td>7.243445</td><td>4134</td><td>216.900603</td></tr><tr><td>&quot;Romance, Talk-Show&quot;</td><td>5.622222</td><td>9</td><td>0.284484</td></tr><tr><td>&quot;Comedy, Fantasy&quot;</td><td>7.09934</td><td>15449</td><td>778.639257</td></tr><tr><td>&quot;Crime, Short&quot;</td><td>7.240094</td><td>2554</td><td>133.878026</td></tr><tr><td>&hellip;</td><td>&hellip;</td><td>&hellip;</td><td>&hellip;</td></tr><tr><td>&quot;Crime, Reality-TV&quot;</td><td>7.483815</td><td>2459</td><td>137.722394</td></tr><tr><td>&quot;Horror, Thriller&quot;</td><td>5.43815</td><td>7890</td><td>233.334683</td></tr><tr><td>&quot;Horror, Romance&quot;</td><td>6.282262</td><td>778</td><td>30.705185</td></tr><tr><td>&quot;Animation, Drama&quot;</td><td>7.360141</td><td>17424</td><td>943.887322</td></tr><tr><td>&quot;Adventure, Fantasy&quot;</td><td>7.048543</td><td>9542</td><td>474.065285</td></tr></tbody></table></div>"
      ],
      "text/plain": [
       "shape: (362, 4)\n",
       "┌────────────────────┬───────────┬───────┬────────────────┐\n",
       "│ genre_pair         ┆ avgRating ┆ count ┆ weightedRating │\n",
       "│ ---                ┆ ---       ┆ ---   ┆ ---            │\n",
       "│ str                ┆ f64       ┆ u32   ┆ f64            │\n",
       "╞════════════════════╪═══════════╪═══════╪════════════════╡\n",
       "│ Reality-TV, War    ┆ 7.590909  ┆ 11    ┆ 0.633841       │\n",
       "│ Family, Romance    ┆ 7.243445  ┆ 4134  ┆ 216.900603     │\n",
       "│ Romance, Talk-Show ┆ 5.622222  ┆ 9     ┆ 0.284484       │\n",
       "│ Comedy, Fantasy    ┆ 7.09934   ┆ 15449 ┆ 778.639257     │\n",
       "│ Crime, Short       ┆ 7.240094  ┆ 2554  ┆ 133.878026     │\n",
       "│ …                  ┆ …         ┆ …     ┆ …              │\n",
       "│ Crime, Reality-TV  ┆ 7.483815  ┆ 2459  ┆ 137.722394     │\n",
       "│ Horror, Thriller   ┆ 5.43815   ┆ 7890  ┆ 233.334683     │\n",
       "│ Horror, Romance    ┆ 6.282262  ┆ 778   ┆ 30.705185      │\n",
       "│ Animation, Drama   ┆ 7.360141  ┆ 17424 ┆ 943.887322     │\n",
       "│ Adventure, Fantasy ┆ 7.048543  ┆ 9542  ┆ 474.065285     │\n",
       "└────────────────────┴───────────┴───────┴────────────────┘"
      ]
     },
     "execution_count": 76,
     "metadata": {},
     "output_type": "execute_result"
    }
   ],
   "source": [
    "genre_pair_stats = (\n",
    "    df_pairs\n",
    "    .group_by(\"genre_pair\")\n",
    "    .agg([\n",
    "        pl.col(\"averageRating\").mean().alias(\"avgRating\"),  # Calculate the average rating per genre pair\n",
    "        pl.col(\"genre_pair\").count().alias(\"count\")  # Count of each genre pair\n",
    "    ])\n",
    "    .with_columns([\n",
    "        (pl.col(\"avgRating\") ** rating_preference * pl.col(\"count\") / 1000).alias(\"weightedRating\")  # Calculate a weighted rating\n",
    "    ])\n",
    "    # .sort(\"count\", descending=True)  \n",
    ")\n",
    "\n",
    "genre_pair_stats.collect()"
   ]
  },
  {
   "cell_type": "code",
   "execution_count": 77,
   "metadata": {},
   "outputs": [
    {
     "data": {
      "application/vnd.plotly.v1+json": {
       "config": {
        "plotlyServerURL": "https://plot.ly"
       },
       "data": [
        {
         "alignmentgroup": "True",
         "hovertemplate": "Genre Pair=%{x}<br>Number of Movies=%{y}<br>Average Rating=%{marker.color}<extra></extra>",
         "legendgroup": "",
         "marker": {
          "color": [
           7.250644309359506,
           7.173250445727461,
           7.214182855590288,
           7.202483512396029,
           7.10950447390947,
           6.985385325943639,
           7.334393395799179,
           7.170372430316386,
           7.173901825735213,
           7.285773805198271,
           7.080995838138756,
           7.052459845706389,
           6.934917381836871,
           6.904787398650781,
           7.1190724134606915,
           7.344102968216477,
           6.987156919513609,
           7.258871190862056,
           6.933963250371896,
           7.104165112520205
          ],
          "coloraxis": "coloraxis",
          "pattern": {
           "shape": ""
          }
         },
         "name": "",
         "offsetgroup": "",
         "orientation": "v",
         "showlegend": false,
         "textposition": "auto",
         "type": "bar",
         "x": [
          "Crime, Drama",
          "Comedy, Drama",
          "Action, Adventure",
          "Adventure, Animation",
          "Animation, Comedy",
          "Drama, Romance",
          "Action, Animation",
          "Comedy, Family",
          "Action, Drama",
          "Drama, Mystery",
          "Drama, Short",
          "Adventure, Comedy",
          "Comedy, Romance",
          "Comedy, Short",
          "Action, Crime",
          "Crime, Mystery",
          "Action, Comedy",
          "Drama, Family",
          "Comedy, Talk-Show",
          "Adventure, Drama"
         ],
         "xaxis": "x",
         "y": [
          87846,
          84693,
          73610,
          69901,
          67726,
          60624,
          57418,
          46747,
          45735,
          41283,
          39886,
          39535,
          39035,
          32314,
          31113,
          30456,
          25905,
          25301,
          24871,
          24129
         ],
         "yaxis": "y"
        }
       ],
       "layout": {
        "barmode": "relative",
        "coloraxis": {
         "colorbar": {
          "title": {
           "text": "Average Rating"
          }
         },
         "colorscale": [
          [
           0,
           "#440154"
          ],
          [
           0.1111111111111111,
           "#482878"
          ],
          [
           0.2222222222222222,
           "#3e4989"
          ],
          [
           0.3333333333333333,
           "#31688e"
          ],
          [
           0.4444444444444444,
           "#26828e"
          ],
          [
           0.5555555555555556,
           "#1f9e89"
          ],
          [
           0.6666666666666666,
           "#35b779"
          ],
          [
           0.7777777777777778,
           "#6ece58"
          ],
          [
           0.8888888888888888,
           "#b5de2b"
          ],
          [
           1,
           "#fde725"
          ]
         ]
        },
        "legend": {
         "tracegroupgap": 0
        },
        "template": {
         "data": {
          "bar": [
           {
            "error_x": {
             "color": "#f2f5fa"
            },
            "error_y": {
             "color": "#f2f5fa"
            },
            "marker": {
             "line": {
              "color": "rgb(17,17,17)",
              "width": 0.5
             },
             "pattern": {
              "fillmode": "overlay",
              "size": 10,
              "solidity": 0.2
             }
            },
            "type": "bar"
           }
          ],
          "barpolar": [
           {
            "marker": {
             "line": {
              "color": "rgb(17,17,17)",
              "width": 0.5
             },
             "pattern": {
              "fillmode": "overlay",
              "size": 10,
              "solidity": 0.2
             }
            },
            "type": "barpolar"
           }
          ],
          "carpet": [
           {
            "aaxis": {
             "endlinecolor": "#A2B1C6",
             "gridcolor": "#506784",
             "linecolor": "#506784",
             "minorgridcolor": "#506784",
             "startlinecolor": "#A2B1C6"
            },
            "baxis": {
             "endlinecolor": "#A2B1C6",
             "gridcolor": "#506784",
             "linecolor": "#506784",
             "minorgridcolor": "#506784",
             "startlinecolor": "#A2B1C6"
            },
            "type": "carpet"
           }
          ],
          "choropleth": [
           {
            "colorbar": {
             "outlinewidth": 0,
             "ticks": ""
            },
            "type": "choropleth"
           }
          ],
          "contour": [
           {
            "colorbar": {
             "outlinewidth": 0,
             "ticks": ""
            },
            "colorscale": [
             [
              0,
              "#0d0887"
             ],
             [
              0.1111111111111111,
              "#46039f"
             ],
             [
              0.2222222222222222,
              "#7201a8"
             ],
             [
              0.3333333333333333,
              "#9c179e"
             ],
             [
              0.4444444444444444,
              "#bd3786"
             ],
             [
              0.5555555555555556,
              "#d8576b"
             ],
             [
              0.6666666666666666,
              "#ed7953"
             ],
             [
              0.7777777777777778,
              "#fb9f3a"
             ],
             [
              0.8888888888888888,
              "#fdca26"
             ],
             [
              1,
              "#f0f921"
             ]
            ],
            "type": "contour"
           }
          ],
          "contourcarpet": [
           {
            "colorbar": {
             "outlinewidth": 0,
             "ticks": ""
            },
            "type": "contourcarpet"
           }
          ],
          "heatmap": [
           {
            "colorbar": {
             "outlinewidth": 0,
             "ticks": ""
            },
            "colorscale": [
             [
              0,
              "#0d0887"
             ],
             [
              0.1111111111111111,
              "#46039f"
             ],
             [
              0.2222222222222222,
              "#7201a8"
             ],
             [
              0.3333333333333333,
              "#9c179e"
             ],
             [
              0.4444444444444444,
              "#bd3786"
             ],
             [
              0.5555555555555556,
              "#d8576b"
             ],
             [
              0.6666666666666666,
              "#ed7953"
             ],
             [
              0.7777777777777778,
              "#fb9f3a"
             ],
             [
              0.8888888888888888,
              "#fdca26"
             ],
             [
              1,
              "#f0f921"
             ]
            ],
            "type": "heatmap"
           }
          ],
          "heatmapgl": [
           {
            "colorbar": {
             "outlinewidth": 0,
             "ticks": ""
            },
            "colorscale": [
             [
              0,
              "#0d0887"
             ],
             [
              0.1111111111111111,
              "#46039f"
             ],
             [
              0.2222222222222222,
              "#7201a8"
             ],
             [
              0.3333333333333333,
              "#9c179e"
             ],
             [
              0.4444444444444444,
              "#bd3786"
             ],
             [
              0.5555555555555556,
              "#d8576b"
             ],
             [
              0.6666666666666666,
              "#ed7953"
             ],
             [
              0.7777777777777778,
              "#fb9f3a"
             ],
             [
              0.8888888888888888,
              "#fdca26"
             ],
             [
              1,
              "#f0f921"
             ]
            ],
            "type": "heatmapgl"
           }
          ],
          "histogram": [
           {
            "marker": {
             "pattern": {
              "fillmode": "overlay",
              "size": 10,
              "solidity": 0.2
             }
            },
            "type": "histogram"
           }
          ],
          "histogram2d": [
           {
            "colorbar": {
             "outlinewidth": 0,
             "ticks": ""
            },
            "colorscale": [
             [
              0,
              "#0d0887"
             ],
             [
              0.1111111111111111,
              "#46039f"
             ],
             [
              0.2222222222222222,
              "#7201a8"
             ],
             [
              0.3333333333333333,
              "#9c179e"
             ],
             [
              0.4444444444444444,
              "#bd3786"
             ],
             [
              0.5555555555555556,
              "#d8576b"
             ],
             [
              0.6666666666666666,
              "#ed7953"
             ],
             [
              0.7777777777777778,
              "#fb9f3a"
             ],
             [
              0.8888888888888888,
              "#fdca26"
             ],
             [
              1,
              "#f0f921"
             ]
            ],
            "type": "histogram2d"
           }
          ],
          "histogram2dcontour": [
           {
            "colorbar": {
             "outlinewidth": 0,
             "ticks": ""
            },
            "colorscale": [
             [
              0,
              "#0d0887"
             ],
             [
              0.1111111111111111,
              "#46039f"
             ],
             [
              0.2222222222222222,
              "#7201a8"
             ],
             [
              0.3333333333333333,
              "#9c179e"
             ],
             [
              0.4444444444444444,
              "#bd3786"
             ],
             [
              0.5555555555555556,
              "#d8576b"
             ],
             [
              0.6666666666666666,
              "#ed7953"
             ],
             [
              0.7777777777777778,
              "#fb9f3a"
             ],
             [
              0.8888888888888888,
              "#fdca26"
             ],
             [
              1,
              "#f0f921"
             ]
            ],
            "type": "histogram2dcontour"
           }
          ],
          "mesh3d": [
           {
            "colorbar": {
             "outlinewidth": 0,
             "ticks": ""
            },
            "type": "mesh3d"
           }
          ],
          "parcoords": [
           {
            "line": {
             "colorbar": {
              "outlinewidth": 0,
              "ticks": ""
             }
            },
            "type": "parcoords"
           }
          ],
          "pie": [
           {
            "automargin": true,
            "type": "pie"
           }
          ],
          "scatter": [
           {
            "marker": {
             "line": {
              "color": "#283442"
             }
            },
            "type": "scatter"
           }
          ],
          "scatter3d": [
           {
            "line": {
             "colorbar": {
              "outlinewidth": 0,
              "ticks": ""
             }
            },
            "marker": {
             "colorbar": {
              "outlinewidth": 0,
              "ticks": ""
             }
            },
            "type": "scatter3d"
           }
          ],
          "scattercarpet": [
           {
            "marker": {
             "colorbar": {
              "outlinewidth": 0,
              "ticks": ""
             }
            },
            "type": "scattercarpet"
           }
          ],
          "scattergeo": [
           {
            "marker": {
             "colorbar": {
              "outlinewidth": 0,
              "ticks": ""
             }
            },
            "type": "scattergeo"
           }
          ],
          "scattergl": [
           {
            "marker": {
             "line": {
              "color": "#283442"
             }
            },
            "type": "scattergl"
           }
          ],
          "scattermapbox": [
           {
            "marker": {
             "colorbar": {
              "outlinewidth": 0,
              "ticks": ""
             }
            },
            "type": "scattermapbox"
           }
          ],
          "scatterpolar": [
           {
            "marker": {
             "colorbar": {
              "outlinewidth": 0,
              "ticks": ""
             }
            },
            "type": "scatterpolar"
           }
          ],
          "scatterpolargl": [
           {
            "marker": {
             "colorbar": {
              "outlinewidth": 0,
              "ticks": ""
             }
            },
            "type": "scatterpolargl"
           }
          ],
          "scatterternary": [
           {
            "marker": {
             "colorbar": {
              "outlinewidth": 0,
              "ticks": ""
             }
            },
            "type": "scatterternary"
           }
          ],
          "surface": [
           {
            "colorbar": {
             "outlinewidth": 0,
             "ticks": ""
            },
            "colorscale": [
             [
              0,
              "#0d0887"
             ],
             [
              0.1111111111111111,
              "#46039f"
             ],
             [
              0.2222222222222222,
              "#7201a8"
             ],
             [
              0.3333333333333333,
              "#9c179e"
             ],
             [
              0.4444444444444444,
              "#bd3786"
             ],
             [
              0.5555555555555556,
              "#d8576b"
             ],
             [
              0.6666666666666666,
              "#ed7953"
             ],
             [
              0.7777777777777778,
              "#fb9f3a"
             ],
             [
              0.8888888888888888,
              "#fdca26"
             ],
             [
              1,
              "#f0f921"
             ]
            ],
            "type": "surface"
           }
          ],
          "table": [
           {
            "cells": {
             "fill": {
              "color": "#506784"
             },
             "line": {
              "color": "rgb(17,17,17)"
             }
            },
            "header": {
             "fill": {
              "color": "#2a3f5f"
             },
             "line": {
              "color": "rgb(17,17,17)"
             }
            },
            "type": "table"
           }
          ]
         },
         "layout": {
          "annotationdefaults": {
           "arrowcolor": "#f2f5fa",
           "arrowhead": 0,
           "arrowwidth": 1
          },
          "autotypenumbers": "strict",
          "coloraxis": {
           "colorbar": {
            "outlinewidth": 0,
            "ticks": ""
           }
          },
          "colorscale": {
           "diverging": [
            [
             0,
             "#8e0152"
            ],
            [
             0.1,
             "#c51b7d"
            ],
            [
             0.2,
             "#de77ae"
            ],
            [
             0.3,
             "#f1b6da"
            ],
            [
             0.4,
             "#fde0ef"
            ],
            [
             0.5,
             "#f7f7f7"
            ],
            [
             0.6,
             "#e6f5d0"
            ],
            [
             0.7,
             "#b8e186"
            ],
            [
             0.8,
             "#7fbc41"
            ],
            [
             0.9,
             "#4d9221"
            ],
            [
             1,
             "#276419"
            ]
           ],
           "sequential": [
            [
             0,
             "#0d0887"
            ],
            [
             0.1111111111111111,
             "#46039f"
            ],
            [
             0.2222222222222222,
             "#7201a8"
            ],
            [
             0.3333333333333333,
             "#9c179e"
            ],
            [
             0.4444444444444444,
             "#bd3786"
            ],
            [
             0.5555555555555556,
             "#d8576b"
            ],
            [
             0.6666666666666666,
             "#ed7953"
            ],
            [
             0.7777777777777778,
             "#fb9f3a"
            ],
            [
             0.8888888888888888,
             "#fdca26"
            ],
            [
             1,
             "#f0f921"
            ]
           ],
           "sequentialminus": [
            [
             0,
             "#0d0887"
            ],
            [
             0.1111111111111111,
             "#46039f"
            ],
            [
             0.2222222222222222,
             "#7201a8"
            ],
            [
             0.3333333333333333,
             "#9c179e"
            ],
            [
             0.4444444444444444,
             "#bd3786"
            ],
            [
             0.5555555555555556,
             "#d8576b"
            ],
            [
             0.6666666666666666,
             "#ed7953"
            ],
            [
             0.7777777777777778,
             "#fb9f3a"
            ],
            [
             0.8888888888888888,
             "#fdca26"
            ],
            [
             1,
             "#f0f921"
            ]
           ]
          },
          "colorway": [
           "#636efa",
           "#EF553B",
           "#00cc96",
           "#ab63fa",
           "#FFA15A",
           "#19d3f3",
           "#FF6692",
           "#B6E880",
           "#FF97FF",
           "#FECB52"
          ],
          "font": {
           "color": "#f2f5fa"
          },
          "geo": {
           "bgcolor": "rgb(17,17,17)",
           "lakecolor": "rgb(17,17,17)",
           "landcolor": "rgb(17,17,17)",
           "showlakes": true,
           "showland": true,
           "subunitcolor": "#506784"
          },
          "hoverlabel": {
           "align": "left"
          },
          "hovermode": "closest",
          "mapbox": {
           "style": "dark"
          },
          "paper_bgcolor": "rgb(17,17,17)",
          "plot_bgcolor": "rgb(17,17,17)",
          "polar": {
           "angularaxis": {
            "gridcolor": "#506784",
            "linecolor": "#506784",
            "ticks": ""
           },
           "bgcolor": "rgb(17,17,17)",
           "radialaxis": {
            "gridcolor": "#506784",
            "linecolor": "#506784",
            "ticks": ""
           }
          },
          "scene": {
           "xaxis": {
            "backgroundcolor": "rgb(17,17,17)",
            "gridcolor": "#506784",
            "gridwidth": 2,
            "linecolor": "#506784",
            "showbackground": true,
            "ticks": "",
            "zerolinecolor": "#C8D4E3"
           },
           "yaxis": {
            "backgroundcolor": "rgb(17,17,17)",
            "gridcolor": "#506784",
            "gridwidth": 2,
            "linecolor": "#506784",
            "showbackground": true,
            "ticks": "",
            "zerolinecolor": "#C8D4E3"
           },
           "zaxis": {
            "backgroundcolor": "rgb(17,17,17)",
            "gridcolor": "#506784",
            "gridwidth": 2,
            "linecolor": "#506784",
            "showbackground": true,
            "ticks": "",
            "zerolinecolor": "#C8D4E3"
           }
          },
          "shapedefaults": {
           "line": {
            "color": "#f2f5fa"
           }
          },
          "sliderdefaults": {
           "bgcolor": "#C8D4E3",
           "bordercolor": "rgb(17,17,17)",
           "borderwidth": 1,
           "tickwidth": 0
          },
          "ternary": {
           "aaxis": {
            "gridcolor": "#506784",
            "linecolor": "#506784",
            "ticks": ""
           },
           "baxis": {
            "gridcolor": "#506784",
            "linecolor": "#506784",
            "ticks": ""
           },
           "bgcolor": "rgb(17,17,17)",
           "caxis": {
            "gridcolor": "#506784",
            "linecolor": "#506784",
            "ticks": ""
           }
          },
          "title": {
           "x": 0.05
          },
          "updatemenudefaults": {
           "bgcolor": "#506784",
           "borderwidth": 0
          },
          "xaxis": {
           "automargin": true,
           "gridcolor": "#283442",
           "linecolor": "#506784",
           "ticks": "",
           "title": {
            "standoff": 15
           },
           "zerolinecolor": "#283442",
           "zerolinewidth": 2
          },
          "yaxis": {
           "automargin": true,
           "gridcolor": "#283442",
           "linecolor": "#506784",
           "ticks": "",
           "title": {
            "standoff": 15
           },
           "zerolinecolor": "#283442",
           "zerolinewidth": 2
          }
         }
        },
        "title": {
         "text": "Top 20 Genre Pair Combinations by Popularity and Average Rating"
        },
        "xaxis": {
         "anchor": "y",
         "domain": [
          0,
          1
         ],
         "tickangle": -45,
         "title": {
          "text": "Genre Pair"
         }
        },
        "yaxis": {
         "anchor": "x",
         "domain": [
          0,
          1
         ],
         "title": {
          "text": "Number of Movies"
         }
        }
       }
      }
     },
     "metadata": {},
     "output_type": "display_data"
    }
   ],
   "source": [
    "# Select the top genre pairs by count for better visualization\n",
    "top_genre_pairs = genre_pair_stats.collect().sort(\"count\", descending=True).head(20)\n",
    "\n",
    "# Create a bar chart showing average rating and count for each genre pair\n",
    "fig = px.bar(\n",
    "    top_genre_pairs.to_pandas(),  # Convert Polars DataFrame to Pandas for compatibility with Plotly\n",
    "    x=\"genre_pair\",\n",
    "    y=\"count\",\n",
    "    color=\"avgRating\",\n",
    "    title=\"Top 20 Genre Pair Combinations by Popularity and Average Rating\",\n",
    "    labels={\"genre_pair\": \"Genre Pair\", \"count\": \"Number of Movies\", \"avgRating\": \"Average Rating\"},\n",
    "    color_continuous_scale=\"Viridis\",\n",
    "    template=theme\n",
    ")\n",
    "\n",
    "# Update layout for readability\n",
    "fig.update_layout(\n",
    "    xaxis_tickangle=-45,\n",
    "    xaxis_title=\"Genre Pair\",\n",
    "    yaxis_title=\"Number of Movies\",\n",
    "    coloraxis_colorbar=dict(title=\"Average Rating\"),\n",
    ")\n",
    "\n",
    "# Show the plot\n",
    "fig.show()"
   ]
  },
  {
   "cell_type": "code",
   "execution_count": 83,
   "metadata": {},
   "outputs": [
    {
     "data": {
      "text/html": [
       "<div><style>\n",
       ".dataframe > thead > tr,\n",
       ".dataframe > tbody > tr {\n",
       "  text-align: right;\n",
       "  white-space: pre-wrap;\n",
       "}\n",
       "</style>\n",
       "<small>shape: (29, 5)</small><table border=\"1\" class=\"dataframe\"><thead><tr><th>genres</th><th>medianRating</th><th>q1Rating</th><th>q3Rating</th><th>stdDevRating</th></tr><tr><td>str</td><td>f64</td><td>f64</td><td>f64</td><td>f64</td></tr></thead><tbody><tr><td>&quot;History&quot;</td><td>7.5</td><td>6.8</td><td>8.1</td><td>1.13295</td></tr><tr><td>&quot;Animation&quot;</td><td>7.2</td><td>6.5</td><td>7.9</td><td>1.213502</td></tr><tr><td>&quot;Western&quot;</td><td>7.2</td><td>6.2</td><td>7.9</td><td>1.207348</td></tr><tr><td>&quot;Romance&quot;</td><td>7.0</td><td>6.0</td><td>7.9</td><td>1.376029</td></tr><tr><td>&quot;Sci-Fi&quot;</td><td>7.0</td><td>5.9</td><td>7.7</td><td>1.488314</td></tr><tr><td>&hellip;</td><td>&hellip;</td><td>&hellip;</td><td>&hellip;</td><td>&hellip;</td></tr><tr><td>&quot;Sport&quot;</td><td>7.2</td><td>6.4</td><td>7.9</td><td>1.19994</td></tr><tr><td>&quot;Fantasy&quot;</td><td>7.3</td><td>6.4</td><td>8.0</td><td>1.318804</td></tr><tr><td>&quot;Comedy&quot;</td><td>7.2</td><td>6.3</td><td>7.9</td><td>1.33825</td></tr><tr><td>&quot;News&quot;</td><td>7.0</td><td>6.0</td><td>7.7</td><td>1.610308</td></tr><tr><td>&quot;Reality-TV&quot;</td><td>7.2</td><td>6.3</td><td>7.9</td><td>1.383505</td></tr></tbody></table></div>"
      ],
      "text/plain": [
       "shape: (29, 5)\n",
       "┌────────────┬──────────────┬──────────┬──────────┬──────────────┐\n",
       "│ genres     ┆ medianRating ┆ q1Rating ┆ q3Rating ┆ stdDevRating │\n",
       "│ ---        ┆ ---          ┆ ---      ┆ ---      ┆ ---          │\n",
       "│ str        ┆ f64          ┆ f64      ┆ f64      ┆ f64          │\n",
       "╞════════════╪══════════════╪══════════╪══════════╪══════════════╡\n",
       "│ History    ┆ 7.5          ┆ 6.8      ┆ 8.1      ┆ 1.13295      │\n",
       "│ Animation  ┆ 7.2          ┆ 6.5      ┆ 7.9      ┆ 1.213502     │\n",
       "│ Western    ┆ 7.2          ┆ 6.2      ┆ 7.9      ┆ 1.207348     │\n",
       "│ Romance    ┆ 7.0          ┆ 6.0      ┆ 7.9      ┆ 1.376029     │\n",
       "│ Sci-Fi     ┆ 7.0          ┆ 5.9      ┆ 7.7      ┆ 1.488314     │\n",
       "│ …          ┆ …            ┆ …        ┆ …        ┆ …            │\n",
       "│ Sport      ┆ 7.2          ┆ 6.4      ┆ 7.9      ┆ 1.19994      │\n",
       "│ Fantasy    ┆ 7.3          ┆ 6.4      ┆ 8.0      ┆ 1.318804     │\n",
       "│ Comedy     ┆ 7.2          ┆ 6.3      ┆ 7.9      ┆ 1.33825      │\n",
       "│ News       ┆ 7.0          ┆ 6.0      ┆ 7.7      ┆ 1.610308     │\n",
       "│ Reality-TV ┆ 7.2          ┆ 6.3      ┆ 7.9      ┆ 1.383505     │\n",
       "└────────────┴──────────────┴──────────┴──────────┴──────────────┘"
      ]
     },
     "execution_count": 83,
     "metadata": {},
     "output_type": "execute_result"
    }
   ],
   "source": [
    "rating_distribution = (\n",
    "    df.lazy()\n",
    "    .select([pl.col(\"genres\"), pl.col(\"averageRating\")])\n",
    "    .with_columns(pl.col(\"genres\").str.split(\",\").alias(\"genres\"))  # Split genres into lists\n",
    "    .explode(\"genres\")  # Expand list to separate rows\n",
    "    .group_by(\"genres\")\n",
    "    .agg([\n",
    "        pl.col(\"averageRating\").median().alias(\"medianRating\"),\n",
    "        pl.col(\"averageRating\").quantile(0.25).alias(\"q1Rating\"),  # 25th percentile\n",
    "        pl.col(\"averageRating\").quantile(0.75).alias(\"q3Rating\"),  # 75th percentile\n",
    "        pl.col(\"averageRating\").std().alias(\"stdDevRating\")  # Standard deviation\n",
    "    ])\n",
    ")\n",
    "\n",
    "rating_distribution.collect()"
   ]
  },
  {
   "cell_type": "code",
   "execution_count": 85,
   "metadata": {},
   "outputs": [
    {
     "data": {
      "application/vnd.plotly.v1+json": {
       "config": {
        "plotlyServerURL": "https://plot.ly"
       },
       "data": [
        {
         "alignmentgroup": "True",
         "boxpoints": "all",
         "hovertemplate": "Genre=%{x}<br>Median Rating=%{y}<extra></extra>",
         "legendgroup": "",
         "marker": {
          "color": "#636efa"
         },
         "name": "",
         "notched": false,
         "offsetgroup": "",
         "orientation": "v",
         "showlegend": false,
         "type": "box",
         "x": [
          "History",
          null,
          "Sci-Fi",
          "News",
          "Film-Noir",
          "Western",
          "Talk-Show",
          "Action",
          "Thriller",
          "Sport",
          "Romance",
          "Short",
          "Adult",
          "Fantasy",
          "Adventure",
          "Game-Show",
          "Comedy",
          "Drama",
          "Animation",
          "War",
          "Family",
          "Music",
          "Musical",
          "Crime",
          "Mystery",
          "Documentary",
          "Reality-TV",
          "Horror",
          "Biography"
         ],
         "x0": " ",
         "xaxis": "x",
         "y": [
          7.5,
          6.6,
          7,
          7,
          6.5,
          7.2,
          7.1,
          7.3,
          6.6,
          7.2,
          7,
          6.9,
          6.4,
          7.3,
          7.3,
          7.2,
          7.2,
          7.2,
          7.2,
          7.2,
          7.2,
          7.2,
          6.7,
          7.3,
          7.4,
          7.4,
          7.2,
          6.3,
          7.3
         ],
         "y0": " ",
         "yaxis": "y"
        }
       ],
       "layout": {
        "boxmode": "group",
        "legend": {
         "tracegroupgap": 0
        },
        "template": {
         "data": {
          "bar": [
           {
            "error_x": {
             "color": "#f2f5fa"
            },
            "error_y": {
             "color": "#f2f5fa"
            },
            "marker": {
             "line": {
              "color": "rgb(17,17,17)",
              "width": 0.5
             },
             "pattern": {
              "fillmode": "overlay",
              "size": 10,
              "solidity": 0.2
             }
            },
            "type": "bar"
           }
          ],
          "barpolar": [
           {
            "marker": {
             "line": {
              "color": "rgb(17,17,17)",
              "width": 0.5
             },
             "pattern": {
              "fillmode": "overlay",
              "size": 10,
              "solidity": 0.2
             }
            },
            "type": "barpolar"
           }
          ],
          "carpet": [
           {
            "aaxis": {
             "endlinecolor": "#A2B1C6",
             "gridcolor": "#506784",
             "linecolor": "#506784",
             "minorgridcolor": "#506784",
             "startlinecolor": "#A2B1C6"
            },
            "baxis": {
             "endlinecolor": "#A2B1C6",
             "gridcolor": "#506784",
             "linecolor": "#506784",
             "minorgridcolor": "#506784",
             "startlinecolor": "#A2B1C6"
            },
            "type": "carpet"
           }
          ],
          "choropleth": [
           {
            "colorbar": {
             "outlinewidth": 0,
             "ticks": ""
            },
            "type": "choropleth"
           }
          ],
          "contour": [
           {
            "colorbar": {
             "outlinewidth": 0,
             "ticks": ""
            },
            "colorscale": [
             [
              0,
              "#0d0887"
             ],
             [
              0.1111111111111111,
              "#46039f"
             ],
             [
              0.2222222222222222,
              "#7201a8"
             ],
             [
              0.3333333333333333,
              "#9c179e"
             ],
             [
              0.4444444444444444,
              "#bd3786"
             ],
             [
              0.5555555555555556,
              "#d8576b"
             ],
             [
              0.6666666666666666,
              "#ed7953"
             ],
             [
              0.7777777777777778,
              "#fb9f3a"
             ],
             [
              0.8888888888888888,
              "#fdca26"
             ],
             [
              1,
              "#f0f921"
             ]
            ],
            "type": "contour"
           }
          ],
          "contourcarpet": [
           {
            "colorbar": {
             "outlinewidth": 0,
             "ticks": ""
            },
            "type": "contourcarpet"
           }
          ],
          "heatmap": [
           {
            "colorbar": {
             "outlinewidth": 0,
             "ticks": ""
            },
            "colorscale": [
             [
              0,
              "#0d0887"
             ],
             [
              0.1111111111111111,
              "#46039f"
             ],
             [
              0.2222222222222222,
              "#7201a8"
             ],
             [
              0.3333333333333333,
              "#9c179e"
             ],
             [
              0.4444444444444444,
              "#bd3786"
             ],
             [
              0.5555555555555556,
              "#d8576b"
             ],
             [
              0.6666666666666666,
              "#ed7953"
             ],
             [
              0.7777777777777778,
              "#fb9f3a"
             ],
             [
              0.8888888888888888,
              "#fdca26"
             ],
             [
              1,
              "#f0f921"
             ]
            ],
            "type": "heatmap"
           }
          ],
          "heatmapgl": [
           {
            "colorbar": {
             "outlinewidth": 0,
             "ticks": ""
            },
            "colorscale": [
             [
              0,
              "#0d0887"
             ],
             [
              0.1111111111111111,
              "#46039f"
             ],
             [
              0.2222222222222222,
              "#7201a8"
             ],
             [
              0.3333333333333333,
              "#9c179e"
             ],
             [
              0.4444444444444444,
              "#bd3786"
             ],
             [
              0.5555555555555556,
              "#d8576b"
             ],
             [
              0.6666666666666666,
              "#ed7953"
             ],
             [
              0.7777777777777778,
              "#fb9f3a"
             ],
             [
              0.8888888888888888,
              "#fdca26"
             ],
             [
              1,
              "#f0f921"
             ]
            ],
            "type": "heatmapgl"
           }
          ],
          "histogram": [
           {
            "marker": {
             "pattern": {
              "fillmode": "overlay",
              "size": 10,
              "solidity": 0.2
             }
            },
            "type": "histogram"
           }
          ],
          "histogram2d": [
           {
            "colorbar": {
             "outlinewidth": 0,
             "ticks": ""
            },
            "colorscale": [
             [
              0,
              "#0d0887"
             ],
             [
              0.1111111111111111,
              "#46039f"
             ],
             [
              0.2222222222222222,
              "#7201a8"
             ],
             [
              0.3333333333333333,
              "#9c179e"
             ],
             [
              0.4444444444444444,
              "#bd3786"
             ],
             [
              0.5555555555555556,
              "#d8576b"
             ],
             [
              0.6666666666666666,
              "#ed7953"
             ],
             [
              0.7777777777777778,
              "#fb9f3a"
             ],
             [
              0.8888888888888888,
              "#fdca26"
             ],
             [
              1,
              "#f0f921"
             ]
            ],
            "type": "histogram2d"
           }
          ],
          "histogram2dcontour": [
           {
            "colorbar": {
             "outlinewidth": 0,
             "ticks": ""
            },
            "colorscale": [
             [
              0,
              "#0d0887"
             ],
             [
              0.1111111111111111,
              "#46039f"
             ],
             [
              0.2222222222222222,
              "#7201a8"
             ],
             [
              0.3333333333333333,
              "#9c179e"
             ],
             [
              0.4444444444444444,
              "#bd3786"
             ],
             [
              0.5555555555555556,
              "#d8576b"
             ],
             [
              0.6666666666666666,
              "#ed7953"
             ],
             [
              0.7777777777777778,
              "#fb9f3a"
             ],
             [
              0.8888888888888888,
              "#fdca26"
             ],
             [
              1,
              "#f0f921"
             ]
            ],
            "type": "histogram2dcontour"
           }
          ],
          "mesh3d": [
           {
            "colorbar": {
             "outlinewidth": 0,
             "ticks": ""
            },
            "type": "mesh3d"
           }
          ],
          "parcoords": [
           {
            "line": {
             "colorbar": {
              "outlinewidth": 0,
              "ticks": ""
             }
            },
            "type": "parcoords"
           }
          ],
          "pie": [
           {
            "automargin": true,
            "type": "pie"
           }
          ],
          "scatter": [
           {
            "marker": {
             "line": {
              "color": "#283442"
             }
            },
            "type": "scatter"
           }
          ],
          "scatter3d": [
           {
            "line": {
             "colorbar": {
              "outlinewidth": 0,
              "ticks": ""
             }
            },
            "marker": {
             "colorbar": {
              "outlinewidth": 0,
              "ticks": ""
             }
            },
            "type": "scatter3d"
           }
          ],
          "scattercarpet": [
           {
            "marker": {
             "colorbar": {
              "outlinewidth": 0,
              "ticks": ""
             }
            },
            "type": "scattercarpet"
           }
          ],
          "scattergeo": [
           {
            "marker": {
             "colorbar": {
              "outlinewidth": 0,
              "ticks": ""
             }
            },
            "type": "scattergeo"
           }
          ],
          "scattergl": [
           {
            "marker": {
             "line": {
              "color": "#283442"
             }
            },
            "type": "scattergl"
           }
          ],
          "scattermapbox": [
           {
            "marker": {
             "colorbar": {
              "outlinewidth": 0,
              "ticks": ""
             }
            },
            "type": "scattermapbox"
           }
          ],
          "scatterpolar": [
           {
            "marker": {
             "colorbar": {
              "outlinewidth": 0,
              "ticks": ""
             }
            },
            "type": "scatterpolar"
           }
          ],
          "scatterpolargl": [
           {
            "marker": {
             "colorbar": {
              "outlinewidth": 0,
              "ticks": ""
             }
            },
            "type": "scatterpolargl"
           }
          ],
          "scatterternary": [
           {
            "marker": {
             "colorbar": {
              "outlinewidth": 0,
              "ticks": ""
             }
            },
            "type": "scatterternary"
           }
          ],
          "surface": [
           {
            "colorbar": {
             "outlinewidth": 0,
             "ticks": ""
            },
            "colorscale": [
             [
              0,
              "#0d0887"
             ],
             [
              0.1111111111111111,
              "#46039f"
             ],
             [
              0.2222222222222222,
              "#7201a8"
             ],
             [
              0.3333333333333333,
              "#9c179e"
             ],
             [
              0.4444444444444444,
              "#bd3786"
             ],
             [
              0.5555555555555556,
              "#d8576b"
             ],
             [
              0.6666666666666666,
              "#ed7953"
             ],
             [
              0.7777777777777778,
              "#fb9f3a"
             ],
             [
              0.8888888888888888,
              "#fdca26"
             ],
             [
              1,
              "#f0f921"
             ]
            ],
            "type": "surface"
           }
          ],
          "table": [
           {
            "cells": {
             "fill": {
              "color": "#506784"
             },
             "line": {
              "color": "rgb(17,17,17)"
             }
            },
            "header": {
             "fill": {
              "color": "#2a3f5f"
             },
             "line": {
              "color": "rgb(17,17,17)"
             }
            },
            "type": "table"
           }
          ]
         },
         "layout": {
          "annotationdefaults": {
           "arrowcolor": "#f2f5fa",
           "arrowhead": 0,
           "arrowwidth": 1
          },
          "autotypenumbers": "strict",
          "coloraxis": {
           "colorbar": {
            "outlinewidth": 0,
            "ticks": ""
           }
          },
          "colorscale": {
           "diverging": [
            [
             0,
             "#8e0152"
            ],
            [
             0.1,
             "#c51b7d"
            ],
            [
             0.2,
             "#de77ae"
            ],
            [
             0.3,
             "#f1b6da"
            ],
            [
             0.4,
             "#fde0ef"
            ],
            [
             0.5,
             "#f7f7f7"
            ],
            [
             0.6,
             "#e6f5d0"
            ],
            [
             0.7,
             "#b8e186"
            ],
            [
             0.8,
             "#7fbc41"
            ],
            [
             0.9,
             "#4d9221"
            ],
            [
             1,
             "#276419"
            ]
           ],
           "sequential": [
            [
             0,
             "#0d0887"
            ],
            [
             0.1111111111111111,
             "#46039f"
            ],
            [
             0.2222222222222222,
             "#7201a8"
            ],
            [
             0.3333333333333333,
             "#9c179e"
            ],
            [
             0.4444444444444444,
             "#bd3786"
            ],
            [
             0.5555555555555556,
             "#d8576b"
            ],
            [
             0.6666666666666666,
             "#ed7953"
            ],
            [
             0.7777777777777778,
             "#fb9f3a"
            ],
            [
             0.8888888888888888,
             "#fdca26"
            ],
            [
             1,
             "#f0f921"
            ]
           ],
           "sequentialminus": [
            [
             0,
             "#0d0887"
            ],
            [
             0.1111111111111111,
             "#46039f"
            ],
            [
             0.2222222222222222,
             "#7201a8"
            ],
            [
             0.3333333333333333,
             "#9c179e"
            ],
            [
             0.4444444444444444,
             "#bd3786"
            ],
            [
             0.5555555555555556,
             "#d8576b"
            ],
            [
             0.6666666666666666,
             "#ed7953"
            ],
            [
             0.7777777777777778,
             "#fb9f3a"
            ],
            [
             0.8888888888888888,
             "#fdca26"
            ],
            [
             1,
             "#f0f921"
            ]
           ]
          },
          "colorway": [
           "#636efa",
           "#EF553B",
           "#00cc96",
           "#ab63fa",
           "#FFA15A",
           "#19d3f3",
           "#FF6692",
           "#B6E880",
           "#FF97FF",
           "#FECB52"
          ],
          "font": {
           "color": "#f2f5fa"
          },
          "geo": {
           "bgcolor": "rgb(17,17,17)",
           "lakecolor": "rgb(17,17,17)",
           "landcolor": "rgb(17,17,17)",
           "showlakes": true,
           "showland": true,
           "subunitcolor": "#506784"
          },
          "hoverlabel": {
           "align": "left"
          },
          "hovermode": "closest",
          "mapbox": {
           "style": "dark"
          },
          "paper_bgcolor": "rgb(17,17,17)",
          "plot_bgcolor": "rgb(17,17,17)",
          "polar": {
           "angularaxis": {
            "gridcolor": "#506784",
            "linecolor": "#506784",
            "ticks": ""
           },
           "bgcolor": "rgb(17,17,17)",
           "radialaxis": {
            "gridcolor": "#506784",
            "linecolor": "#506784",
            "ticks": ""
           }
          },
          "scene": {
           "xaxis": {
            "backgroundcolor": "rgb(17,17,17)",
            "gridcolor": "#506784",
            "gridwidth": 2,
            "linecolor": "#506784",
            "showbackground": true,
            "ticks": "",
            "zerolinecolor": "#C8D4E3"
           },
           "yaxis": {
            "backgroundcolor": "rgb(17,17,17)",
            "gridcolor": "#506784",
            "gridwidth": 2,
            "linecolor": "#506784",
            "showbackground": true,
            "ticks": "",
            "zerolinecolor": "#C8D4E3"
           },
           "zaxis": {
            "backgroundcolor": "rgb(17,17,17)",
            "gridcolor": "#506784",
            "gridwidth": 2,
            "linecolor": "#506784",
            "showbackground": true,
            "ticks": "",
            "zerolinecolor": "#C8D4E3"
           }
          },
          "shapedefaults": {
           "line": {
            "color": "#f2f5fa"
           }
          },
          "sliderdefaults": {
           "bgcolor": "#C8D4E3",
           "bordercolor": "rgb(17,17,17)",
           "borderwidth": 1,
           "tickwidth": 0
          },
          "ternary": {
           "aaxis": {
            "gridcolor": "#506784",
            "linecolor": "#506784",
            "ticks": ""
           },
           "baxis": {
            "gridcolor": "#506784",
            "linecolor": "#506784",
            "ticks": ""
           },
           "bgcolor": "rgb(17,17,17)",
           "caxis": {
            "gridcolor": "#506784",
            "linecolor": "#506784",
            "ticks": ""
           }
          },
          "title": {
           "x": 0.05
          },
          "updatemenudefaults": {
           "bgcolor": "#506784",
           "borderwidth": 0
          },
          "xaxis": {
           "automargin": true,
           "gridcolor": "#283442",
           "linecolor": "#506784",
           "ticks": "",
           "title": {
            "standoff": 15
           },
           "zerolinecolor": "#283442",
           "zerolinewidth": 2
          },
          "yaxis": {
           "automargin": true,
           "gridcolor": "#283442",
           "linecolor": "#506784",
           "ticks": "",
           "title": {
            "standoff": 15
           },
           "zerolinecolor": "#283442",
           "zerolinewidth": 2
          }
         }
        },
        "title": {
         "text": "Rating Distribution by Genre (Median and Spread)"
        },
        "xaxis": {
         "anchor": "y",
         "domain": [
          0,
          1
         ],
         "tickangle": -45,
         "title": {
          "text": "Genre"
         }
        },
        "yaxis": {
         "anchor": "x",
         "domain": [
          0,
          1
         ],
         "title": {
          "text": "Rating Distribution"
         }
        }
       }
      }
     },
     "metadata": {},
     "output_type": "display_data"
    }
   ],
   "source": [
    "\n",
    "# Collect the data and convert to pandas DataFrame\n",
    "rating_distribution_df = rating_distribution.collect().to_pandas()\n",
    "\n",
    "# Create a box plot to show the rating distribution by genre\n",
    "fig = px.box(\n",
    "    rating_distribution_df,\n",
    "    x=\"genres\",\n",
    "    y=\"medianRating\",\n",
    "    title=\"Rating Distribution by Genre (Median and Spread)\",\n",
    "    labels={\"genres\": \"Genre\", \"medianRating\": \"Median Rating\"},\n",
    "    points=\"all\"  # Show all data points for better spread indication\n",
    ")\n",
    "\n",
    "# Customize layout\n",
    "fig.update_layout(\n",
    "    xaxis_tickangle=-45,  # Rotate x-axis labels for readability\n",
    "    yaxis_title=\"Rating Distribution\",\n",
    "    template=theme  # Change the theme if desired\n",
    ")\n",
    "\n",
    "# Show the plot\n",
    "fig.show()"
   ]
  },
  {
   "cell_type": "code",
   "execution_count": null,
   "metadata": {},
   "outputs": [],
   "source": []
  }
 ],
 "metadata": {
  "kernelspec": {
   "display_name": ".venv",
   "language": "python",
   "name": "python3"
  },
  "language_info": {
   "codemirror_mode": {
    "name": "ipython",
    "version": 3
   },
   "file_extension": ".py",
   "mimetype": "text/x-python",
   "name": "python",
   "nbconvert_exporter": "python",
   "pygments_lexer": "ipython3",
   "version": "3.12.7"
  }
 },
 "nbformat": 4,
 "nbformat_minor": 2
}
